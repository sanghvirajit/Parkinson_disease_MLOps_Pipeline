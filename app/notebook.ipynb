{
 "cells": [
  {
   "cell_type": "code",
   "execution_count": 1,
   "metadata": {},
   "outputs": [],
   "source": [
    "import numpy as np\n",
    "import pandas as pd\n",
    "import seaborn as sns\n",
    "import matplotlib.pyplot as plt\n",
    "\n",
    "from sklearn.model_selection import train_test_split\n",
    "from sklearn.feature_extraction import DictVectorizer\n",
    "from sklearn.linear_model import LinearRegression, LogisticRegression\n",
    "\n",
    "from sklearn.metrics import mean_squared_error, root_mean_squared_error\n",
    "from sklearn.metrics import accuracy_score, precision_score, recall_score, f1_score"
   ]
  },
  {
   "cell_type": "code",
   "execution_count": 13,
   "metadata": {},
   "outputs": [],
   "source": [
    "# Show all columns\n",
    "pd.options.display.max_rows = 1000\n",
    "pd.options.display.max_columns = 50"
   ]
  },
  {
   "cell_type": "code",
   "execution_count": 39,
   "metadata": {},
   "outputs": [
    {
     "data": {
      "text/html": [
       "<div>\n",
       "<style scoped>\n",
       "    .dataframe tbody tr th:only-of-type {\n",
       "        vertical-align: middle;\n",
       "    }\n",
       "\n",
       "    .dataframe tbody tr th {\n",
       "        vertical-align: top;\n",
       "    }\n",
       "\n",
       "    .dataframe thead th {\n",
       "        text-align: right;\n",
       "    }\n",
       "</style>\n",
       "<table border=\"1\" class=\"dataframe\">\n",
       "  <thead>\n",
       "    <tr style=\"text-align: right;\">\n",
       "      <th></th>\n",
       "      <th>PatientID</th>\n",
       "      <th>Age</th>\n",
       "      <th>Gender</th>\n",
       "      <th>Ethnicity</th>\n",
       "      <th>EducationLevel</th>\n",
       "      <th>BMI</th>\n",
       "      <th>Smoking</th>\n",
       "      <th>AlcoholConsumption</th>\n",
       "      <th>PhysicalActivity</th>\n",
       "      <th>DietQuality</th>\n",
       "      <th>SleepQuality</th>\n",
       "      <th>FamilyHistoryParkinsons</th>\n",
       "      <th>TraumaticBrainInjury</th>\n",
       "      <th>Hypertension</th>\n",
       "      <th>Diabetes</th>\n",
       "      <th>Depression</th>\n",
       "      <th>Stroke</th>\n",
       "      <th>SystolicBP</th>\n",
       "      <th>DiastolicBP</th>\n",
       "      <th>CholesterolTotal</th>\n",
       "      <th>CholesterolLDL</th>\n",
       "      <th>CholesterolHDL</th>\n",
       "      <th>CholesterolTriglycerides</th>\n",
       "      <th>UPDRS</th>\n",
       "      <th>MoCA</th>\n",
       "      <th>FunctionalAssessment</th>\n",
       "      <th>Tremor</th>\n",
       "      <th>Rigidity</th>\n",
       "      <th>Bradykinesia</th>\n",
       "      <th>PosturalInstability</th>\n",
       "      <th>SpeechProblems</th>\n",
       "      <th>SleepDisorders</th>\n",
       "      <th>Constipation</th>\n",
       "      <th>Diagnosis</th>\n",
       "      <th>DoctorInCharge</th>\n",
       "    </tr>\n",
       "  </thead>\n",
       "  <tbody>\n",
       "    <tr>\n",
       "      <th>0</th>\n",
       "      <td>3058</td>\n",
       "      <td>85</td>\n",
       "      <td>0</td>\n",
       "      <td>3</td>\n",
       "      <td>1</td>\n",
       "      <td>19.619878</td>\n",
       "      <td>0</td>\n",
       "      <td>5.108241</td>\n",
       "      <td>1.380660</td>\n",
       "      <td>3.893969</td>\n",
       "      <td>9.283194</td>\n",
       "      <td>0</td>\n",
       "      <td>0</td>\n",
       "      <td>0</td>\n",
       "      <td>0</td>\n",
       "      <td>0</td>\n",
       "      <td>0</td>\n",
       "      <td>129</td>\n",
       "      <td>60</td>\n",
       "      <td>222.842278</td>\n",
       "      <td>148.125623</td>\n",
       "      <td>37.867776</td>\n",
       "      <td>337.307114</td>\n",
       "      <td>6.458713</td>\n",
       "      <td>29.181289</td>\n",
       "      <td>1.572427</td>\n",
       "      <td>1</td>\n",
       "      <td>0</td>\n",
       "      <td>0</td>\n",
       "      <td>0</td>\n",
       "      <td>0</td>\n",
       "      <td>0</td>\n",
       "      <td>0</td>\n",
       "      <td>0</td>\n",
       "      <td>DrXXXConfid</td>\n",
       "    </tr>\n",
       "    <tr>\n",
       "      <th>1</th>\n",
       "      <td>3059</td>\n",
       "      <td>75</td>\n",
       "      <td>0</td>\n",
       "      <td>0</td>\n",
       "      <td>2</td>\n",
       "      <td>16.247339</td>\n",
       "      <td>1</td>\n",
       "      <td>6.027648</td>\n",
       "      <td>8.409804</td>\n",
       "      <td>8.513428</td>\n",
       "      <td>5.602470</td>\n",
       "      <td>0</td>\n",
       "      <td>0</td>\n",
       "      <td>0</td>\n",
       "      <td>0</td>\n",
       "      <td>0</td>\n",
       "      <td>0</td>\n",
       "      <td>163</td>\n",
       "      <td>76</td>\n",
       "      <td>210.501133</td>\n",
       "      <td>153.756463</td>\n",
       "      <td>77.228117</td>\n",
       "      <td>264.635521</td>\n",
       "      <td>37.306703</td>\n",
       "      <td>12.332639</td>\n",
       "      <td>4.787551</td>\n",
       "      <td>0</td>\n",
       "      <td>1</td>\n",
       "      <td>0</td>\n",
       "      <td>1</td>\n",
       "      <td>0</td>\n",
       "      <td>1</td>\n",
       "      <td>0</td>\n",
       "      <td>1</td>\n",
       "      <td>DrXXXConfid</td>\n",
       "    </tr>\n",
       "    <tr>\n",
       "      <th>2</th>\n",
       "      <td>3060</td>\n",
       "      <td>70</td>\n",
       "      <td>1</td>\n",
       "      <td>0</td>\n",
       "      <td>0</td>\n",
       "      <td>15.368239</td>\n",
       "      <td>0</td>\n",
       "      <td>2.242135</td>\n",
       "      <td>0.213275</td>\n",
       "      <td>6.498805</td>\n",
       "      <td>9.929824</td>\n",
       "      <td>0</td>\n",
       "      <td>0</td>\n",
       "      <td>0</td>\n",
       "      <td>1</td>\n",
       "      <td>0</td>\n",
       "      <td>0</td>\n",
       "      <td>113</td>\n",
       "      <td>93</td>\n",
       "      <td>287.387996</td>\n",
       "      <td>118.702600</td>\n",
       "      <td>85.588304</td>\n",
       "      <td>395.662649</td>\n",
       "      <td>67.838170</td>\n",
       "      <td>29.927783</td>\n",
       "      <td>2.130686</td>\n",
       "      <td>1</td>\n",
       "      <td>0</td>\n",
       "      <td>0</td>\n",
       "      <td>0</td>\n",
       "      <td>1</td>\n",
       "      <td>0</td>\n",
       "      <td>1</td>\n",
       "      <td>1</td>\n",
       "      <td>DrXXXConfid</td>\n",
       "    </tr>\n",
       "    <tr>\n",
       "      <th>3</th>\n",
       "      <td>3061</td>\n",
       "      <td>52</td>\n",
       "      <td>0</td>\n",
       "      <td>0</td>\n",
       "      <td>0</td>\n",
       "      <td>15.454557</td>\n",
       "      <td>0</td>\n",
       "      <td>5.997788</td>\n",
       "      <td>1.375045</td>\n",
       "      <td>6.715033</td>\n",
       "      <td>4.196189</td>\n",
       "      <td>0</td>\n",
       "      <td>0</td>\n",
       "      <td>0</td>\n",
       "      <td>0</td>\n",
       "      <td>0</td>\n",
       "      <td>0</td>\n",
       "      <td>146</td>\n",
       "      <td>78</td>\n",
       "      <td>280.339546</td>\n",
       "      <td>136.299186</td>\n",
       "      <td>51.869626</td>\n",
       "      <td>362.189688</td>\n",
       "      <td>52.964696</td>\n",
       "      <td>21.304268</td>\n",
       "      <td>3.391288</td>\n",
       "      <td>1</td>\n",
       "      <td>1</td>\n",
       "      <td>1</td>\n",
       "      <td>0</td>\n",
       "      <td>0</td>\n",
       "      <td>0</td>\n",
       "      <td>1</td>\n",
       "      <td>1</td>\n",
       "      <td>DrXXXConfid</td>\n",
       "    </tr>\n",
       "    <tr>\n",
       "      <th>4</th>\n",
       "      <td>3062</td>\n",
       "      <td>87</td>\n",
       "      <td>0</td>\n",
       "      <td>0</td>\n",
       "      <td>1</td>\n",
       "      <td>18.616042</td>\n",
       "      <td>0</td>\n",
       "      <td>9.775243</td>\n",
       "      <td>1.188607</td>\n",
       "      <td>4.657572</td>\n",
       "      <td>9.363925</td>\n",
       "      <td>0</td>\n",
       "      <td>0</td>\n",
       "      <td>0</td>\n",
       "      <td>0</td>\n",
       "      <td>0</td>\n",
       "      <td>0</td>\n",
       "      <td>115</td>\n",
       "      <td>94</td>\n",
       "      <td>284.014151</td>\n",
       "      <td>108.449452</td>\n",
       "      <td>25.069418</td>\n",
       "      <td>149.956586</td>\n",
       "      <td>21.804880</td>\n",
       "      <td>8.336364</td>\n",
       "      <td>3.200969</td>\n",
       "      <td>0</td>\n",
       "      <td>0</td>\n",
       "      <td>0</td>\n",
       "      <td>1</td>\n",
       "      <td>0</td>\n",
       "      <td>1</td>\n",
       "      <td>0</td>\n",
       "      <td>0</td>\n",
       "      <td>DrXXXConfid</td>\n",
       "    </tr>\n",
       "    <tr>\n",
       "      <th>...</th>\n",
       "      <td>...</td>\n",
       "      <td>...</td>\n",
       "      <td>...</td>\n",
       "      <td>...</td>\n",
       "      <td>...</td>\n",
       "      <td>...</td>\n",
       "      <td>...</td>\n",
       "      <td>...</td>\n",
       "      <td>...</td>\n",
       "      <td>...</td>\n",
       "      <td>...</td>\n",
       "      <td>...</td>\n",
       "      <td>...</td>\n",
       "      <td>...</td>\n",
       "      <td>...</td>\n",
       "      <td>...</td>\n",
       "      <td>...</td>\n",
       "      <td>...</td>\n",
       "      <td>...</td>\n",
       "      <td>...</td>\n",
       "      <td>...</td>\n",
       "      <td>...</td>\n",
       "      <td>...</td>\n",
       "      <td>...</td>\n",
       "      <td>...</td>\n",
       "      <td>...</td>\n",
       "      <td>...</td>\n",
       "      <td>...</td>\n",
       "      <td>...</td>\n",
       "      <td>...</td>\n",
       "      <td>...</td>\n",
       "      <td>...</td>\n",
       "      <td>...</td>\n",
       "      <td>...</td>\n",
       "      <td>...</td>\n",
       "    </tr>\n",
       "    <tr>\n",
       "      <th>2100</th>\n",
       "      <td>5158</td>\n",
       "      <td>87</td>\n",
       "      <td>1</td>\n",
       "      <td>0</td>\n",
       "      <td>2</td>\n",
       "      <td>38.483841</td>\n",
       "      <td>0</td>\n",
       "      <td>12.674393</td>\n",
       "      <td>5.325900</td>\n",
       "      <td>5.947278</td>\n",
       "      <td>6.296231</td>\n",
       "      <td>0</td>\n",
       "      <td>0</td>\n",
       "      <td>1</td>\n",
       "      <td>0</td>\n",
       "      <td>0</td>\n",
       "      <td>0</td>\n",
       "      <td>92</td>\n",
       "      <td>98</td>\n",
       "      <td>191.372707</td>\n",
       "      <td>98.730980</td>\n",
       "      <td>93.269555</td>\n",
       "      <td>161.291730</td>\n",
       "      <td>187.887925</td>\n",
       "      <td>28.634010</td>\n",
       "      <td>8.076254</td>\n",
       "      <td>1</td>\n",
       "      <td>0</td>\n",
       "      <td>0</td>\n",
       "      <td>0</td>\n",
       "      <td>1</td>\n",
       "      <td>1</td>\n",
       "      <td>0</td>\n",
       "      <td>0</td>\n",
       "      <td>DrXXXConfid</td>\n",
       "    </tr>\n",
       "    <tr>\n",
       "      <th>2101</th>\n",
       "      <td>5159</td>\n",
       "      <td>67</td>\n",
       "      <td>0</td>\n",
       "      <td>0</td>\n",
       "      <td>1</td>\n",
       "      <td>33.694396</td>\n",
       "      <td>1</td>\n",
       "      <td>0.977018</td>\n",
       "      <td>0.108599</td>\n",
       "      <td>4.825187</td>\n",
       "      <td>6.342325</td>\n",
       "      <td>1</td>\n",
       "      <td>0</td>\n",
       "      <td>0</td>\n",
       "      <td>0</td>\n",
       "      <td>0</td>\n",
       "      <td>0</td>\n",
       "      <td>103</td>\n",
       "      <td>96</td>\n",
       "      <td>150.188647</td>\n",
       "      <td>112.063230</td>\n",
       "      <td>47.524626</td>\n",
       "      <td>240.086616</td>\n",
       "      <td>172.325253</td>\n",
       "      <td>13.106537</td>\n",
       "      <td>1.665751</td>\n",
       "      <td>0</td>\n",
       "      <td>0</td>\n",
       "      <td>0</td>\n",
       "      <td>1</td>\n",
       "      <td>0</td>\n",
       "      <td>1</td>\n",
       "      <td>1</td>\n",
       "      <td>1</td>\n",
       "      <td>DrXXXConfid</td>\n",
       "    </tr>\n",
       "    <tr>\n",
       "      <th>2102</th>\n",
       "      <td>5160</td>\n",
       "      <td>65</td>\n",
       "      <td>0</td>\n",
       "      <td>0</td>\n",
       "      <td>2</td>\n",
       "      <td>22.829631</td>\n",
       "      <td>0</td>\n",
       "      <td>6.152286</td>\n",
       "      <td>5.775103</td>\n",
       "      <td>0.334244</td>\n",
       "      <td>9.740019</td>\n",
       "      <td>1</td>\n",
       "      <td>0</td>\n",
       "      <td>0</td>\n",
       "      <td>1</td>\n",
       "      <td>0</td>\n",
       "      <td>1</td>\n",
       "      <td>168</td>\n",
       "      <td>79</td>\n",
       "      <td>159.351155</td>\n",
       "      <td>61.543591</td>\n",
       "      <td>72.765698</td>\n",
       "      <td>222.231014</td>\n",
       "      <td>111.851581</td>\n",
       "      <td>26.527734</td>\n",
       "      <td>4.785614</td>\n",
       "      <td>0</td>\n",
       "      <td>0</td>\n",
       "      <td>0</td>\n",
       "      <td>0</td>\n",
       "      <td>1</td>\n",
       "      <td>1</td>\n",
       "      <td>0</td>\n",
       "      <td>1</td>\n",
       "      <td>DrXXXConfid</td>\n",
       "    </tr>\n",
       "    <tr>\n",
       "      <th>2103</th>\n",
       "      <td>5161</td>\n",
       "      <td>61</td>\n",
       "      <td>1</td>\n",
       "      <td>0</td>\n",
       "      <td>0</td>\n",
       "      <td>16.871030</td>\n",
       "      <td>1</td>\n",
       "      <td>0.292094</td>\n",
       "      <td>2.280475</td>\n",
       "      <td>9.598513</td>\n",
       "      <td>8.289390</td>\n",
       "      <td>0</td>\n",
       "      <td>0</td>\n",
       "      <td>0</td>\n",
       "      <td>0</td>\n",
       "      <td>0</td>\n",
       "      <td>0</td>\n",
       "      <td>129</td>\n",
       "      <td>97</td>\n",
       "      <td>232.240473</td>\n",
       "      <td>53.029891</td>\n",
       "      <td>99.945560</td>\n",
       "      <td>167.980928</td>\n",
       "      <td>144.474453</td>\n",
       "      <td>19.873404</td>\n",
       "      <td>8.378979</td>\n",
       "      <td>1</td>\n",
       "      <td>0</td>\n",
       "      <td>1</td>\n",
       "      <td>0</td>\n",
       "      <td>0</td>\n",
       "      <td>1</td>\n",
       "      <td>1</td>\n",
       "      <td>1</td>\n",
       "      <td>DrXXXConfid</td>\n",
       "    </tr>\n",
       "    <tr>\n",
       "      <th>2104</th>\n",
       "      <td>5162</td>\n",
       "      <td>56</td>\n",
       "      <td>0</td>\n",
       "      <td>0</td>\n",
       "      <td>2</td>\n",
       "      <td>16.569934</td>\n",
       "      <td>0</td>\n",
       "      <td>1.985084</td>\n",
       "      <td>1.400441</td>\n",
       "      <td>9.883835</td>\n",
       "      <td>9.930037</td>\n",
       "      <td>0</td>\n",
       "      <td>0</td>\n",
       "      <td>0</td>\n",
       "      <td>0</td>\n",
       "      <td>0</td>\n",
       "      <td>0</td>\n",
       "      <td>99</td>\n",
       "      <td>76</td>\n",
       "      <td>190.053027</td>\n",
       "      <td>133.026760</td>\n",
       "      <td>20.252050</td>\n",
       "      <td>194.476929</td>\n",
       "      <td>30.797680</td>\n",
       "      <td>12.192612</td>\n",
       "      <td>5.015131</td>\n",
       "      <td>0</td>\n",
       "      <td>0</td>\n",
       "      <td>0</td>\n",
       "      <td>0</td>\n",
       "      <td>1</td>\n",
       "      <td>0</td>\n",
       "      <td>1</td>\n",
       "      <td>0</td>\n",
       "      <td>DrXXXConfid</td>\n",
       "    </tr>\n",
       "  </tbody>\n",
       "</table>\n",
       "<p>2105 rows × 35 columns</p>\n",
       "</div>"
      ],
      "text/plain": [
       "      PatientID  Age  Gender  Ethnicity  EducationLevel        BMI  Smoking  \\\n",
       "0          3058   85       0          3               1  19.619878        0   \n",
       "1          3059   75       0          0               2  16.247339        1   \n",
       "2          3060   70       1          0               0  15.368239        0   \n",
       "3          3061   52       0          0               0  15.454557        0   \n",
       "4          3062   87       0          0               1  18.616042        0   \n",
       "...         ...  ...     ...        ...             ...        ...      ...   \n",
       "2100       5158   87       1          0               2  38.483841        0   \n",
       "2101       5159   67       0          0               1  33.694396        1   \n",
       "2102       5160   65       0          0               2  22.829631        0   \n",
       "2103       5161   61       1          0               0  16.871030        1   \n",
       "2104       5162   56       0          0               2  16.569934        0   \n",
       "\n",
       "      AlcoholConsumption  PhysicalActivity  DietQuality  SleepQuality  \\\n",
       "0               5.108241          1.380660     3.893969      9.283194   \n",
       "1               6.027648          8.409804     8.513428      5.602470   \n",
       "2               2.242135          0.213275     6.498805      9.929824   \n",
       "3               5.997788          1.375045     6.715033      4.196189   \n",
       "4               9.775243          1.188607     4.657572      9.363925   \n",
       "...                  ...               ...          ...           ...   \n",
       "2100           12.674393          5.325900     5.947278      6.296231   \n",
       "2101            0.977018          0.108599     4.825187      6.342325   \n",
       "2102            6.152286          5.775103     0.334244      9.740019   \n",
       "2103            0.292094          2.280475     9.598513      8.289390   \n",
       "2104            1.985084          1.400441     9.883835      9.930037   \n",
       "\n",
       "      FamilyHistoryParkinsons  TraumaticBrainInjury  Hypertension  Diabetes  \\\n",
       "0                           0                     0             0         0   \n",
       "1                           0                     0             0         0   \n",
       "2                           0                     0             0         1   \n",
       "3                           0                     0             0         0   \n",
       "4                           0                     0             0         0   \n",
       "...                       ...                   ...           ...       ...   \n",
       "2100                        0                     0             1         0   \n",
       "2101                        1                     0             0         0   \n",
       "2102                        1                     0             0         1   \n",
       "2103                        0                     0             0         0   \n",
       "2104                        0                     0             0         0   \n",
       "\n",
       "      Depression  Stroke  SystolicBP  DiastolicBP  CholesterolTotal  \\\n",
       "0              0       0         129           60        222.842278   \n",
       "1              0       0         163           76        210.501133   \n",
       "2              0       0         113           93        287.387996   \n",
       "3              0       0         146           78        280.339546   \n",
       "4              0       0         115           94        284.014151   \n",
       "...          ...     ...         ...          ...               ...   \n",
       "2100           0       0          92           98        191.372707   \n",
       "2101           0       0         103           96        150.188647   \n",
       "2102           0       1         168           79        159.351155   \n",
       "2103           0       0         129           97        232.240473   \n",
       "2104           0       0          99           76        190.053027   \n",
       "\n",
       "      CholesterolLDL  CholesterolHDL  CholesterolTriglycerides       UPDRS  \\\n",
       "0         148.125623       37.867776                337.307114    6.458713   \n",
       "1         153.756463       77.228117                264.635521   37.306703   \n",
       "2         118.702600       85.588304                395.662649   67.838170   \n",
       "3         136.299186       51.869626                362.189688   52.964696   \n",
       "4         108.449452       25.069418                149.956586   21.804880   \n",
       "...              ...             ...                       ...         ...   \n",
       "2100       98.730980       93.269555                161.291730  187.887925   \n",
       "2101      112.063230       47.524626                240.086616  172.325253   \n",
       "2102       61.543591       72.765698                222.231014  111.851581   \n",
       "2103       53.029891       99.945560                167.980928  144.474453   \n",
       "2104      133.026760       20.252050                194.476929   30.797680   \n",
       "\n",
       "           MoCA  FunctionalAssessment  Tremor  Rigidity  Bradykinesia  \\\n",
       "0     29.181289              1.572427       1         0             0   \n",
       "1     12.332639              4.787551       0         1             0   \n",
       "2     29.927783              2.130686       1         0             0   \n",
       "3     21.304268              3.391288       1         1             1   \n",
       "4      8.336364              3.200969       0         0             0   \n",
       "...         ...                   ...     ...       ...           ...   \n",
       "2100  28.634010              8.076254       1         0             0   \n",
       "2101  13.106537              1.665751       0         0             0   \n",
       "2102  26.527734              4.785614       0         0             0   \n",
       "2103  19.873404              8.378979       1         0             1   \n",
       "2104  12.192612              5.015131       0         0             0   \n",
       "\n",
       "      PosturalInstability  SpeechProblems  SleepDisorders  Constipation  \\\n",
       "0                       0               0               0             0   \n",
       "1                       1               0               1             0   \n",
       "2                       0               1               0             1   \n",
       "3                       0               0               0             1   \n",
       "4                       1               0               1             0   \n",
       "...                   ...             ...             ...           ...   \n",
       "2100                    0               1               1             0   \n",
       "2101                    1               0               1             1   \n",
       "2102                    0               1               1             0   \n",
       "2103                    0               0               1             1   \n",
       "2104                    0               1               0             1   \n",
       "\n",
       "      Diagnosis DoctorInCharge  \n",
       "0             0    DrXXXConfid  \n",
       "1             1    DrXXXConfid  \n",
       "2             1    DrXXXConfid  \n",
       "3             1    DrXXXConfid  \n",
       "4             0    DrXXXConfid  \n",
       "...         ...            ...  \n",
       "2100          0    DrXXXConfid  \n",
       "2101          1    DrXXXConfid  \n",
       "2102          1    DrXXXConfid  \n",
       "2103          1    DrXXXConfid  \n",
       "2104          0    DrXXXConfid  \n",
       "\n",
       "[2105 rows x 35 columns]"
      ]
     },
     "execution_count": 39,
     "metadata": {},
     "output_type": "execute_result"
    }
   ],
   "source": [
    "# Reading the data\n",
    "df = pd.read_csv(\"../data/parkinsons_disease_data.csv\")\n",
    "df"
   ]
  },
  {
   "cell_type": "code",
   "execution_count": 40,
   "metadata": {},
   "outputs": [
    {
     "data": {
      "text/plain": [
       "(2105, 35)"
      ]
     },
     "execution_count": 40,
     "metadata": {},
     "output_type": "execute_result"
    }
   ],
   "source": [
    "df.shape"
   ]
  },
  {
   "cell_type": "code",
   "execution_count": 41,
   "metadata": {},
   "outputs": [
    {
     "data": {
      "text/plain": [
       "PatientID                   0\n",
       "Age                         0\n",
       "Gender                      0\n",
       "Ethnicity                   0\n",
       "EducationLevel              0\n",
       "BMI                         0\n",
       "Smoking                     0\n",
       "AlcoholConsumption          0\n",
       "PhysicalActivity            0\n",
       "DietQuality                 0\n",
       "SleepQuality                0\n",
       "FamilyHistoryParkinsons     0\n",
       "TraumaticBrainInjury        0\n",
       "Hypertension                0\n",
       "Diabetes                    0\n",
       "Depression                  0\n",
       "Stroke                      0\n",
       "SystolicBP                  0\n",
       "DiastolicBP                 0\n",
       "CholesterolTotal            0\n",
       "CholesterolLDL              0\n",
       "CholesterolHDL              0\n",
       "CholesterolTriglycerides    0\n",
       "UPDRS                       0\n",
       "MoCA                        0\n",
       "FunctionalAssessment        0\n",
       "Tremor                      0\n",
       "Rigidity                    0\n",
       "Bradykinesia                0\n",
       "PosturalInstability         0\n",
       "SpeechProblems              0\n",
       "SleepDisorders              0\n",
       "Constipation                0\n",
       "Diagnosis                   0\n",
       "DoctorInCharge              0\n",
       "dtype: int64"
      ]
     },
     "execution_count": 41,
     "metadata": {},
     "output_type": "execute_result"
    }
   ],
   "source": [
    "# Checking the null values\n",
    "df.isna().sum()"
   ]
  },
  {
   "cell_type": "code",
   "execution_count": 42,
   "metadata": {},
   "outputs": [
    {
     "name": "stdout",
     "output_type": "stream",
     "text": [
      "<class 'pandas.core.frame.DataFrame'>\n",
      "RangeIndex: 2105 entries, 0 to 2104\n",
      "Data columns (total 35 columns):\n",
      " #   Column                    Non-Null Count  Dtype  \n",
      "---  ------                    --------------  -----  \n",
      " 0   PatientID                 2105 non-null   int64  \n",
      " 1   Age                       2105 non-null   int64  \n",
      " 2   Gender                    2105 non-null   int64  \n",
      " 3   Ethnicity                 2105 non-null   int64  \n",
      " 4   EducationLevel            2105 non-null   int64  \n",
      " 5   BMI                       2105 non-null   float64\n",
      " 6   Smoking                   2105 non-null   int64  \n",
      " 7   AlcoholConsumption        2105 non-null   float64\n",
      " 8   PhysicalActivity          2105 non-null   float64\n",
      " 9   DietQuality               2105 non-null   float64\n",
      " 10  SleepQuality              2105 non-null   float64\n",
      " 11  FamilyHistoryParkinsons   2105 non-null   int64  \n",
      " 12  TraumaticBrainInjury      2105 non-null   int64  \n",
      " 13  Hypertension              2105 non-null   int64  \n",
      " 14  Diabetes                  2105 non-null   int64  \n",
      " 15  Depression                2105 non-null   int64  \n",
      " 16  Stroke                    2105 non-null   int64  \n",
      " 17  SystolicBP                2105 non-null   int64  \n",
      " 18  DiastolicBP               2105 non-null   int64  \n",
      " 19  CholesterolTotal          2105 non-null   float64\n",
      " 20  CholesterolLDL            2105 non-null   float64\n",
      " 21  CholesterolHDL            2105 non-null   float64\n",
      " 22  CholesterolTriglycerides  2105 non-null   float64\n",
      " 23  UPDRS                     2105 non-null   float64\n",
      " 24  MoCA                      2105 non-null   float64\n",
      " 25  FunctionalAssessment      2105 non-null   float64\n",
      " 26  Tremor                    2105 non-null   int64  \n",
      " 27  Rigidity                  2105 non-null   int64  \n",
      " 28  Bradykinesia              2105 non-null   int64  \n",
      " 29  PosturalInstability       2105 non-null   int64  \n",
      " 30  SpeechProblems            2105 non-null   int64  \n",
      " 31  SleepDisorders            2105 non-null   int64  \n",
      " 32  Constipation              2105 non-null   int64  \n",
      " 33  Diagnosis                 2105 non-null   int64  \n",
      " 34  DoctorInCharge            2105 non-null   object \n",
      "dtypes: float64(12), int64(22), object(1)\n",
      "memory usage: 575.7+ KB\n"
     ]
    }
   ],
   "source": [
    "df.info()"
   ]
  },
  {
   "cell_type": "code",
   "execution_count": 43,
   "metadata": {},
   "outputs": [
    {
     "data": {
      "text/plain": [
       "0"
      ]
     },
     "execution_count": 43,
     "metadata": {},
     "output_type": "execute_result"
    }
   ],
   "source": [
    "# Check for dublicate patient ID\n",
    "df['PatientID'].duplicated().sum()"
   ]
  },
  {
   "cell_type": "code",
   "execution_count": 44,
   "metadata": {},
   "outputs": [
    {
     "data": {
      "text/plain": [
       "Index(['PatientID', 'Age', 'Gender', 'Ethnicity', 'EducationLevel', 'BMI',\n",
       "       'Smoking', 'AlcoholConsumption', 'PhysicalActivity', 'DietQuality',\n",
       "       'SleepQuality', 'FamilyHistoryParkinsons', 'TraumaticBrainInjury',\n",
       "       'Hypertension', 'Diabetes', 'Depression', 'Stroke', 'SystolicBP',\n",
       "       'DiastolicBP', 'CholesterolTotal', 'CholesterolLDL', 'CholesterolHDL',\n",
       "       'CholesterolTriglycerides', 'UPDRS', 'MoCA', 'FunctionalAssessment',\n",
       "       'Tremor', 'Rigidity', 'Bradykinesia', 'PosturalInstability',\n",
       "       'SpeechProblems', 'SleepDisorders', 'Constipation', 'Diagnosis',\n",
       "       'DoctorInCharge'],\n",
       "      dtype='object')"
      ]
     },
     "execution_count": 44,
     "metadata": {},
     "output_type": "execute_result"
    }
   ],
   "source": [
    "df.columns"
   ]
  },
  {
   "cell_type": "code",
   "execution_count": 45,
   "metadata": {},
   "outputs": [
    {
     "data": {
      "text/html": [
       "<div>\n",
       "<style scoped>\n",
       "    .dataframe tbody tr th:only-of-type {\n",
       "        vertical-align: middle;\n",
       "    }\n",
       "\n",
       "    .dataframe tbody tr th {\n",
       "        vertical-align: top;\n",
       "    }\n",
       "\n",
       "    .dataframe thead th {\n",
       "        text-align: right;\n",
       "    }\n",
       "</style>\n",
       "<table border=\"1\" class=\"dataframe\">\n",
       "  <thead>\n",
       "    <tr style=\"text-align: right;\">\n",
       "      <th></th>\n",
       "      <th>PatientID</th>\n",
       "      <th>Age</th>\n",
       "      <th>Gender</th>\n",
       "      <th>Ethnicity</th>\n",
       "      <th>EducationLevel</th>\n",
       "      <th>BMI</th>\n",
       "      <th>Smoking</th>\n",
       "      <th>AlcoholConsumption</th>\n",
       "      <th>PhysicalActivity</th>\n",
       "      <th>DietQuality</th>\n",
       "      <th>SleepQuality</th>\n",
       "      <th>FamilyHistoryParkinsons</th>\n",
       "      <th>TraumaticBrainInjury</th>\n",
       "      <th>Hypertension</th>\n",
       "      <th>Diabetes</th>\n",
       "      <th>Depression</th>\n",
       "      <th>Stroke</th>\n",
       "      <th>SystolicBP</th>\n",
       "      <th>DiastolicBP</th>\n",
       "      <th>CholesterolTotal</th>\n",
       "      <th>CholesterolLDL</th>\n",
       "      <th>CholesterolHDL</th>\n",
       "      <th>CholesterolTriglycerides</th>\n",
       "      <th>UPDRS</th>\n",
       "      <th>MoCA</th>\n",
       "      <th>FunctionalAssessment</th>\n",
       "      <th>Tremor</th>\n",
       "      <th>Rigidity</th>\n",
       "      <th>Bradykinesia</th>\n",
       "      <th>PosturalInstability</th>\n",
       "      <th>SpeechProblems</th>\n",
       "      <th>SleepDisorders</th>\n",
       "      <th>Constipation</th>\n",
       "      <th>Diagnosis</th>\n",
       "    </tr>\n",
       "  </thead>\n",
       "  <tbody>\n",
       "    <tr>\n",
       "      <th>count</th>\n",
       "      <td>2105.000000</td>\n",
       "      <td>2105.000000</td>\n",
       "      <td>2105.000000</td>\n",
       "      <td>2105.000000</td>\n",
       "      <td>2105.000000</td>\n",
       "      <td>2105.000000</td>\n",
       "      <td>2105.000000</td>\n",
       "      <td>2105.000000</td>\n",
       "      <td>2105.000000</td>\n",
       "      <td>2105.000000</td>\n",
       "      <td>2105.000000</td>\n",
       "      <td>2105.000000</td>\n",
       "      <td>2105.000000</td>\n",
       "      <td>2105.000000</td>\n",
       "      <td>2105.000000</td>\n",
       "      <td>2105.000000</td>\n",
       "      <td>2105.000000</td>\n",
       "      <td>2105.000000</td>\n",
       "      <td>2105.000000</td>\n",
       "      <td>2105.000000</td>\n",
       "      <td>2105.000000</td>\n",
       "      <td>2105.000000</td>\n",
       "      <td>2105.000000</td>\n",
       "      <td>2105.000000</td>\n",
       "      <td>2105.000000</td>\n",
       "      <td>2105.000000</td>\n",
       "      <td>2105.000000</td>\n",
       "      <td>2105.000000</td>\n",
       "      <td>2105.000000</td>\n",
       "      <td>2105.000000</td>\n",
       "      <td>2105.000000</td>\n",
       "      <td>2105.000000</td>\n",
       "      <td>2105.000000</td>\n",
       "      <td>2105.000000</td>\n",
       "    </tr>\n",
       "    <tr>\n",
       "      <th>mean</th>\n",
       "      <td>4110.000000</td>\n",
       "      <td>69.601900</td>\n",
       "      <td>0.492637</td>\n",
       "      <td>0.692637</td>\n",
       "      <td>1.337292</td>\n",
       "      <td>27.209493</td>\n",
       "      <td>0.296437</td>\n",
       "      <td>10.040413</td>\n",
       "      <td>5.016674</td>\n",
       "      <td>4.912901</td>\n",
       "      <td>6.996639</td>\n",
       "      <td>0.145843</td>\n",
       "      <td>0.106413</td>\n",
       "      <td>0.145843</td>\n",
       "      <td>0.148219</td>\n",
       "      <td>0.205226</td>\n",
       "      <td>0.048931</td>\n",
       "      <td>133.719715</td>\n",
       "      <td>90.249881</td>\n",
       "      <td>226.860840</td>\n",
       "      <td>126.147858</td>\n",
       "      <td>59.670352</td>\n",
       "      <td>222.940500</td>\n",
       "      <td>101.415318</td>\n",
       "      <td>15.094314</td>\n",
       "      <td>4.989694</td>\n",
       "      <td>0.431829</td>\n",
       "      <td>0.252732</td>\n",
       "      <td>0.207601</td>\n",
       "      <td>0.138717</td>\n",
       "      <td>0.295012</td>\n",
       "      <td>0.245131</td>\n",
       "      <td>0.296912</td>\n",
       "      <td>0.619477</td>\n",
       "    </tr>\n",
       "    <tr>\n",
       "      <th>std</th>\n",
       "      <td>607.805479</td>\n",
       "      <td>11.594511</td>\n",
       "      <td>0.500065</td>\n",
       "      <td>1.003827</td>\n",
       "      <td>0.895840</td>\n",
       "      <td>7.208099</td>\n",
       "      <td>0.456795</td>\n",
       "      <td>5.687014</td>\n",
       "      <td>2.890919</td>\n",
       "      <td>2.872115</td>\n",
       "      <td>1.753065</td>\n",
       "      <td>0.353033</td>\n",
       "      <td>0.308439</td>\n",
       "      <td>0.353033</td>\n",
       "      <td>0.355401</td>\n",
       "      <td>0.403962</td>\n",
       "      <td>0.215775</td>\n",
       "      <td>26.502355</td>\n",
       "      <td>17.061488</td>\n",
       "      <td>43.589406</td>\n",
       "      <td>43.407036</td>\n",
       "      <td>23.370920</td>\n",
       "      <td>101.895822</td>\n",
       "      <td>56.591448</td>\n",
       "      <td>8.643014</td>\n",
       "      <td>2.933877</td>\n",
       "      <td>0.495449</td>\n",
       "      <td>0.434682</td>\n",
       "      <td>0.405686</td>\n",
       "      <td>0.345733</td>\n",
       "      <td>0.456156</td>\n",
       "      <td>0.430267</td>\n",
       "      <td>0.457006</td>\n",
       "      <td>0.485631</td>\n",
       "    </tr>\n",
       "    <tr>\n",
       "      <th>min</th>\n",
       "      <td>3058.000000</td>\n",
       "      <td>50.000000</td>\n",
       "      <td>0.000000</td>\n",
       "      <td>0.000000</td>\n",
       "      <td>0.000000</td>\n",
       "      <td>15.008333</td>\n",
       "      <td>0.000000</td>\n",
       "      <td>0.002228</td>\n",
       "      <td>0.004157</td>\n",
       "      <td>0.000011</td>\n",
       "      <td>4.000497</td>\n",
       "      <td>0.000000</td>\n",
       "      <td>0.000000</td>\n",
       "      <td>0.000000</td>\n",
       "      <td>0.000000</td>\n",
       "      <td>0.000000</td>\n",
       "      <td>0.000000</td>\n",
       "      <td>90.000000</td>\n",
       "      <td>60.000000</td>\n",
       "      <td>150.062698</td>\n",
       "      <td>50.022828</td>\n",
       "      <td>20.027981</td>\n",
       "      <td>50.113604</td>\n",
       "      <td>0.028441</td>\n",
       "      <td>0.021191</td>\n",
       "      <td>0.001505</td>\n",
       "      <td>0.000000</td>\n",
       "      <td>0.000000</td>\n",
       "      <td>0.000000</td>\n",
       "      <td>0.000000</td>\n",
       "      <td>0.000000</td>\n",
       "      <td>0.000000</td>\n",
       "      <td>0.000000</td>\n",
       "      <td>0.000000</td>\n",
       "    </tr>\n",
       "    <tr>\n",
       "      <th>25%</th>\n",
       "      <td>3584.000000</td>\n",
       "      <td>60.000000</td>\n",
       "      <td>0.000000</td>\n",
       "      <td>0.000000</td>\n",
       "      <td>1.000000</td>\n",
       "      <td>20.782176</td>\n",
       "      <td>0.000000</td>\n",
       "      <td>5.150278</td>\n",
       "      <td>2.455703</td>\n",
       "      <td>2.478503</td>\n",
       "      <td>5.488864</td>\n",
       "      <td>0.000000</td>\n",
       "      <td>0.000000</td>\n",
       "      <td>0.000000</td>\n",
       "      <td>0.000000</td>\n",
       "      <td>0.000000</td>\n",
       "      <td>0.000000</td>\n",
       "      <td>110.000000</td>\n",
       "      <td>75.000000</td>\n",
       "      <td>189.385178</td>\n",
       "      <td>88.841960</td>\n",
       "      <td>39.538643</td>\n",
       "      <td>132.520174</td>\n",
       "      <td>53.048148</td>\n",
       "      <td>7.517160</td>\n",
       "      <td>2.415890</td>\n",
       "      <td>0.000000</td>\n",
       "      <td>0.000000</td>\n",
       "      <td>0.000000</td>\n",
       "      <td>0.000000</td>\n",
       "      <td>0.000000</td>\n",
       "      <td>0.000000</td>\n",
       "      <td>0.000000</td>\n",
       "      <td>0.000000</td>\n",
       "    </tr>\n",
       "    <tr>\n",
       "      <th>50%</th>\n",
       "      <td>4110.000000</td>\n",
       "      <td>70.000000</td>\n",
       "      <td>0.000000</td>\n",
       "      <td>0.000000</td>\n",
       "      <td>1.000000</td>\n",
       "      <td>27.184571</td>\n",
       "      <td>0.000000</td>\n",
       "      <td>10.070337</td>\n",
       "      <td>5.031550</td>\n",
       "      <td>4.825187</td>\n",
       "      <td>6.929819</td>\n",
       "      <td>0.000000</td>\n",
       "      <td>0.000000</td>\n",
       "      <td>0.000000</td>\n",
       "      <td>0.000000</td>\n",
       "      <td>0.000000</td>\n",
       "      <td>0.000000</td>\n",
       "      <td>133.000000</td>\n",
       "      <td>91.000000</td>\n",
       "      <td>228.528256</td>\n",
       "      <td>126.884570</td>\n",
       "      <td>59.343357</td>\n",
       "      <td>222.802452</td>\n",
       "      <td>102.561023</td>\n",
       "      <td>14.963574</td>\n",
       "      <td>4.983227</td>\n",
       "      <td>0.000000</td>\n",
       "      <td>0.000000</td>\n",
       "      <td>0.000000</td>\n",
       "      <td>0.000000</td>\n",
       "      <td>0.000000</td>\n",
       "      <td>0.000000</td>\n",
       "      <td>0.000000</td>\n",
       "      <td>1.000000</td>\n",
       "    </tr>\n",
       "    <tr>\n",
       "      <th>75%</th>\n",
       "      <td>4636.000000</td>\n",
       "      <td>80.000000</td>\n",
       "      <td>1.000000</td>\n",
       "      <td>1.000000</td>\n",
       "      <td>2.000000</td>\n",
       "      <td>33.462452</td>\n",
       "      <td>1.000000</td>\n",
       "      <td>14.829565</td>\n",
       "      <td>7.512795</td>\n",
       "      <td>7.381487</td>\n",
       "      <td>8.558719</td>\n",
       "      <td>0.000000</td>\n",
       "      <td>0.000000</td>\n",
       "      <td>0.000000</td>\n",
       "      <td>0.000000</td>\n",
       "      <td>0.000000</td>\n",
       "      <td>0.000000</td>\n",
       "      <td>157.000000</td>\n",
       "      <td>105.000000</td>\n",
       "      <td>264.608100</td>\n",
       "      <td>163.912782</td>\n",
       "      <td>79.366628</td>\n",
       "      <td>311.699109</td>\n",
       "      <td>149.831682</td>\n",
       "      <td>22.608362</td>\n",
       "      <td>7.484220</td>\n",
       "      <td>1.000000</td>\n",
       "      <td>1.000000</td>\n",
       "      <td>0.000000</td>\n",
       "      <td>0.000000</td>\n",
       "      <td>1.000000</td>\n",
       "      <td>0.000000</td>\n",
       "      <td>1.000000</td>\n",
       "      <td>1.000000</td>\n",
       "    </tr>\n",
       "    <tr>\n",
       "      <th>max</th>\n",
       "      <td>5162.000000</td>\n",
       "      <td>89.000000</td>\n",
       "      <td>1.000000</td>\n",
       "      <td>3.000000</td>\n",
       "      <td>3.000000</td>\n",
       "      <td>39.999887</td>\n",
       "      <td>1.000000</td>\n",
       "      <td>19.988866</td>\n",
       "      <td>9.995255</td>\n",
       "      <td>9.995864</td>\n",
       "      <td>9.999821</td>\n",
       "      <td>1.000000</td>\n",
       "      <td>1.000000</td>\n",
       "      <td>1.000000</td>\n",
       "      <td>1.000000</td>\n",
       "      <td>1.000000</td>\n",
       "      <td>1.000000</td>\n",
       "      <td>179.000000</td>\n",
       "      <td>119.000000</td>\n",
       "      <td>299.963074</td>\n",
       "      <td>199.985981</td>\n",
       "      <td>99.982265</td>\n",
       "      <td>399.975022</td>\n",
       "      <td>198.953604</td>\n",
       "      <td>29.970107</td>\n",
       "      <td>9.992697</td>\n",
       "      <td>1.000000</td>\n",
       "      <td>1.000000</td>\n",
       "      <td>1.000000</td>\n",
       "      <td>1.000000</td>\n",
       "      <td>1.000000</td>\n",
       "      <td>1.000000</td>\n",
       "      <td>1.000000</td>\n",
       "      <td>1.000000</td>\n",
       "    </tr>\n",
       "  </tbody>\n",
       "</table>\n",
       "</div>"
      ],
      "text/plain": [
       "         PatientID          Age       Gender    Ethnicity  EducationLevel  \\\n",
       "count  2105.000000  2105.000000  2105.000000  2105.000000     2105.000000   \n",
       "mean   4110.000000    69.601900     0.492637     0.692637        1.337292   \n",
       "std     607.805479    11.594511     0.500065     1.003827        0.895840   \n",
       "min    3058.000000    50.000000     0.000000     0.000000        0.000000   \n",
       "25%    3584.000000    60.000000     0.000000     0.000000        1.000000   \n",
       "50%    4110.000000    70.000000     0.000000     0.000000        1.000000   \n",
       "75%    4636.000000    80.000000     1.000000     1.000000        2.000000   \n",
       "max    5162.000000    89.000000     1.000000     3.000000        3.000000   \n",
       "\n",
       "               BMI      Smoking  AlcoholConsumption  PhysicalActivity  \\\n",
       "count  2105.000000  2105.000000         2105.000000       2105.000000   \n",
       "mean     27.209493     0.296437           10.040413          5.016674   \n",
       "std       7.208099     0.456795            5.687014          2.890919   \n",
       "min      15.008333     0.000000            0.002228          0.004157   \n",
       "25%      20.782176     0.000000            5.150278          2.455703   \n",
       "50%      27.184571     0.000000           10.070337          5.031550   \n",
       "75%      33.462452     1.000000           14.829565          7.512795   \n",
       "max      39.999887     1.000000           19.988866          9.995255   \n",
       "\n",
       "       DietQuality  SleepQuality  FamilyHistoryParkinsons  \\\n",
       "count  2105.000000   2105.000000              2105.000000   \n",
       "mean      4.912901      6.996639                 0.145843   \n",
       "std       2.872115      1.753065                 0.353033   \n",
       "min       0.000011      4.000497                 0.000000   \n",
       "25%       2.478503      5.488864                 0.000000   \n",
       "50%       4.825187      6.929819                 0.000000   \n",
       "75%       7.381487      8.558719                 0.000000   \n",
       "max       9.995864      9.999821                 1.000000   \n",
       "\n",
       "       TraumaticBrainInjury  Hypertension     Diabetes   Depression  \\\n",
       "count           2105.000000   2105.000000  2105.000000  2105.000000   \n",
       "mean               0.106413      0.145843     0.148219     0.205226   \n",
       "std                0.308439      0.353033     0.355401     0.403962   \n",
       "min                0.000000      0.000000     0.000000     0.000000   \n",
       "25%                0.000000      0.000000     0.000000     0.000000   \n",
       "50%                0.000000      0.000000     0.000000     0.000000   \n",
       "75%                0.000000      0.000000     0.000000     0.000000   \n",
       "max                1.000000      1.000000     1.000000     1.000000   \n",
       "\n",
       "            Stroke   SystolicBP  DiastolicBP  CholesterolTotal  \\\n",
       "count  2105.000000  2105.000000  2105.000000       2105.000000   \n",
       "mean      0.048931   133.719715    90.249881        226.860840   \n",
       "std       0.215775    26.502355    17.061488         43.589406   \n",
       "min       0.000000    90.000000    60.000000        150.062698   \n",
       "25%       0.000000   110.000000    75.000000        189.385178   \n",
       "50%       0.000000   133.000000    91.000000        228.528256   \n",
       "75%       0.000000   157.000000   105.000000        264.608100   \n",
       "max       1.000000   179.000000   119.000000        299.963074   \n",
       "\n",
       "       CholesterolLDL  CholesterolHDL  CholesterolTriglycerides        UPDRS  \\\n",
       "count     2105.000000     2105.000000               2105.000000  2105.000000   \n",
       "mean       126.147858       59.670352                222.940500   101.415318   \n",
       "std         43.407036       23.370920                101.895822    56.591448   \n",
       "min         50.022828       20.027981                 50.113604     0.028441   \n",
       "25%         88.841960       39.538643                132.520174    53.048148   \n",
       "50%        126.884570       59.343357                222.802452   102.561023   \n",
       "75%        163.912782       79.366628                311.699109   149.831682   \n",
       "max        199.985981       99.982265                399.975022   198.953604   \n",
       "\n",
       "              MoCA  FunctionalAssessment       Tremor     Rigidity  \\\n",
       "count  2105.000000           2105.000000  2105.000000  2105.000000   \n",
       "mean     15.094314              4.989694     0.431829     0.252732   \n",
       "std       8.643014              2.933877     0.495449     0.434682   \n",
       "min       0.021191              0.001505     0.000000     0.000000   \n",
       "25%       7.517160              2.415890     0.000000     0.000000   \n",
       "50%      14.963574              4.983227     0.000000     0.000000   \n",
       "75%      22.608362              7.484220     1.000000     1.000000   \n",
       "max      29.970107              9.992697     1.000000     1.000000   \n",
       "\n",
       "       Bradykinesia  PosturalInstability  SpeechProblems  SleepDisorders  \\\n",
       "count   2105.000000          2105.000000     2105.000000     2105.000000   \n",
       "mean       0.207601             0.138717        0.295012        0.245131   \n",
       "std        0.405686             0.345733        0.456156        0.430267   \n",
       "min        0.000000             0.000000        0.000000        0.000000   \n",
       "25%        0.000000             0.000000        0.000000        0.000000   \n",
       "50%        0.000000             0.000000        0.000000        0.000000   \n",
       "75%        0.000000             0.000000        1.000000        0.000000   \n",
       "max        1.000000             1.000000        1.000000        1.000000   \n",
       "\n",
       "       Constipation    Diagnosis  \n",
       "count   2105.000000  2105.000000  \n",
       "mean       0.296912     0.619477  \n",
       "std        0.457006     0.485631  \n",
       "min        0.000000     0.000000  \n",
       "25%        0.000000     0.000000  \n",
       "50%        0.000000     1.000000  \n",
       "75%        1.000000     1.000000  \n",
       "max        1.000000     1.000000  "
      ]
     },
     "execution_count": 45,
     "metadata": {},
     "output_type": "execute_result"
    }
   ],
   "source": [
    "# Describe the dataset\n",
    "df.describe()"
   ]
  },
  {
   "cell_type": "code",
   "execution_count": 46,
   "metadata": {},
   "outputs": [
    {
     "data": {
      "text/html": [
       "<div>\n",
       "<style scoped>\n",
       "    .dataframe tbody tr th:only-of-type {\n",
       "        vertical-align: middle;\n",
       "    }\n",
       "\n",
       "    .dataframe tbody tr th {\n",
       "        vertical-align: top;\n",
       "    }\n",
       "\n",
       "    .dataframe thead th {\n",
       "        text-align: right;\n",
       "    }\n",
       "</style>\n",
       "<table border=\"1\" class=\"dataframe\">\n",
       "  <thead>\n",
       "    <tr style=\"text-align: right;\">\n",
       "      <th></th>\n",
       "      <th>Age</th>\n",
       "      <th>Gender</th>\n",
       "      <th>Ethnicity</th>\n",
       "      <th>EducationLevel</th>\n",
       "      <th>BMI</th>\n",
       "      <th>Smoking</th>\n",
       "      <th>AlcoholConsumption</th>\n",
       "      <th>PhysicalActivity</th>\n",
       "      <th>DietQuality</th>\n",
       "      <th>SleepQuality</th>\n",
       "      <th>FamilyHistoryParkinsons</th>\n",
       "      <th>TraumaticBrainInjury</th>\n",
       "      <th>Hypertension</th>\n",
       "      <th>Diabetes</th>\n",
       "      <th>Depression</th>\n",
       "      <th>Stroke</th>\n",
       "      <th>SystolicBP</th>\n",
       "      <th>DiastolicBP</th>\n",
       "      <th>CholesterolTotal</th>\n",
       "      <th>CholesterolLDL</th>\n",
       "      <th>CholesterolHDL</th>\n",
       "      <th>CholesterolTriglycerides</th>\n",
       "      <th>UPDRS</th>\n",
       "      <th>MoCA</th>\n",
       "      <th>FunctionalAssessment</th>\n",
       "      <th>Tremor</th>\n",
       "      <th>Rigidity</th>\n",
       "      <th>Bradykinesia</th>\n",
       "      <th>PosturalInstability</th>\n",
       "      <th>SpeechProblems</th>\n",
       "      <th>SleepDisorders</th>\n",
       "      <th>Constipation</th>\n",
       "      <th>Diagnosis</th>\n",
       "    </tr>\n",
       "  </thead>\n",
       "  <tbody>\n",
       "    <tr>\n",
       "      <th>count</th>\n",
       "      <td>2105.000000</td>\n",
       "      <td>2105.000000</td>\n",
       "      <td>2105.000000</td>\n",
       "      <td>2105.000000</td>\n",
       "      <td>2105.000000</td>\n",
       "      <td>2105.000000</td>\n",
       "      <td>2105.000000</td>\n",
       "      <td>2105.000000</td>\n",
       "      <td>2105.000000</td>\n",
       "      <td>2105.000000</td>\n",
       "      <td>2105.000000</td>\n",
       "      <td>2105.000000</td>\n",
       "      <td>2105.000000</td>\n",
       "      <td>2105.000000</td>\n",
       "      <td>2105.000000</td>\n",
       "      <td>2105.000000</td>\n",
       "      <td>2105.000000</td>\n",
       "      <td>2105.000000</td>\n",
       "      <td>2105.000000</td>\n",
       "      <td>2105.000000</td>\n",
       "      <td>2105.000000</td>\n",
       "      <td>2105.000000</td>\n",
       "      <td>2105.000000</td>\n",
       "      <td>2105.000000</td>\n",
       "      <td>2105.000000</td>\n",
       "      <td>2105.000000</td>\n",
       "      <td>2105.000000</td>\n",
       "      <td>2105.000000</td>\n",
       "      <td>2105.000000</td>\n",
       "      <td>2105.000000</td>\n",
       "      <td>2105.000000</td>\n",
       "      <td>2105.000000</td>\n",
       "      <td>2105.000000</td>\n",
       "    </tr>\n",
       "    <tr>\n",
       "      <th>mean</th>\n",
       "      <td>69.601900</td>\n",
       "      <td>0.492637</td>\n",
       "      <td>0.692637</td>\n",
       "      <td>1.337292</td>\n",
       "      <td>27.209493</td>\n",
       "      <td>0.296437</td>\n",
       "      <td>10.040413</td>\n",
       "      <td>5.016674</td>\n",
       "      <td>4.912901</td>\n",
       "      <td>6.996639</td>\n",
       "      <td>0.145843</td>\n",
       "      <td>0.106413</td>\n",
       "      <td>0.145843</td>\n",
       "      <td>0.148219</td>\n",
       "      <td>0.205226</td>\n",
       "      <td>0.048931</td>\n",
       "      <td>133.719715</td>\n",
       "      <td>90.249881</td>\n",
       "      <td>226.860840</td>\n",
       "      <td>126.147858</td>\n",
       "      <td>59.670352</td>\n",
       "      <td>222.940500</td>\n",
       "      <td>101.415318</td>\n",
       "      <td>15.094314</td>\n",
       "      <td>4.989694</td>\n",
       "      <td>0.431829</td>\n",
       "      <td>0.252732</td>\n",
       "      <td>0.207601</td>\n",
       "      <td>0.138717</td>\n",
       "      <td>0.295012</td>\n",
       "      <td>0.245131</td>\n",
       "      <td>0.296912</td>\n",
       "      <td>0.619477</td>\n",
       "    </tr>\n",
       "    <tr>\n",
       "      <th>std</th>\n",
       "      <td>11.594511</td>\n",
       "      <td>0.500065</td>\n",
       "      <td>1.003827</td>\n",
       "      <td>0.895840</td>\n",
       "      <td>7.208099</td>\n",
       "      <td>0.456795</td>\n",
       "      <td>5.687014</td>\n",
       "      <td>2.890919</td>\n",
       "      <td>2.872115</td>\n",
       "      <td>1.753065</td>\n",
       "      <td>0.353033</td>\n",
       "      <td>0.308439</td>\n",
       "      <td>0.353033</td>\n",
       "      <td>0.355401</td>\n",
       "      <td>0.403962</td>\n",
       "      <td>0.215775</td>\n",
       "      <td>26.502355</td>\n",
       "      <td>17.061488</td>\n",
       "      <td>43.589406</td>\n",
       "      <td>43.407036</td>\n",
       "      <td>23.370920</td>\n",
       "      <td>101.895822</td>\n",
       "      <td>56.591448</td>\n",
       "      <td>8.643014</td>\n",
       "      <td>2.933877</td>\n",
       "      <td>0.495449</td>\n",
       "      <td>0.434682</td>\n",
       "      <td>0.405686</td>\n",
       "      <td>0.345733</td>\n",
       "      <td>0.456156</td>\n",
       "      <td>0.430267</td>\n",
       "      <td>0.457006</td>\n",
       "      <td>0.485631</td>\n",
       "    </tr>\n",
       "    <tr>\n",
       "      <th>min</th>\n",
       "      <td>50.000000</td>\n",
       "      <td>0.000000</td>\n",
       "      <td>0.000000</td>\n",
       "      <td>0.000000</td>\n",
       "      <td>15.008333</td>\n",
       "      <td>0.000000</td>\n",
       "      <td>0.002228</td>\n",
       "      <td>0.004157</td>\n",
       "      <td>0.000011</td>\n",
       "      <td>4.000497</td>\n",
       "      <td>0.000000</td>\n",
       "      <td>0.000000</td>\n",
       "      <td>0.000000</td>\n",
       "      <td>0.000000</td>\n",
       "      <td>0.000000</td>\n",
       "      <td>0.000000</td>\n",
       "      <td>90.000000</td>\n",
       "      <td>60.000000</td>\n",
       "      <td>150.062698</td>\n",
       "      <td>50.022828</td>\n",
       "      <td>20.027981</td>\n",
       "      <td>50.113604</td>\n",
       "      <td>0.028441</td>\n",
       "      <td>0.021191</td>\n",
       "      <td>0.001505</td>\n",
       "      <td>0.000000</td>\n",
       "      <td>0.000000</td>\n",
       "      <td>0.000000</td>\n",
       "      <td>0.000000</td>\n",
       "      <td>0.000000</td>\n",
       "      <td>0.000000</td>\n",
       "      <td>0.000000</td>\n",
       "      <td>0.000000</td>\n",
       "    </tr>\n",
       "    <tr>\n",
       "      <th>25%</th>\n",
       "      <td>60.000000</td>\n",
       "      <td>0.000000</td>\n",
       "      <td>0.000000</td>\n",
       "      <td>1.000000</td>\n",
       "      <td>20.782176</td>\n",
       "      <td>0.000000</td>\n",
       "      <td>5.150278</td>\n",
       "      <td>2.455703</td>\n",
       "      <td>2.478503</td>\n",
       "      <td>5.488864</td>\n",
       "      <td>0.000000</td>\n",
       "      <td>0.000000</td>\n",
       "      <td>0.000000</td>\n",
       "      <td>0.000000</td>\n",
       "      <td>0.000000</td>\n",
       "      <td>0.000000</td>\n",
       "      <td>110.000000</td>\n",
       "      <td>75.000000</td>\n",
       "      <td>189.385178</td>\n",
       "      <td>88.841960</td>\n",
       "      <td>39.538643</td>\n",
       "      <td>132.520174</td>\n",
       "      <td>53.048148</td>\n",
       "      <td>7.517160</td>\n",
       "      <td>2.415890</td>\n",
       "      <td>0.000000</td>\n",
       "      <td>0.000000</td>\n",
       "      <td>0.000000</td>\n",
       "      <td>0.000000</td>\n",
       "      <td>0.000000</td>\n",
       "      <td>0.000000</td>\n",
       "      <td>0.000000</td>\n",
       "      <td>0.000000</td>\n",
       "    </tr>\n",
       "    <tr>\n",
       "      <th>50%</th>\n",
       "      <td>70.000000</td>\n",
       "      <td>0.000000</td>\n",
       "      <td>0.000000</td>\n",
       "      <td>1.000000</td>\n",
       "      <td>27.184571</td>\n",
       "      <td>0.000000</td>\n",
       "      <td>10.070337</td>\n",
       "      <td>5.031550</td>\n",
       "      <td>4.825187</td>\n",
       "      <td>6.929819</td>\n",
       "      <td>0.000000</td>\n",
       "      <td>0.000000</td>\n",
       "      <td>0.000000</td>\n",
       "      <td>0.000000</td>\n",
       "      <td>0.000000</td>\n",
       "      <td>0.000000</td>\n",
       "      <td>133.000000</td>\n",
       "      <td>91.000000</td>\n",
       "      <td>228.528256</td>\n",
       "      <td>126.884570</td>\n",
       "      <td>59.343357</td>\n",
       "      <td>222.802452</td>\n",
       "      <td>102.561023</td>\n",
       "      <td>14.963574</td>\n",
       "      <td>4.983227</td>\n",
       "      <td>0.000000</td>\n",
       "      <td>0.000000</td>\n",
       "      <td>0.000000</td>\n",
       "      <td>0.000000</td>\n",
       "      <td>0.000000</td>\n",
       "      <td>0.000000</td>\n",
       "      <td>0.000000</td>\n",
       "      <td>1.000000</td>\n",
       "    </tr>\n",
       "    <tr>\n",
       "      <th>75%</th>\n",
       "      <td>80.000000</td>\n",
       "      <td>1.000000</td>\n",
       "      <td>1.000000</td>\n",
       "      <td>2.000000</td>\n",
       "      <td>33.462452</td>\n",
       "      <td>1.000000</td>\n",
       "      <td>14.829565</td>\n",
       "      <td>7.512795</td>\n",
       "      <td>7.381487</td>\n",
       "      <td>8.558719</td>\n",
       "      <td>0.000000</td>\n",
       "      <td>0.000000</td>\n",
       "      <td>0.000000</td>\n",
       "      <td>0.000000</td>\n",
       "      <td>0.000000</td>\n",
       "      <td>0.000000</td>\n",
       "      <td>157.000000</td>\n",
       "      <td>105.000000</td>\n",
       "      <td>264.608100</td>\n",
       "      <td>163.912782</td>\n",
       "      <td>79.366628</td>\n",
       "      <td>311.699109</td>\n",
       "      <td>149.831682</td>\n",
       "      <td>22.608362</td>\n",
       "      <td>7.484220</td>\n",
       "      <td>1.000000</td>\n",
       "      <td>1.000000</td>\n",
       "      <td>0.000000</td>\n",
       "      <td>0.000000</td>\n",
       "      <td>1.000000</td>\n",
       "      <td>0.000000</td>\n",
       "      <td>1.000000</td>\n",
       "      <td>1.000000</td>\n",
       "    </tr>\n",
       "    <tr>\n",
       "      <th>max</th>\n",
       "      <td>89.000000</td>\n",
       "      <td>1.000000</td>\n",
       "      <td>3.000000</td>\n",
       "      <td>3.000000</td>\n",
       "      <td>39.999887</td>\n",
       "      <td>1.000000</td>\n",
       "      <td>19.988866</td>\n",
       "      <td>9.995255</td>\n",
       "      <td>9.995864</td>\n",
       "      <td>9.999821</td>\n",
       "      <td>1.000000</td>\n",
       "      <td>1.000000</td>\n",
       "      <td>1.000000</td>\n",
       "      <td>1.000000</td>\n",
       "      <td>1.000000</td>\n",
       "      <td>1.000000</td>\n",
       "      <td>179.000000</td>\n",
       "      <td>119.000000</td>\n",
       "      <td>299.963074</td>\n",
       "      <td>199.985981</td>\n",
       "      <td>99.982265</td>\n",
       "      <td>399.975022</td>\n",
       "      <td>198.953604</td>\n",
       "      <td>29.970107</td>\n",
       "      <td>9.992697</td>\n",
       "      <td>1.000000</td>\n",
       "      <td>1.000000</td>\n",
       "      <td>1.000000</td>\n",
       "      <td>1.000000</td>\n",
       "      <td>1.000000</td>\n",
       "      <td>1.000000</td>\n",
       "      <td>1.000000</td>\n",
       "      <td>1.000000</td>\n",
       "    </tr>\n",
       "  </tbody>\n",
       "</table>\n",
       "</div>"
      ],
      "text/plain": [
       "               Age       Gender    Ethnicity  EducationLevel          BMI  \\\n",
       "count  2105.000000  2105.000000  2105.000000     2105.000000  2105.000000   \n",
       "mean     69.601900     0.492637     0.692637        1.337292    27.209493   \n",
       "std      11.594511     0.500065     1.003827        0.895840     7.208099   \n",
       "min      50.000000     0.000000     0.000000        0.000000    15.008333   \n",
       "25%      60.000000     0.000000     0.000000        1.000000    20.782176   \n",
       "50%      70.000000     0.000000     0.000000        1.000000    27.184571   \n",
       "75%      80.000000     1.000000     1.000000        2.000000    33.462452   \n",
       "max      89.000000     1.000000     3.000000        3.000000    39.999887   \n",
       "\n",
       "           Smoking  AlcoholConsumption  PhysicalActivity  DietQuality  \\\n",
       "count  2105.000000         2105.000000       2105.000000  2105.000000   \n",
       "mean      0.296437           10.040413          5.016674     4.912901   \n",
       "std       0.456795            5.687014          2.890919     2.872115   \n",
       "min       0.000000            0.002228          0.004157     0.000011   \n",
       "25%       0.000000            5.150278          2.455703     2.478503   \n",
       "50%       0.000000           10.070337          5.031550     4.825187   \n",
       "75%       1.000000           14.829565          7.512795     7.381487   \n",
       "max       1.000000           19.988866          9.995255     9.995864   \n",
       "\n",
       "       SleepQuality  FamilyHistoryParkinsons  TraumaticBrainInjury  \\\n",
       "count   2105.000000              2105.000000           2105.000000   \n",
       "mean       6.996639                 0.145843              0.106413   \n",
       "std        1.753065                 0.353033              0.308439   \n",
       "min        4.000497                 0.000000              0.000000   \n",
       "25%        5.488864                 0.000000              0.000000   \n",
       "50%        6.929819                 0.000000              0.000000   \n",
       "75%        8.558719                 0.000000              0.000000   \n",
       "max        9.999821                 1.000000              1.000000   \n",
       "\n",
       "       Hypertension     Diabetes   Depression       Stroke   SystolicBP  \\\n",
       "count   2105.000000  2105.000000  2105.000000  2105.000000  2105.000000   \n",
       "mean       0.145843     0.148219     0.205226     0.048931   133.719715   \n",
       "std        0.353033     0.355401     0.403962     0.215775    26.502355   \n",
       "min        0.000000     0.000000     0.000000     0.000000    90.000000   \n",
       "25%        0.000000     0.000000     0.000000     0.000000   110.000000   \n",
       "50%        0.000000     0.000000     0.000000     0.000000   133.000000   \n",
       "75%        0.000000     0.000000     0.000000     0.000000   157.000000   \n",
       "max        1.000000     1.000000     1.000000     1.000000   179.000000   \n",
       "\n",
       "       DiastolicBP  CholesterolTotal  CholesterolLDL  CholesterolHDL  \\\n",
       "count  2105.000000       2105.000000     2105.000000     2105.000000   \n",
       "mean     90.249881        226.860840      126.147858       59.670352   \n",
       "std      17.061488         43.589406       43.407036       23.370920   \n",
       "min      60.000000        150.062698       50.022828       20.027981   \n",
       "25%      75.000000        189.385178       88.841960       39.538643   \n",
       "50%      91.000000        228.528256      126.884570       59.343357   \n",
       "75%     105.000000        264.608100      163.912782       79.366628   \n",
       "max     119.000000        299.963074      199.985981       99.982265   \n",
       "\n",
       "       CholesterolTriglycerides        UPDRS         MoCA  \\\n",
       "count               2105.000000  2105.000000  2105.000000   \n",
       "mean                 222.940500   101.415318    15.094314   \n",
       "std                  101.895822    56.591448     8.643014   \n",
       "min                   50.113604     0.028441     0.021191   \n",
       "25%                  132.520174    53.048148     7.517160   \n",
       "50%                  222.802452   102.561023    14.963574   \n",
       "75%                  311.699109   149.831682    22.608362   \n",
       "max                  399.975022   198.953604    29.970107   \n",
       "\n",
       "       FunctionalAssessment       Tremor     Rigidity  Bradykinesia  \\\n",
       "count           2105.000000  2105.000000  2105.000000   2105.000000   \n",
       "mean               4.989694     0.431829     0.252732      0.207601   \n",
       "std                2.933877     0.495449     0.434682      0.405686   \n",
       "min                0.001505     0.000000     0.000000      0.000000   \n",
       "25%                2.415890     0.000000     0.000000      0.000000   \n",
       "50%                4.983227     0.000000     0.000000      0.000000   \n",
       "75%                7.484220     1.000000     1.000000      0.000000   \n",
       "max                9.992697     1.000000     1.000000      1.000000   \n",
       "\n",
       "       PosturalInstability  SpeechProblems  SleepDisorders  Constipation  \\\n",
       "count          2105.000000     2105.000000     2105.000000   2105.000000   \n",
       "mean              0.138717        0.295012        0.245131      0.296912   \n",
       "std               0.345733        0.456156        0.430267      0.457006   \n",
       "min               0.000000        0.000000        0.000000      0.000000   \n",
       "25%               0.000000        0.000000        0.000000      0.000000   \n",
       "50%               0.000000        0.000000        0.000000      0.000000   \n",
       "75%               0.000000        1.000000        0.000000      1.000000   \n",
       "max               1.000000        1.000000        1.000000      1.000000   \n",
       "\n",
       "         Diagnosis  \n",
       "count  2105.000000  \n",
       "mean      0.619477  \n",
       "std       0.485631  \n",
       "min       0.000000  \n",
       "25%       0.000000  \n",
       "50%       1.000000  \n",
       "75%       1.000000  \n",
       "max       1.000000  "
      ]
     },
     "execution_count": 46,
     "metadata": {},
     "output_type": "execute_result"
    }
   ],
   "source": [
    "# Droping column PatientID and DoctorInCharge from the data\n",
    "df = df.drop(['PatientID', 'DoctorInCharge'], axis=1)\n",
    "df.describe()\n"
   ]
  },
  {
   "cell_type": "code",
   "execution_count": 47,
   "metadata": {},
   "outputs": [
    {
     "data": {
      "text/html": [
       "<div>\n",
       "<style scoped>\n",
       "    .dataframe tbody tr th:only-of-type {\n",
       "        vertical-align: middle;\n",
       "    }\n",
       "\n",
       "    .dataframe tbody tr th {\n",
       "        vertical-align: top;\n",
       "    }\n",
       "\n",
       "    .dataframe thead th {\n",
       "        text-align: right;\n",
       "    }\n",
       "</style>\n",
       "<table border=\"1\" class=\"dataframe\">\n",
       "  <thead>\n",
       "    <tr style=\"text-align: right;\">\n",
       "      <th></th>\n",
       "      <th>Gender</th>\n",
       "      <th>Ethnicity</th>\n",
       "      <th>EducationLevel</th>\n",
       "      <th>Smoking</th>\n",
       "      <th>FamilyHistoryParkinsons</th>\n",
       "      <th>TraumaticBrainInjury</th>\n",
       "      <th>Hypertension</th>\n",
       "      <th>Diabetes</th>\n",
       "      <th>Depression</th>\n",
       "      <th>Stroke</th>\n",
       "      <th>Tremor</th>\n",
       "      <th>Rigidity</th>\n",
       "      <th>Bradykinesia</th>\n",
       "      <th>PosturalInstability</th>\n",
       "      <th>SpeechProblems</th>\n",
       "      <th>SleepDisorders</th>\n",
       "      <th>Constipation</th>\n",
       "      <th>Age</th>\n",
       "      <th>BMI</th>\n",
       "      <th>AlcoholConsumption</th>\n",
       "      <th>PhysicalActivity</th>\n",
       "      <th>DietQuality</th>\n",
       "      <th>SleepQuality</th>\n",
       "      <th>SystolicBP</th>\n",
       "      <th>DiastolicBP</th>\n",
       "      <th>CholesterolTotal</th>\n",
       "      <th>CholesterolLDL</th>\n",
       "      <th>CholesterolHDL</th>\n",
       "      <th>CholesterolTriglycerides</th>\n",
       "      <th>UPDRS</th>\n",
       "      <th>MoCA</th>\n",
       "      <th>FunctionalAssessment</th>\n",
       "    </tr>\n",
       "  </thead>\n",
       "  <tbody>\n",
       "    <tr>\n",
       "      <th>0</th>\n",
       "      <td>0</td>\n",
       "      <td>3</td>\n",
       "      <td>1</td>\n",
       "      <td>0</td>\n",
       "      <td>0</td>\n",
       "      <td>0</td>\n",
       "      <td>0</td>\n",
       "      <td>0</td>\n",
       "      <td>0</td>\n",
       "      <td>0</td>\n",
       "      <td>1</td>\n",
       "      <td>0</td>\n",
       "      <td>0</td>\n",
       "      <td>0</td>\n",
       "      <td>0</td>\n",
       "      <td>0</td>\n",
       "      <td>0</td>\n",
       "      <td>85</td>\n",
       "      <td>19.619878</td>\n",
       "      <td>5.108241</td>\n",
       "      <td>1.380660</td>\n",
       "      <td>3.893969</td>\n",
       "      <td>9.283194</td>\n",
       "      <td>129</td>\n",
       "      <td>60</td>\n",
       "      <td>222.842278</td>\n",
       "      <td>148.125623</td>\n",
       "      <td>37.867776</td>\n",
       "      <td>337.307114</td>\n",
       "      <td>6.458713</td>\n",
       "      <td>29.181289</td>\n",
       "      <td>1.572427</td>\n",
       "    </tr>\n",
       "    <tr>\n",
       "      <th>1</th>\n",
       "      <td>0</td>\n",
       "      <td>0</td>\n",
       "      <td>2</td>\n",
       "      <td>1</td>\n",
       "      <td>0</td>\n",
       "      <td>0</td>\n",
       "      <td>0</td>\n",
       "      <td>0</td>\n",
       "      <td>0</td>\n",
       "      <td>0</td>\n",
       "      <td>0</td>\n",
       "      <td>1</td>\n",
       "      <td>0</td>\n",
       "      <td>1</td>\n",
       "      <td>0</td>\n",
       "      <td>1</td>\n",
       "      <td>0</td>\n",
       "      <td>75</td>\n",
       "      <td>16.247339</td>\n",
       "      <td>6.027648</td>\n",
       "      <td>8.409804</td>\n",
       "      <td>8.513428</td>\n",
       "      <td>5.602470</td>\n",
       "      <td>163</td>\n",
       "      <td>76</td>\n",
       "      <td>210.501133</td>\n",
       "      <td>153.756463</td>\n",
       "      <td>77.228117</td>\n",
       "      <td>264.635521</td>\n",
       "      <td>37.306703</td>\n",
       "      <td>12.332639</td>\n",
       "      <td>4.787551</td>\n",
       "    </tr>\n",
       "    <tr>\n",
       "      <th>2</th>\n",
       "      <td>1</td>\n",
       "      <td>0</td>\n",
       "      <td>0</td>\n",
       "      <td>0</td>\n",
       "      <td>0</td>\n",
       "      <td>0</td>\n",
       "      <td>0</td>\n",
       "      <td>1</td>\n",
       "      <td>0</td>\n",
       "      <td>0</td>\n",
       "      <td>1</td>\n",
       "      <td>0</td>\n",
       "      <td>0</td>\n",
       "      <td>0</td>\n",
       "      <td>1</td>\n",
       "      <td>0</td>\n",
       "      <td>1</td>\n",
       "      <td>70</td>\n",
       "      <td>15.368239</td>\n",
       "      <td>2.242135</td>\n",
       "      <td>0.213275</td>\n",
       "      <td>6.498805</td>\n",
       "      <td>9.929824</td>\n",
       "      <td>113</td>\n",
       "      <td>93</td>\n",
       "      <td>287.387996</td>\n",
       "      <td>118.702600</td>\n",
       "      <td>85.588304</td>\n",
       "      <td>395.662649</td>\n",
       "      <td>67.838170</td>\n",
       "      <td>29.927783</td>\n",
       "      <td>2.130686</td>\n",
       "    </tr>\n",
       "    <tr>\n",
       "      <th>3</th>\n",
       "      <td>0</td>\n",
       "      <td>0</td>\n",
       "      <td>0</td>\n",
       "      <td>0</td>\n",
       "      <td>0</td>\n",
       "      <td>0</td>\n",
       "      <td>0</td>\n",
       "      <td>0</td>\n",
       "      <td>0</td>\n",
       "      <td>0</td>\n",
       "      <td>1</td>\n",
       "      <td>1</td>\n",
       "      <td>1</td>\n",
       "      <td>0</td>\n",
       "      <td>0</td>\n",
       "      <td>0</td>\n",
       "      <td>1</td>\n",
       "      <td>52</td>\n",
       "      <td>15.454557</td>\n",
       "      <td>5.997788</td>\n",
       "      <td>1.375045</td>\n",
       "      <td>6.715033</td>\n",
       "      <td>4.196189</td>\n",
       "      <td>146</td>\n",
       "      <td>78</td>\n",
       "      <td>280.339546</td>\n",
       "      <td>136.299186</td>\n",
       "      <td>51.869626</td>\n",
       "      <td>362.189688</td>\n",
       "      <td>52.964696</td>\n",
       "      <td>21.304268</td>\n",
       "      <td>3.391288</td>\n",
       "    </tr>\n",
       "    <tr>\n",
       "      <th>4</th>\n",
       "      <td>0</td>\n",
       "      <td>0</td>\n",
       "      <td>1</td>\n",
       "      <td>0</td>\n",
       "      <td>0</td>\n",
       "      <td>0</td>\n",
       "      <td>0</td>\n",
       "      <td>0</td>\n",
       "      <td>0</td>\n",
       "      <td>0</td>\n",
       "      <td>0</td>\n",
       "      <td>0</td>\n",
       "      <td>0</td>\n",
       "      <td>1</td>\n",
       "      <td>0</td>\n",
       "      <td>1</td>\n",
       "      <td>0</td>\n",
       "      <td>87</td>\n",
       "      <td>18.616042</td>\n",
       "      <td>9.775243</td>\n",
       "      <td>1.188607</td>\n",
       "      <td>4.657572</td>\n",
       "      <td>9.363925</td>\n",
       "      <td>115</td>\n",
       "      <td>94</td>\n",
       "      <td>284.014151</td>\n",
       "      <td>108.449452</td>\n",
       "      <td>25.069418</td>\n",
       "      <td>149.956586</td>\n",
       "      <td>21.804880</td>\n",
       "      <td>8.336364</td>\n",
       "      <td>3.200969</td>\n",
       "    </tr>\n",
       "    <tr>\n",
       "      <th>...</th>\n",
       "      <td>...</td>\n",
       "      <td>...</td>\n",
       "      <td>...</td>\n",
       "      <td>...</td>\n",
       "      <td>...</td>\n",
       "      <td>...</td>\n",
       "      <td>...</td>\n",
       "      <td>...</td>\n",
       "      <td>...</td>\n",
       "      <td>...</td>\n",
       "      <td>...</td>\n",
       "      <td>...</td>\n",
       "      <td>...</td>\n",
       "      <td>...</td>\n",
       "      <td>...</td>\n",
       "      <td>...</td>\n",
       "      <td>...</td>\n",
       "      <td>...</td>\n",
       "      <td>...</td>\n",
       "      <td>...</td>\n",
       "      <td>...</td>\n",
       "      <td>...</td>\n",
       "      <td>...</td>\n",
       "      <td>...</td>\n",
       "      <td>...</td>\n",
       "      <td>...</td>\n",
       "      <td>...</td>\n",
       "      <td>...</td>\n",
       "      <td>...</td>\n",
       "      <td>...</td>\n",
       "      <td>...</td>\n",
       "      <td>...</td>\n",
       "    </tr>\n",
       "    <tr>\n",
       "      <th>2100</th>\n",
       "      <td>1</td>\n",
       "      <td>0</td>\n",
       "      <td>2</td>\n",
       "      <td>0</td>\n",
       "      <td>0</td>\n",
       "      <td>0</td>\n",
       "      <td>1</td>\n",
       "      <td>0</td>\n",
       "      <td>0</td>\n",
       "      <td>0</td>\n",
       "      <td>1</td>\n",
       "      <td>0</td>\n",
       "      <td>0</td>\n",
       "      <td>0</td>\n",
       "      <td>1</td>\n",
       "      <td>1</td>\n",
       "      <td>0</td>\n",
       "      <td>87</td>\n",
       "      <td>38.483841</td>\n",
       "      <td>12.674393</td>\n",
       "      <td>5.325900</td>\n",
       "      <td>5.947278</td>\n",
       "      <td>6.296231</td>\n",
       "      <td>92</td>\n",
       "      <td>98</td>\n",
       "      <td>191.372707</td>\n",
       "      <td>98.730980</td>\n",
       "      <td>93.269555</td>\n",
       "      <td>161.291730</td>\n",
       "      <td>187.887925</td>\n",
       "      <td>28.634010</td>\n",
       "      <td>8.076254</td>\n",
       "    </tr>\n",
       "    <tr>\n",
       "      <th>2101</th>\n",
       "      <td>0</td>\n",
       "      <td>0</td>\n",
       "      <td>1</td>\n",
       "      <td>1</td>\n",
       "      <td>1</td>\n",
       "      <td>0</td>\n",
       "      <td>0</td>\n",
       "      <td>0</td>\n",
       "      <td>0</td>\n",
       "      <td>0</td>\n",
       "      <td>0</td>\n",
       "      <td>0</td>\n",
       "      <td>0</td>\n",
       "      <td>1</td>\n",
       "      <td>0</td>\n",
       "      <td>1</td>\n",
       "      <td>1</td>\n",
       "      <td>67</td>\n",
       "      <td>33.694396</td>\n",
       "      <td>0.977018</td>\n",
       "      <td>0.108599</td>\n",
       "      <td>4.825187</td>\n",
       "      <td>6.342325</td>\n",
       "      <td>103</td>\n",
       "      <td>96</td>\n",
       "      <td>150.188647</td>\n",
       "      <td>112.063230</td>\n",
       "      <td>47.524626</td>\n",
       "      <td>240.086616</td>\n",
       "      <td>172.325253</td>\n",
       "      <td>13.106537</td>\n",
       "      <td>1.665751</td>\n",
       "    </tr>\n",
       "    <tr>\n",
       "      <th>2102</th>\n",
       "      <td>0</td>\n",
       "      <td>0</td>\n",
       "      <td>2</td>\n",
       "      <td>0</td>\n",
       "      <td>1</td>\n",
       "      <td>0</td>\n",
       "      <td>0</td>\n",
       "      <td>1</td>\n",
       "      <td>0</td>\n",
       "      <td>1</td>\n",
       "      <td>0</td>\n",
       "      <td>0</td>\n",
       "      <td>0</td>\n",
       "      <td>0</td>\n",
       "      <td>1</td>\n",
       "      <td>1</td>\n",
       "      <td>0</td>\n",
       "      <td>65</td>\n",
       "      <td>22.829631</td>\n",
       "      <td>6.152286</td>\n",
       "      <td>5.775103</td>\n",
       "      <td>0.334244</td>\n",
       "      <td>9.740019</td>\n",
       "      <td>168</td>\n",
       "      <td>79</td>\n",
       "      <td>159.351155</td>\n",
       "      <td>61.543591</td>\n",
       "      <td>72.765698</td>\n",
       "      <td>222.231014</td>\n",
       "      <td>111.851581</td>\n",
       "      <td>26.527734</td>\n",
       "      <td>4.785614</td>\n",
       "    </tr>\n",
       "    <tr>\n",
       "      <th>2103</th>\n",
       "      <td>1</td>\n",
       "      <td>0</td>\n",
       "      <td>0</td>\n",
       "      <td>1</td>\n",
       "      <td>0</td>\n",
       "      <td>0</td>\n",
       "      <td>0</td>\n",
       "      <td>0</td>\n",
       "      <td>0</td>\n",
       "      <td>0</td>\n",
       "      <td>1</td>\n",
       "      <td>0</td>\n",
       "      <td>1</td>\n",
       "      <td>0</td>\n",
       "      <td>0</td>\n",
       "      <td>1</td>\n",
       "      <td>1</td>\n",
       "      <td>61</td>\n",
       "      <td>16.871030</td>\n",
       "      <td>0.292094</td>\n",
       "      <td>2.280475</td>\n",
       "      <td>9.598513</td>\n",
       "      <td>8.289390</td>\n",
       "      <td>129</td>\n",
       "      <td>97</td>\n",
       "      <td>232.240473</td>\n",
       "      <td>53.029891</td>\n",
       "      <td>99.945560</td>\n",
       "      <td>167.980928</td>\n",
       "      <td>144.474453</td>\n",
       "      <td>19.873404</td>\n",
       "      <td>8.378979</td>\n",
       "    </tr>\n",
       "    <tr>\n",
       "      <th>2104</th>\n",
       "      <td>0</td>\n",
       "      <td>0</td>\n",
       "      <td>2</td>\n",
       "      <td>0</td>\n",
       "      <td>0</td>\n",
       "      <td>0</td>\n",
       "      <td>0</td>\n",
       "      <td>0</td>\n",
       "      <td>0</td>\n",
       "      <td>0</td>\n",
       "      <td>0</td>\n",
       "      <td>0</td>\n",
       "      <td>0</td>\n",
       "      <td>0</td>\n",
       "      <td>1</td>\n",
       "      <td>0</td>\n",
       "      <td>1</td>\n",
       "      <td>56</td>\n",
       "      <td>16.569934</td>\n",
       "      <td>1.985084</td>\n",
       "      <td>1.400441</td>\n",
       "      <td>9.883835</td>\n",
       "      <td>9.930037</td>\n",
       "      <td>99</td>\n",
       "      <td>76</td>\n",
       "      <td>190.053027</td>\n",
       "      <td>133.026760</td>\n",
       "      <td>20.252050</td>\n",
       "      <td>194.476929</td>\n",
       "      <td>30.797680</td>\n",
       "      <td>12.192612</td>\n",
       "      <td>5.015131</td>\n",
       "    </tr>\n",
       "  </tbody>\n",
       "</table>\n",
       "<p>2105 rows × 32 columns</p>\n",
       "</div>"
      ],
      "text/plain": [
       "      Gender  Ethnicity  EducationLevel  Smoking  FamilyHistoryParkinsons  \\\n",
       "0          0          3               1        0                        0   \n",
       "1          0          0               2        1                        0   \n",
       "2          1          0               0        0                        0   \n",
       "3          0          0               0        0                        0   \n",
       "4          0          0               1        0                        0   \n",
       "...      ...        ...             ...      ...                      ...   \n",
       "2100       1          0               2        0                        0   \n",
       "2101       0          0               1        1                        1   \n",
       "2102       0          0               2        0                        1   \n",
       "2103       1          0               0        1                        0   \n",
       "2104       0          0               2        0                        0   \n",
       "\n",
       "      TraumaticBrainInjury  Hypertension  Diabetes  Depression  Stroke  \\\n",
       "0                        0             0         0           0       0   \n",
       "1                        0             0         0           0       0   \n",
       "2                        0             0         1           0       0   \n",
       "3                        0             0         0           0       0   \n",
       "4                        0             0         0           0       0   \n",
       "...                    ...           ...       ...         ...     ...   \n",
       "2100                     0             1         0           0       0   \n",
       "2101                     0             0         0           0       0   \n",
       "2102                     0             0         1           0       1   \n",
       "2103                     0             0         0           0       0   \n",
       "2104                     0             0         0           0       0   \n",
       "\n",
       "      Tremor  Rigidity  Bradykinesia  PosturalInstability  SpeechProblems  \\\n",
       "0          1         0             0                    0               0   \n",
       "1          0         1             0                    1               0   \n",
       "2          1         0             0                    0               1   \n",
       "3          1         1             1                    0               0   \n",
       "4          0         0             0                    1               0   \n",
       "...      ...       ...           ...                  ...             ...   \n",
       "2100       1         0             0                    0               1   \n",
       "2101       0         0             0                    1               0   \n",
       "2102       0         0             0                    0               1   \n",
       "2103       1         0             1                    0               0   \n",
       "2104       0         0             0                    0               1   \n",
       "\n",
       "      SleepDisorders  Constipation  Age        BMI  AlcoholConsumption  \\\n",
       "0                  0             0   85  19.619878            5.108241   \n",
       "1                  1             0   75  16.247339            6.027648   \n",
       "2                  0             1   70  15.368239            2.242135   \n",
       "3                  0             1   52  15.454557            5.997788   \n",
       "4                  1             0   87  18.616042            9.775243   \n",
       "...              ...           ...  ...        ...                 ...   \n",
       "2100               1             0   87  38.483841           12.674393   \n",
       "2101               1             1   67  33.694396            0.977018   \n",
       "2102               1             0   65  22.829631            6.152286   \n",
       "2103               1             1   61  16.871030            0.292094   \n",
       "2104               0             1   56  16.569934            1.985084   \n",
       "\n",
       "      PhysicalActivity  DietQuality  SleepQuality  SystolicBP  DiastolicBP  \\\n",
       "0             1.380660     3.893969      9.283194         129           60   \n",
       "1             8.409804     8.513428      5.602470         163           76   \n",
       "2             0.213275     6.498805      9.929824         113           93   \n",
       "3             1.375045     6.715033      4.196189         146           78   \n",
       "4             1.188607     4.657572      9.363925         115           94   \n",
       "...                ...          ...           ...         ...          ...   \n",
       "2100          5.325900     5.947278      6.296231          92           98   \n",
       "2101          0.108599     4.825187      6.342325         103           96   \n",
       "2102          5.775103     0.334244      9.740019         168           79   \n",
       "2103          2.280475     9.598513      8.289390         129           97   \n",
       "2104          1.400441     9.883835      9.930037          99           76   \n",
       "\n",
       "      CholesterolTotal  CholesterolLDL  CholesterolHDL  \\\n",
       "0           222.842278      148.125623       37.867776   \n",
       "1           210.501133      153.756463       77.228117   \n",
       "2           287.387996      118.702600       85.588304   \n",
       "3           280.339546      136.299186       51.869626   \n",
       "4           284.014151      108.449452       25.069418   \n",
       "...                ...             ...             ...   \n",
       "2100        191.372707       98.730980       93.269555   \n",
       "2101        150.188647      112.063230       47.524626   \n",
       "2102        159.351155       61.543591       72.765698   \n",
       "2103        232.240473       53.029891       99.945560   \n",
       "2104        190.053027      133.026760       20.252050   \n",
       "\n",
       "      CholesterolTriglycerides       UPDRS       MoCA  FunctionalAssessment  \n",
       "0                   337.307114    6.458713  29.181289              1.572427  \n",
       "1                   264.635521   37.306703  12.332639              4.787551  \n",
       "2                   395.662649   67.838170  29.927783              2.130686  \n",
       "3                   362.189688   52.964696  21.304268              3.391288  \n",
       "4                   149.956586   21.804880   8.336364              3.200969  \n",
       "...                        ...         ...        ...                   ...  \n",
       "2100                161.291730  187.887925  28.634010              8.076254  \n",
       "2101                240.086616  172.325253  13.106537              1.665751  \n",
       "2102                222.231014  111.851581  26.527734              4.785614  \n",
       "2103                167.980928  144.474453  19.873404              8.378979  \n",
       "2104                194.476929   30.797680  12.192612              5.015131  \n",
       "\n",
       "[2105 rows x 32 columns]"
      ]
     },
     "execution_count": 47,
     "metadata": {},
     "output_type": "execute_result"
    }
   ],
   "source": [
    "numerical_columns = [\n",
    "    'Age', 'BMI', 'AlcoholConsumption', 'PhysicalActivity', 'DietQuality', 'SleepQuality', \n",
    "    'SystolicBP', 'DiastolicBP', 'CholesterolTotal', 'CholesterolLDL', 'CholesterolHDL', 'CholesterolTriglycerides', \n",
    "    'UPDRS', 'MoCA', 'FunctionalAssessment'\n",
    "]\n",
    "\n",
    "categorical_columns = [\n",
    "    'Gender', 'Ethnicity', 'EducationLevel', 'Smoking',  'FamilyHistoryParkinsons',\n",
    "    'TraumaticBrainInjury', 'Hypertension', 'Diabetes', 'Depression', 'Stroke',\n",
    "    'Tremor', 'Rigidity', 'Bradykinesia', 'PosturalInstability', 'SpeechProblems',\n",
    "    'SleepDisorders', 'Constipation'\n",
    "]\n",
    "\n",
    "df[categorical_columns + numerical_columns]"
   ]
  },
  {
   "cell_type": "code",
   "execution_count": 48,
   "metadata": {},
   "outputs": [
    {
     "name": "stdout",
     "output_type": "stream",
     "text": [
      "<class 'pandas.core.frame.DataFrame'>\n",
      "RangeIndex: 2105 entries, 0 to 2104\n",
      "Data columns (total 17 columns):\n",
      " #   Column                   Non-Null Count  Dtype\n",
      "---  ------                   --------------  -----\n",
      " 0   Gender                   2105 non-null   int64\n",
      " 1   Ethnicity                2105 non-null   int64\n",
      " 2   EducationLevel           2105 non-null   int64\n",
      " 3   Smoking                  2105 non-null   int64\n",
      " 4   FamilyHistoryParkinsons  2105 non-null   int64\n",
      " 5   TraumaticBrainInjury     2105 non-null   int64\n",
      " 6   Hypertension             2105 non-null   int64\n",
      " 7   Diabetes                 2105 non-null   int64\n",
      " 8   Depression               2105 non-null   int64\n",
      " 9   Stroke                   2105 non-null   int64\n",
      " 10  Tremor                   2105 non-null   int64\n",
      " 11  Rigidity                 2105 non-null   int64\n",
      " 12  Bradykinesia             2105 non-null   int64\n",
      " 13  PosturalInstability      2105 non-null   int64\n",
      " 14  SpeechProblems           2105 non-null   int64\n",
      " 15  SleepDisorders           2105 non-null   int64\n",
      " 16  Constipation             2105 non-null   int64\n",
      "dtypes: int64(17)\n",
      "memory usage: 279.7 KB\n"
     ]
    }
   ],
   "source": [
    "df[categorical_columns].info()"
   ]
  },
  {
   "cell_type": "code",
   "execution_count": 49,
   "metadata": {},
   "outputs": [
    {
     "name": "stdout",
     "output_type": "stream",
     "text": [
      "<class 'pandas.core.frame.DataFrame'>\n",
      "RangeIndex: 2105 entries, 0 to 2104\n",
      "Data columns (total 17 columns):\n",
      " #   Column                   Non-Null Count  Dtype \n",
      "---  ------                   --------------  ----- \n",
      " 0   Gender                   2105 non-null   object\n",
      " 1   Ethnicity                2105 non-null   object\n",
      " 2   EducationLevel           2105 non-null   object\n",
      " 3   Smoking                  2105 non-null   object\n",
      " 4   FamilyHistoryParkinsons  2105 non-null   object\n",
      " 5   TraumaticBrainInjury     2105 non-null   object\n",
      " 6   Hypertension             2105 non-null   object\n",
      " 7   Diabetes                 2105 non-null   object\n",
      " 8   Depression               2105 non-null   object\n",
      " 9   Stroke                   2105 non-null   object\n",
      " 10  Tremor                   2105 non-null   object\n",
      " 11  Rigidity                 2105 non-null   object\n",
      " 12  Bradykinesia             2105 non-null   object\n",
      " 13  PosturalInstability      2105 non-null   object\n",
      " 14  SpeechProblems           2105 non-null   object\n",
      " 15  SleepDisorders           2105 non-null   object\n",
      " 16  Constipation             2105 non-null   object\n",
      "dtypes: object(17)\n",
      "memory usage: 279.7+ KB\n"
     ]
    }
   ],
   "source": [
    "# Changing the categorical column values dtype from int64 to str (object)\n",
    "df[categorical_columns] = df[categorical_columns].astype(str)\n",
    "df[categorical_columns].info()"
   ]
  },
  {
   "cell_type": "code",
   "execution_count": 50,
   "metadata": {},
   "outputs": [
    {
     "name": "stdout",
     "output_type": "stream",
     "text": [
      "<class 'pandas.core.frame.DataFrame'>\n",
      "RangeIndex: 2105 entries, 0 to 2104\n",
      "Data columns (total 33 columns):\n",
      " #   Column                    Non-Null Count  Dtype  \n",
      "---  ------                    --------------  -----  \n",
      " 0   Age                       2105 non-null   int64  \n",
      " 1   Gender                    2105 non-null   object \n",
      " 2   Ethnicity                 2105 non-null   object \n",
      " 3   EducationLevel            2105 non-null   object \n",
      " 4   BMI                       2105 non-null   float64\n",
      " 5   Smoking                   2105 non-null   object \n",
      " 6   AlcoholConsumption        2105 non-null   float64\n",
      " 7   PhysicalActivity          2105 non-null   float64\n",
      " 8   DietQuality               2105 non-null   float64\n",
      " 9   SleepQuality              2105 non-null   float64\n",
      " 10  FamilyHistoryParkinsons   2105 non-null   object \n",
      " 11  TraumaticBrainInjury      2105 non-null   object \n",
      " 12  Hypertension              2105 non-null   object \n",
      " 13  Diabetes                  2105 non-null   object \n",
      " 14  Depression                2105 non-null   object \n",
      " 15  Stroke                    2105 non-null   object \n",
      " 16  SystolicBP                2105 non-null   int64  \n",
      " 17  DiastolicBP               2105 non-null   int64  \n",
      " 18  CholesterolTotal          2105 non-null   float64\n",
      " 19  CholesterolLDL            2105 non-null   float64\n",
      " 20  CholesterolHDL            2105 non-null   float64\n",
      " 21  CholesterolTriglycerides  2105 non-null   float64\n",
      " 22  UPDRS                     2105 non-null   float64\n",
      " 23  MoCA                      2105 non-null   float64\n",
      " 24  FunctionalAssessment      2105 non-null   float64\n",
      " 25  Tremor                    2105 non-null   object \n",
      " 26  Rigidity                  2105 non-null   object \n",
      " 27  Bradykinesia              2105 non-null   object \n",
      " 28  PosturalInstability       2105 non-null   object \n",
      " 29  SpeechProblems            2105 non-null   object \n",
      " 30  SleepDisorders            2105 non-null   object \n",
      " 31  Constipation              2105 non-null   object \n",
      " 32  Diagnosis                 2105 non-null   int64  \n",
      "dtypes: float64(12), int64(4), object(17)\n",
      "memory usage: 542.8+ KB\n"
     ]
    }
   ],
   "source": [
    "df.info()"
   ]
  },
  {
   "cell_type": "code",
   "execution_count": 51,
   "metadata": {},
   "outputs": [
    {
     "name": "stdout",
     "output_type": "stream",
     "text": [
      "<class 'pandas.core.frame.DataFrame'>\n",
      "RangeIndex: 2105 entries, 0 to 2104\n",
      "Data columns (total 32 columns):\n",
      " #   Column                    Non-Null Count  Dtype  \n",
      "---  ------                    --------------  -----  \n",
      " 0   Age                       2105 non-null   int64  \n",
      " 1   Gender                    2105 non-null   object \n",
      " 2   Ethnicity                 2105 non-null   object \n",
      " 3   EducationLevel            2105 non-null   object \n",
      " 4   BMI                       2105 non-null   float64\n",
      " 5   Smoking                   2105 non-null   object \n",
      " 6   AlcoholConsumption        2105 non-null   float64\n",
      " 7   PhysicalActivity          2105 non-null   float64\n",
      " 8   DietQuality               2105 non-null   float64\n",
      " 9   SleepQuality              2105 non-null   float64\n",
      " 10  FamilyHistoryParkinsons   2105 non-null   object \n",
      " 11  TraumaticBrainInjury      2105 non-null   object \n",
      " 12  Hypertension              2105 non-null   object \n",
      " 13  Diabetes                  2105 non-null   object \n",
      " 14  Depression                2105 non-null   object \n",
      " 15  Stroke                    2105 non-null   object \n",
      " 16  SystolicBP                2105 non-null   int64  \n",
      " 17  DiastolicBP               2105 non-null   int64  \n",
      " 18  CholesterolTotal          2105 non-null   float64\n",
      " 19  CholesterolLDL            2105 non-null   float64\n",
      " 20  CholesterolHDL            2105 non-null   float64\n",
      " 21  CholesterolTriglycerides  2105 non-null   float64\n",
      " 22  UPDRS                     2105 non-null   float64\n",
      " 23  MoCA                      2105 non-null   float64\n",
      " 24  FunctionalAssessment      2105 non-null   float64\n",
      " 25  Tremor                    2105 non-null   object \n",
      " 26  Rigidity                  2105 non-null   object \n",
      " 27  Bradykinesia              2105 non-null   object \n",
      " 28  PosturalInstability       2105 non-null   object \n",
      " 29  SpeechProblems            2105 non-null   object \n",
      " 30  SleepDisorders            2105 non-null   object \n",
      " 31  Constipation              2105 non-null   object \n",
      "dtypes: float64(12), int64(3), object(17)\n",
      "memory usage: 526.4+ KB\n"
     ]
    }
   ],
   "source": [
    "X = df.drop(['Diagnosis'], axis=1)\n",
    "X.info()"
   ]
  },
  {
   "cell_type": "code",
   "execution_count": 52,
   "metadata": {},
   "outputs": [],
   "source": [
    "# Target variable\n",
    "target = 'Diagnosis'\n",
    "y = df[target].values"
   ]
  },
  {
   "cell_type": "code",
   "execution_count": 100,
   "metadata": {},
   "outputs": [],
   "source": [
    "# Split the data into training and validation sets\n",
    "X_train, X_val, y_train, y_val = train_test_split(X, y, test_size=0.2, stratify=y, random_state=42)"
   ]
  },
  {
   "cell_type": "code",
   "execution_count": 101,
   "metadata": {},
   "outputs": [
    {
     "data": {
      "text/plain": [
       "((1684, 32), (421, 32))"
      ]
     },
     "execution_count": 101,
     "metadata": {},
     "output_type": "execute_result"
    }
   ],
   "source": [
    "X_train.shape, X_val.shape"
   ]
  },
  {
   "cell_type": "code",
   "execution_count": 102,
   "metadata": {},
   "outputs": [],
   "source": [
    "dv = DictVectorizer()\n",
    "\n",
    "train_dicts = X_train[categorical_columns + numerical_columns].to_dict(orient='records')\n",
    "X_train = dv.fit_transform(train_dicts)\n",
    "\n",
    "val_dicts = X_val[categorical_columns + numerical_columns].to_dict(orient='records')\n",
    "X_val = dv.transform(val_dicts)"
   ]
  },
  {
   "cell_type": "code",
   "execution_count": 103,
   "metadata": {},
   "outputs": [
    {
     "data": {
      "text/plain": [
       "(0.8028503562945368,\n",
       " 0.8296296296296296,\n",
       " 0.8582375478927203,\n",
       " 0.8436911487758946,\n",
       " 0.4440153642673451)"
      ]
     },
     "execution_count": 103,
     "metadata": {},
     "output_type": "execute_result"
    }
   ],
   "source": [
    "lr = LinearRegression()\n",
    "lr.fit(X_train, y_train)\n",
    "\n",
    "y_pred_continuous = lr.predict(X_val)\n",
    "# Threshold 0f 0.5, if probablity is greater than 0.5 --> 1 else 0\n",
    "y_pred = [1 if value > 0.5 else 0 for value in y_pred_continuous]\n",
    "\n",
    "accuracy = accuracy_score(y_val, y_pred)\n",
    "precision = precision_score(y_val, y_pred)\n",
    "recall = recall_score(y_val, y_pred)\n",
    "f1 = f1_score(y_val, y_pred)\n",
    "rmse = root_mean_squared_error(y_val, y_pred)\n",
    "\n",
    "accuracy, precision, recall, f1, rmse"
   ]
  },
  {
   "cell_type": "code",
   "execution_count": 116,
   "metadata": {},
   "outputs": [
    {
     "data": {
      "text/plain": [
       "(0.8028503562945368,\n",
       " 0.8296296296296296,\n",
       " 0.8582375478927203,\n",
       " 0.8436911487758946,\n",
       " 0.4440153642673451)"
      ]
     },
     "execution_count": 116,
     "metadata": {},
     "output_type": "execute_result"
    }
   ],
   "source": [
    "log_reg = LogisticRegression(max_iter=5000)\n",
    "\n",
    "# Train and evaluate Logistic Regression\n",
    "log_reg.fit(X_train, y_train)\n",
    "y_pred_log_reg_continuous = log_reg.predict(X_val)\n",
    "\n",
    "# Threshold 0f 0.5, if probablity is greater than 0.5 --> 1 else 0\n",
    "y_pred_log_reg = [1 if value > 0.5 else 0 for value in y_pred_log_reg_continuous]\n",
    "\n",
    "accuracy_log_reg = accuracy_score(y_val, y_pred_log_reg)\n",
    "precision_log_reg = precision_score(y_val, y_pred_log_reg)\n",
    "recall_log_reg = recall_score(y_val, y_pred_log_reg)\n",
    "f1_log_reg = f1_score(y_val, y_pred_log_reg)\n",
    "rmse = root_mean_squared_error(y_val, y_pred_log_reg)\n",
    "\n",
    "accuracy, precision, recall, f1, rmse"
   ]
  },
  {
   "cell_type": "markdown",
   "metadata": {},
   "source": [
    "# Cleaning and MLFlow Integration for experimental tracking"
   ]
  },
  {
   "cell_type": "code",
   "execution_count": 22,
   "metadata": {},
   "outputs": [],
   "source": [
    "def load_data(filename):\n",
    "    df = pd.read_csv(filename)\n",
    "    return df\n",
    "\n",
    "def prepare_data(df):\n",
    "\n",
    "    numerical_columns = [\n",
    "    'Age', 'BMI', 'AlcoholConsumption', 'PhysicalActivity', 'DietQuality', 'SleepQuality', \n",
    "    'SystolicBP', 'DiastolicBP', 'CholesterolTotal', 'CholesterolLDL', 'CholesterolHDL', 'CholesterolTriglycerides', \n",
    "    'UPDRS', 'MoCA', 'FunctionalAssessment'\n",
    "    ]\n",
    "\n",
    "    categorical_columns = [\n",
    "        'Gender', 'Ethnicity', 'EducationLevel', 'Smoking',  'FamilyHistoryParkinsons',\n",
    "        'TraumaticBrainInjury', 'Hypertension', 'Diabetes', 'Depression', 'Stroke',\n",
    "        'Tremor', 'Rigidity', 'Bradykinesia', 'PosturalInstability', 'SpeechProblems',\n",
    "        'SleepDisorders', 'Constipation'\n",
    "    ]\n",
    "\n",
    "    # Changing the categorical column values dtype from int64 to str (object)\n",
    "    df[categorical_columns] = df[categorical_columns].astype(str)\n",
    "\n",
    "    X = df[numerical_columns + categorical_columns]\n",
    "    \n",
    "    # Target variable -> y\n",
    "    target = 'Diagnosis'\n",
    "    y = df[target].values\n",
    "    \n",
    "    # Split the data into training and validation sets\n",
    "    X_train, X_val, y_train, y_val = train_test_split(X, y, test_size=0.2, stratify=y, random_state=42)\n",
    "\n",
    "    return X_train, X_val, y_train, y_val\n",
    "\n",
    "def train_and_predict_linear_regression_model(X_train, y_train, X_val):\n",
    "    \n",
    "    # Dicts\n",
    "    train_dicts = X_train.to_dict(orient='records')\n",
    "    val_dicts = X_val.to_dict(orient='records')\n",
    "\n",
    "    # DictVextorizer\n",
    "    dv = DictVectorizer()\n",
    "    X_train = dv.fit_transform(train_dicts)\n",
    "    X_val = dv.transform(val_dicts)\n",
    "\n",
    "    # Loading the model\n",
    "    model = LinearRegression()\n",
    "\n",
    "    # fit and train\n",
    "    model.fit(X_train, y_train)\n",
    "\n",
    "    # Predict\n",
    "    y_pred_continuous = model.predict(X_val)\n",
    "    # Threshold 0f 0.5, if probablity is greater than 0.5 --> 1 else 0\n",
    "    y_pred = [1 if value > 0.5 else 0 for value in y_pred_continuous]\n",
    "\n",
    "    return y_pred\n",
    "\n",
    "def get_metrics(y_val, y_pred):\n",
    "\n",
    "    accuracy = accuracy_score(y_val, y_pred)\n",
    "    precision = precision_score(y_val, y_pred)\n",
    "    recall = recall_score(y_val, y_pred)\n",
    "    f1 = f1_score(y_val, y_pred)\n",
    "    rmse = root_mean_squared_error(y_val, y_pred)\n",
    "\n",
    "    return {'accuracy': accuracy, 'precision': precision, 'recall': recall, 'f1': f1, 'rmse': rmse}\n",
    "\n"
   ]
  },
  {
   "cell_type": "markdown",
   "metadata": {},
   "source": [
    "### Example"
   ]
  },
  {
   "cell_type": "code",
   "execution_count": 23,
   "metadata": {},
   "outputs": [
    {
     "data": {
      "text/plain": [
       "{'accuracy': 0.8028503562945368,\n",
       " 'precision': 0.8296296296296296,\n",
       " 'recall': 0.8582375478927203,\n",
       " 'f1': 0.8436911487758946,\n",
       " 'rmse': 0.4440153642673451}"
      ]
     },
     "execution_count": 23,
     "metadata": {},
     "output_type": "execute_result"
    }
   ],
   "source": [
    "data_path = \"../data/parkinsons_disease_data.csv\"\n",
    "\n",
    "df = load_data(data_path)\n",
    "X_train, X_val, y_train, y_val = prepare_data(df)\n",
    "y_pred = train_and_predict_linear_regression_model(X_train, y_train, X_val)\n",
    "metrics = get_metrics(y_val, y_pred)\n",
    "\n",
    "metrics"
   ]
  },
  {
   "cell_type": "markdown",
   "metadata": {},
   "source": [
    "# Experiemnt Tracking with MLFLOW"
   ]
  },
  {
   "cell_type": "code",
   "execution_count": 2,
   "metadata": {},
   "outputs": [],
   "source": [
    "import os\n",
    "import mlflow"
   ]
  },
  {
   "cell_type": "code",
   "execution_count": 160,
   "metadata": {},
   "outputs": [
    {
     "name": "stderr",
     "output_type": "stream",
     "text": [
      "2024/07/09 11:23:10 INFO mlflow.tracking.fluent: Experiment with name 'parkinson-disease-prediction' does not exist. Creating a new experiment.\n"
     ]
    },
    {
     "data": {
      "text/plain": [
       "<Experiment: artifact_location='mlflow-artifacts:/1', creation_time=1720516990405, experiment_id='1', last_update_time=1720516990405, lifecycle_stage='active', name='parkinson-disease-prediction', tags={}>"
      ]
     },
     "execution_count": 160,
     "metadata": {},
     "output_type": "execute_result"
    }
   ],
   "source": [
    "EXPERIMENT_NAME = os.getenv(\"EXPERIMENT_NAME\", \"parkinson-disease-prediction\")\n",
    "\n",
    "mlflow.set_tracking_uri(\"http://localhost:5000\")\n",
    "mlflow.set_experiment(EXPERIMENT_NAME)"
   ]
  },
  {
   "cell_type": "code",
   "execution_count": 161,
   "metadata": {},
   "outputs": [
    {
     "name": "stdout",
     "output_type": "stream",
     "text": [
      "tracking URI: 'http://localhost:5000'\n"
     ]
    }
   ],
   "source": [
    "print(f\"tracking URI: '{mlflow.get_tracking_uri()}'\")"
   ]
  },
  {
   "cell_type": "code",
   "execution_count": 162,
   "metadata": {},
   "outputs": [
    {
     "data": {
      "text/plain": [
       "[<Experiment: artifact_location='mlflow-artifacts:/1', creation_time=1720516990405, experiment_id='1', last_update_time=1720516990405, lifecycle_stage='active', name='parkinson-disease-prediction', tags={}>,\n",
       " <Experiment: artifact_location='mlflow-artifacts:/0', creation_time=1720516968628, experiment_id='0', last_update_time=1720516968628, lifecycle_stage='active', name='Default', tags={}>]"
      ]
     },
     "execution_count": 162,
     "metadata": {},
     "output_type": "execute_result"
    }
   ],
   "source": [
    "mlflow.search_experiments()"
   ]
  },
  {
   "cell_type": "code",
   "execution_count": 163,
   "metadata": {},
   "outputs": [
    {
     "name": "stderr",
     "output_type": "stream",
     "text": [
      "2024/07/09 11:23:29 WARNING mlflow.sklearn: Failed to log training dataset information to MLflow Tracking. Reason: 'numpy.ndarray' object has no attribute 'toarray'\n",
      "2024/07/09 11:23:40 WARNING mlflow.utils.requirements_utils: Detected one or more mismatches between the model's dependencies and the current Python environment:\n",
      " - mlflow (current: 2.14.2, required: mlflow==2.13.0)\n",
      "To fix the mismatches, call `mlflow.pyfunc.get_model_dependencies(model_uri)` to fetch the model's environment and install dependencies using the resulting environment file.\n"
     ]
    }
   ],
   "source": [
    "with mlflow.start_run():\n",
    "\n",
    "    mlflow.sklearn.autolog()\n",
    "    \n",
    "    X_train, X_val, y_train, y_val = prepare_data(df)\n",
    "\n",
    "    # Dicts\n",
    "    train_dicts = X_train.to_dict(orient='records')\n",
    "    val_dicts = X_val.to_dict(orient='records')\n",
    "\n",
    "    # DictVextorizer\n",
    "    dv = DictVectorizer()\n",
    "    X_train = dv.fit_transform(train_dicts)\n",
    "    X_val = dv.transform(val_dicts)\n",
    "\n",
    "    # Loading the model\n",
    "    model = LinearRegression()\n",
    "\n",
    "    # fit and train\n",
    "    model.fit(X_train, y_train)\n",
    "\n",
    "    # Predict\n",
    "    y_pred_continuous = model.predict(X_val)\n",
    "    # Threshold 0f 0.5, if probablity is greater than 0.5 --> 1 else 0\n",
    "    y_pred = [1 if value > 0.5 else 0 for value in y_pred_continuous]\n",
    "    \n",
    "    metrics = get_metrics(y_val, y_pred)\n",
    "\n",
    "    mlflow.log_metric(\"accuracy\", metrics[\"accuracy\"])\n",
    "    mlflow.log_metric(\"precision\", metrics[\"precision\"])\n",
    "    mlflow.log_metric(\"recall\", metrics[\"recall\"])\n",
    "    mlflow.log_metric(\"f1\", metrics[\"f1\"])\n",
    "    mlflow.log_metric(\"rmse\", metrics[\"rmse\"])"
   ]
  },
  {
   "cell_type": "code",
   "execution_count": 134,
   "metadata": {},
   "outputs": [
    {
     "name": "stderr",
     "output_type": "stream",
     "text": [
      "2024/07/09 09:58:47 WARNING mlflow.sklearn: Failed to log training dataset information to MLflow Tracking. Reason: 'numpy.ndarray' object has no attribute 'toarray'\n",
      "2024/07/09 09:58:50 WARNING mlflow.utils.requirements_utils: Detected one or more mismatches between the model's dependencies and the current Python environment:\n",
      " - mlflow (current: 2.14.2, required: mlflow==2.13.0)\n",
      "To fix the mismatches, call `mlflow.pyfunc.get_model_dependencies(model_uri)` to fetch the model's environment and install dependencies using the resulting environment file.\n"
     ]
    }
   ],
   "source": [
    "with mlflow.start_run():\n",
    "\n",
    "    mlflow.sklearn.autolog()\n",
    "    \n",
    "    X_train, X_val, y_train, y_val = prepare_data(df)\n",
    "\n",
    "    # Dicts\n",
    "    train_dicts = X_train.to_dict(orient='records')\n",
    "    val_dicts = X_val.to_dict(orient='records')\n",
    "\n",
    "    # DictVextorizer\n",
    "    dv = DictVectorizer()\n",
    "    X_train = dv.fit_transform(train_dicts)\n",
    "    X_val = dv.transform(val_dicts)\n",
    "\n",
    "    # Loading the model\n",
    "    logistic_regression_model = LogisticRegression(max_iter=5000)\n",
    "\n",
    "    # fit and train\n",
    "    logistic_regression_model.fit(X_train, y_train)\n",
    "\n",
    "    # Predict\n",
    "    y_pred_continuous = logistic_regression_model.predict(X_val)\n",
    "    # Threshold 0f 0.5, if probablity is greater than 0.5 --> 1 else 0\n",
    "    y_pred = [1 if value > 0.5 else 0 for value in y_pred_continuous]\n",
    "    \n",
    "    metrics = get_metrics(y_val, y_pred)\n",
    "\n",
    "    mlflow.log_metric(\"accuracy\", metrics[\"accuracy\"])\n",
    "    mlflow.log_metric(\"precision\", metrics[\"precision\"])\n",
    "    mlflow.log_metric(\"recall\", metrics[\"recall\"])\n",
    "    mlflow.log_metric(\"f1\", metrics[\"f1\"])\n",
    "    mlflow.log_metric(\"rmse\", metrics[\"rmse\"])"
   ]
  },
  {
   "cell_type": "code",
   "execution_count": 135,
   "metadata": {},
   "outputs": [
    {
     "name": "stdout",
     "output_type": "stream",
     "text": [
      "Requirement already satisfied: xgboost in /opt/anaconda3/envs/mlops_env/lib/python3.9/site-packages (2.0.3)\n",
      "Requirement already satisfied: numpy in /opt/anaconda3/envs/mlops_env/lib/python3.9/site-packages (from xgboost) (1.26.4)\n",
      "Requirement already satisfied: scipy in /opt/anaconda3/envs/mlops_env/lib/python3.9/site-packages (from xgboost) (1.13.0)\n"
     ]
    }
   ],
   "source": [
    "!pip install xgboost"
   ]
  },
  {
   "cell_type": "code",
   "execution_count": 136,
   "metadata": {},
   "outputs": [
    {
     "name": "stderr",
     "output_type": "stream",
     "text": [
      "2024/07/09 09:59:20 WARNING mlflow.utils.autologging_utils: MLflow autologging encountered a warning: \"/opt/anaconda3/envs/mlops_env/lib/python3.9/site-packages/xgboost/core.py:160: UserWarning: [09:59:20] WARNING: /Users/runner/work/xgboost/xgboost/src/c_api/c_api.cc:1240: Saving into deprecated binary model format, please consider using `json` or `ubj`. Model format will default to JSON in XGBoost 2.2 if not specified.\"\n",
      "2024/07/09 09:59:21 WARNING mlflow.utils.requirements_utils: Detected one or more mismatches between the model's dependencies and the current Python environment:\n",
      " - mlflow (current: 2.14.2, required: mlflow==2.13.0)\n",
      "To fix the mismatches, call `mlflow.pyfunc.get_model_dependencies(model_uri)` to fetch the model's environment and install dependencies using the resulting environment file.\n"
     ]
    }
   ],
   "source": [
    "from xgboost import XGBClassifier\n",
    "from sklearn.preprocessing import StandardScaler\n",
    "\n",
    "with mlflow.start_run():\n",
    "\n",
    "    mlflow.sklearn.autolog()\n",
    "    \n",
    "    data_path = \"../data/parkinsons_disease_data.csv\"\n",
    "\n",
    "    df = load_data(data_path)\n",
    "    X_train, X_val, y_train, y_val = prepare_data(df)\n",
    "\n",
    "    # Standardize the data\n",
    "    scaler = StandardScaler()\n",
    "    X_train = scaler.fit_transform(X_train)\n",
    "    X_val = scaler.transform(X_val)\n",
    "\n",
    "    # Train and evaluate XGBoost\n",
    "    mlflow.set_tag(\"model\", \"XGBoostClassifier\")\n",
    "    xgboost = XGBClassifier()\n",
    "    xgboost.fit(X_train, y_train)\n",
    "    y_pred_xgboost = xgboost.predict(X_val)\n",
    "\n",
    "    metrics = get_metrics(y_val, y_pred_xgboost)\n",
    "\n",
    "    mlflow.log_metric(\"accuracy\", metrics[\"accuracy\"])\n",
    "    mlflow.log_metric(\"precision\", metrics[\"precision\"])\n",
    "    mlflow.log_metric(\"recall\", metrics[\"recall\"])\n",
    "    mlflow.log_metric(\"f1\", metrics[\"f1\"])\n",
    "    mlflow.log_metric(\"rmse\", metrics[\"rmse\"])"
   ]
  },
  {
   "cell_type": "code",
   "execution_count": 137,
   "metadata": {},
   "outputs": [],
   "source": [
    "data_path = \"../data/parkinsons_disease_data.csv\"\n",
    "df = load_data(data_path)\n",
    "X_train, X_val, y_train, y_val = prepare_data(df)"
   ]
  },
  {
   "cell_type": "code",
   "execution_count": 138,
   "metadata": {},
   "outputs": [
    {
     "name": "stdout",
     "output_type": "stream",
     "text": [
      "  0%|          | 0/32 [00:00<?, ?trial/s, best loss=?]"
     ]
    },
    {
     "name": "stderr",
     "output_type": "stream",
     "text": [
      "2024/07/09 09:59:50 WARNING mlflow.utils.autologging_utils: MLflow autologging encountered a warning: \"/opt/anaconda3/envs/mlops_env/lib/python3.9/site-packages/xgboost/core.py:160: UserWarning: [09:59:50] WARNING: /Users/runner/work/xgboost/xgboost/src/c_api/c_api.cc:1240: Saving into deprecated binary model format, please consider using `json` or `ubj`. Model format will default to JSON in XGBoost 2.2 if not specified.\"\n",
      "\n",
      "2024/07/09 09:59:51 WARNING mlflow.utils.requirements_utils: Detected one or more mismatches between the model's dependencies and the current Python environment:\n",
      " - mlflow (current: 2.14.2, required: mlflow==2.13.0)\n",
      "To fix the mismatches, call `mlflow.pyfunc.get_model_dependencies(model_uri)` to fetch the model's environment and install dependencies using the resulting environment file.\n",
      "\n"
     ]
    },
    {
     "name": "stdout",
     "output_type": "stream",
     "text": [
      "  3%|▎         | 1/32 [00:01<00:57,  1.86s/trial, best loss: 0.8028503562945368]"
     ]
    },
    {
     "name": "stderr",
     "output_type": "stream",
     "text": [
      "2024/07/09 09:59:52 WARNING mlflow.utils.autologging_utils: MLflow autologging encountered a warning: \"/opt/anaconda3/envs/mlops_env/lib/python3.9/site-packages/xgboost/core.py:160: UserWarning: [09:59:52] WARNING: /Users/runner/work/xgboost/xgboost/src/c_api/c_api.cc:1240: Saving into deprecated binary model format, please consider using `json` or `ubj`. Model format will default to JSON in XGBoost 2.2 if not specified.\"\n",
      "\n",
      "2024/07/09 09:59:53 WARNING mlflow.utils.requirements_utils: Detected one or more mismatches between the model's dependencies and the current Python environment:\n",
      " - mlflow (current: 2.14.2, required: mlflow==2.13.0)\n",
      "To fix the mismatches, call `mlflow.pyfunc.get_model_dependencies(model_uri)` to fetch the model's environment and install dependencies using the resulting environment file.\n",
      "\n"
     ]
    },
    {
     "name": "stdout",
     "output_type": "stream",
     "text": [
      "  6%|▋         | 2/32 [00:03<00:57,  1.93s/trial, best loss: 0.8028503562945368]"
     ]
    },
    {
     "name": "stderr",
     "output_type": "stream",
     "text": [
      "2024/07/09 09:59:54 WARNING mlflow.utils.autologging_utils: MLflow autologging encountered a warning: \"/opt/anaconda3/envs/mlops_env/lib/python3.9/site-packages/xgboost/core.py:160: UserWarning: [09:59:54] WARNING: /Users/runner/work/xgboost/xgboost/src/c_api/c_api.cc:1240: Saving into deprecated binary model format, please consider using `json` or `ubj`. Model format will default to JSON in XGBoost 2.2 if not specified.\"\n",
      "\n",
      "2024/07/09 09:59:55 WARNING mlflow.utils.requirements_utils: Detected one or more mismatches between the model's dependencies and the current Python environment:\n",
      " - mlflow (current: 2.14.2, required: mlflow==2.13.0)\n",
      "To fix the mismatches, call `mlflow.pyfunc.get_model_dependencies(model_uri)` to fetch the model's environment and install dependencies using the resulting environment file.\n",
      "\n"
     ]
    },
    {
     "name": "stdout",
     "output_type": "stream",
     "text": [
      "  9%|▉         | 3/32 [00:05<00:56,  1.96s/trial, best loss: 0.8028503562945368]"
     ]
    },
    {
     "name": "stderr",
     "output_type": "stream",
     "text": [
      "2024/07/09 09:59:56 WARNING mlflow.utils.autologging_utils: MLflow autologging encountered a warning: \"/opt/anaconda3/envs/mlops_env/lib/python3.9/site-packages/xgboost/core.py:160: UserWarning: [09:59:56] WARNING: /Users/runner/work/xgboost/xgboost/src/c_api/c_api.cc:1240: Saving into deprecated binary model format, please consider using `json` or `ubj`. Model format will default to JSON in XGBoost 2.2 if not specified.\"\n",
      "\n",
      "2024/07/09 09:59:57 WARNING mlflow.utils.requirements_utils: Detected one or more mismatches between the model's dependencies and the current Python environment:\n",
      " - mlflow (current: 2.14.2, required: mlflow==2.13.0)\n",
      "To fix the mismatches, call `mlflow.pyfunc.get_model_dependencies(model_uri)` to fetch the model's environment and install dependencies using the resulting environment file.\n",
      "\n"
     ]
    },
    {
     "name": "stdout",
     "output_type": "stream",
     "text": [
      " 12%|█▎        | 4/32 [00:07<00:53,  1.93s/trial, best loss: 0.8028503562945368]"
     ]
    },
    {
     "name": "stderr",
     "output_type": "stream",
     "text": [
      "2024/07/09 09:59:58 WARNING mlflow.utils.autologging_utils: MLflow autologging encountered a warning: \"/opt/anaconda3/envs/mlops_env/lib/python3.9/site-packages/xgboost/core.py:160: UserWarning: [09:59:58] WARNING: /Users/runner/work/xgboost/xgboost/src/c_api/c_api.cc:1240: Saving into deprecated binary model format, please consider using `json` or `ubj`. Model format will default to JSON in XGBoost 2.2 if not specified.\"\n",
      "\n",
      "2024/07/09 09:59:59 WARNING mlflow.utils.requirements_utils: Detected one or more mismatches between the model's dependencies and the current Python environment:\n",
      " - mlflow (current: 2.14.2, required: mlflow==2.13.0)\n",
      "To fix the mismatches, call `mlflow.pyfunc.get_model_dependencies(model_uri)` to fetch the model's environment and install dependencies using the resulting environment file.\n",
      "\n"
     ]
    },
    {
     "name": "stdout",
     "output_type": "stream",
     "text": [
      " 16%|█▌        | 5/32 [00:09<00:51,  1.90s/trial, best loss: 0.8028503562945368]"
     ]
    },
    {
     "name": "stderr",
     "output_type": "stream",
     "text": [
      "2024/07/09 09:59:59 WARNING mlflow.utils.autologging_utils: MLflow autologging encountered a warning: \"/opt/anaconda3/envs/mlops_env/lib/python3.9/site-packages/xgboost/core.py:160: UserWarning: [09:59:59] WARNING: /Users/runner/work/xgboost/xgboost/src/c_api/c_api.cc:1240: Saving into deprecated binary model format, please consider using `json` or `ubj`. Model format will default to JSON in XGBoost 2.2 if not specified.\"\n",
      "\n",
      "2024/07/09 10:00:01 WARNING mlflow.utils.requirements_utils: Detected one or more mismatches between the model's dependencies and the current Python environment:\n",
      " - mlflow (current: 2.14.2, required: mlflow==2.13.0)\n",
      "To fix the mismatches, call `mlflow.pyfunc.get_model_dependencies(model_uri)` to fetch the model's environment and install dependencies using the resulting environment file.\n",
      "\n"
     ]
    },
    {
     "name": "stdout",
     "output_type": "stream",
     "text": [
      " 19%|█▉        | 6/32 [00:11<00:48,  1.86s/trial, best loss: 0.8028503562945368]"
     ]
    },
    {
     "name": "stderr",
     "output_type": "stream",
     "text": [
      "2024/07/09 10:00:01 WARNING mlflow.utils.autologging_utils: MLflow autologging encountered a warning: \"/opt/anaconda3/envs/mlops_env/lib/python3.9/site-packages/xgboost/core.py:160: UserWarning: [10:00:01] WARNING: /Users/runner/work/xgboost/xgboost/src/c_api/c_api.cc:1240: Saving into deprecated binary model format, please consider using `json` or `ubj`. Model format will default to JSON in XGBoost 2.2 if not specified.\"\n",
      "\n",
      "2024/07/09 10:00:03 WARNING mlflow.utils.requirements_utils: Detected one or more mismatches between the model's dependencies and the current Python environment:\n",
      " - mlflow (current: 2.14.2, required: mlflow==2.13.0)\n",
      "To fix the mismatches, call `mlflow.pyfunc.get_model_dependencies(model_uri)` to fetch the model's environment and install dependencies using the resulting environment file.\n",
      "\n"
     ]
    },
    {
     "name": "stdout",
     "output_type": "stream",
     "text": [
      " 22%|██▏       | 7/32 [00:13<00:47,  1.89s/trial, best loss: 0.8028503562945368]"
     ]
    },
    {
     "name": "stderr",
     "output_type": "stream",
     "text": [
      "2024/07/09 10:00:03 WARNING mlflow.utils.autologging_utils: MLflow autologging encountered a warning: \"/opt/anaconda3/envs/mlops_env/lib/python3.9/site-packages/xgboost/core.py:160: UserWarning: [10:00:03] WARNING: /Users/runner/work/xgboost/xgboost/src/c_api/c_api.cc:1240: Saving into deprecated binary model format, please consider using `json` or `ubj`. Model format will default to JSON in XGBoost 2.2 if not specified.\"\n",
      "\n",
      "2024/07/09 10:00:05 WARNING mlflow.utils.requirements_utils: Detected one or more mismatches between the model's dependencies and the current Python environment:\n",
      " - mlflow (current: 2.14.2, required: mlflow==2.13.0)\n",
      "To fix the mismatches, call `mlflow.pyfunc.get_model_dependencies(model_uri)` to fetch the model's environment and install dependencies using the resulting environment file.\n",
      "\n"
     ]
    },
    {
     "name": "stdout",
     "output_type": "stream",
     "text": [
      " 25%|██▌       | 8/32 [00:15<00:45,  1.91s/trial, best loss: 0.8028503562945368]"
     ]
    },
    {
     "name": "stderr",
     "output_type": "stream",
     "text": [
      "2024/07/09 10:00:05 WARNING mlflow.utils.autologging_utils: MLflow autologging encountered a warning: \"/opt/anaconda3/envs/mlops_env/lib/python3.9/site-packages/xgboost/core.py:160: UserWarning: [10:00:05] WARNING: /Users/runner/work/xgboost/xgboost/src/c_api/c_api.cc:1240: Saving into deprecated binary model format, please consider using `json` or `ubj`. Model format will default to JSON in XGBoost 2.2 if not specified.\"\n",
      "\n",
      "2024/07/09 10:00:06 WARNING mlflow.utils.requirements_utils: Detected one or more mismatches between the model's dependencies and the current Python environment:\n",
      " - mlflow (current: 2.14.2, required: mlflow==2.13.0)\n",
      "To fix the mismatches, call `mlflow.pyfunc.get_model_dependencies(model_uri)` to fetch the model's environment and install dependencies using the resulting environment file.\n",
      "\n"
     ]
    },
    {
     "name": "stdout",
     "output_type": "stream",
     "text": [
      " 28%|██▊       | 9/32 [00:17<00:42,  1.86s/trial, best loss: 0.8028503562945368]"
     ]
    },
    {
     "name": "stderr",
     "output_type": "stream",
     "text": [
      "2024/07/09 10:00:07 WARNING mlflow.utils.autologging_utils: MLflow autologging encountered a warning: \"/opt/anaconda3/envs/mlops_env/lib/python3.9/site-packages/xgboost/core.py:160: UserWarning: [10:00:07] WARNING: /Users/runner/work/xgboost/xgboost/src/c_api/c_api.cc:1240: Saving into deprecated binary model format, please consider using `json` or `ubj`. Model format will default to JSON in XGBoost 2.2 if not specified.\"\n",
      "\n",
      "2024/07/09 10:00:08 WARNING mlflow.utils.requirements_utils: Detected one or more mismatches between the model's dependencies and the current Python environment:\n",
      " - mlflow (current: 2.14.2, required: mlflow==2.13.0)\n",
      "To fix the mismatches, call `mlflow.pyfunc.get_model_dependencies(model_uri)` to fetch the model's environment and install dependencies using the resulting environment file.\n",
      "\n"
     ]
    },
    {
     "name": "stdout",
     "output_type": "stream",
     "text": [
      " 31%|███▏      | 10/32 [00:18<00:41,  1.87s/trial, best loss: 0.8028503562945368]"
     ]
    },
    {
     "name": "stderr",
     "output_type": "stream",
     "text": [
      "2024/07/09 10:00:09 WARNING mlflow.utils.autologging_utils: MLflow autologging encountered a warning: \"/opt/anaconda3/envs/mlops_env/lib/python3.9/site-packages/xgboost/core.py:160: UserWarning: [10:00:09] WARNING: /Users/runner/work/xgboost/xgboost/src/c_api/c_api.cc:1240: Saving into deprecated binary model format, please consider using `json` or `ubj`. Model format will default to JSON in XGBoost 2.2 if not specified.\"\n",
      "\n",
      "2024/07/09 10:00:10 WARNING mlflow.utils.requirements_utils: Detected one or more mismatches between the model's dependencies and the current Python environment:\n",
      " - mlflow (current: 2.14.2, required: mlflow==2.13.0)\n",
      "To fix the mismatches, call `mlflow.pyfunc.get_model_dependencies(model_uri)` to fetch the model's environment and install dependencies using the resulting environment file.\n",
      "\n"
     ]
    },
    {
     "name": "stdout",
     "output_type": "stream",
     "text": [
      " 34%|███▍      | 11/32 [00:20<00:38,  1.84s/trial, best loss: 0.8028503562945368]"
     ]
    },
    {
     "name": "stderr",
     "output_type": "stream",
     "text": [
      "2024/07/09 10:00:11 WARNING mlflow.utils.autologging_utils: MLflow autologging encountered a warning: \"/opt/anaconda3/envs/mlops_env/lib/python3.9/site-packages/xgboost/core.py:160: UserWarning: [10:00:11] WARNING: /Users/runner/work/xgboost/xgboost/src/c_api/c_api.cc:1240: Saving into deprecated binary model format, please consider using `json` or `ubj`. Model format will default to JSON in XGBoost 2.2 if not specified.\"\n",
      "\n",
      "2024/07/09 10:00:12 WARNING mlflow.utils.requirements_utils: Detected one or more mismatches between the model's dependencies and the current Python environment:\n",
      " - mlflow (current: 2.14.2, required: mlflow==2.13.0)\n",
      "To fix the mismatches, call `mlflow.pyfunc.get_model_dependencies(model_uri)` to fetch the model's environment and install dependencies using the resulting environment file.\n",
      "\n"
     ]
    },
    {
     "name": "stdout",
     "output_type": "stream",
     "text": [
      " 38%|███▊      | 12/32 [00:22<00:36,  1.83s/trial, best loss: 0.8028503562945368]"
     ]
    },
    {
     "name": "stderr",
     "output_type": "stream",
     "text": [
      "2024/07/09 10:00:12 WARNING mlflow.utils.autologging_utils: MLflow autologging encountered a warning: \"/opt/anaconda3/envs/mlops_env/lib/python3.9/site-packages/xgboost/core.py:160: UserWarning: [10:00:12] WARNING: /Users/runner/work/xgboost/xgboost/src/c_api/c_api.cc:1240: Saving into deprecated binary model format, please consider using `json` or `ubj`. Model format will default to JSON in XGBoost 2.2 if not specified.\"\n",
      "\n",
      "2024/07/09 10:00:14 WARNING mlflow.utils.requirements_utils: Detected one or more mismatches between the model's dependencies and the current Python environment:\n",
      " - mlflow (current: 2.14.2, required: mlflow==2.13.0)\n",
      "To fix the mismatches, call `mlflow.pyfunc.get_model_dependencies(model_uri)` to fetch the model's environment and install dependencies using the resulting environment file.\n",
      "\n"
     ]
    },
    {
     "name": "stdout",
     "output_type": "stream",
     "text": [
      " 41%|████      | 13/32 [00:24<00:33,  1.77s/trial, best loss: 0.8028503562945368]"
     ]
    },
    {
     "name": "stderr",
     "output_type": "stream",
     "text": [
      "2024/07/09 10:00:14 WARNING mlflow.utils.autologging_utils: MLflow autologging encountered a warning: \"/opt/anaconda3/envs/mlops_env/lib/python3.9/site-packages/xgboost/core.py:160: UserWarning: [10:00:14] WARNING: /Users/runner/work/xgboost/xgboost/src/c_api/c_api.cc:1240: Saving into deprecated binary model format, please consider using `json` or `ubj`. Model format will default to JSON in XGBoost 2.2 if not specified.\"\n",
      "\n",
      "2024/07/09 10:00:15 WARNING mlflow.utils.requirements_utils: Detected one or more mismatches between the model's dependencies and the current Python environment:\n",
      " - mlflow (current: 2.14.2, required: mlflow==2.13.0)\n",
      "To fix the mismatches, call `mlflow.pyfunc.get_model_dependencies(model_uri)` to fetch the model's environment and install dependencies using the resulting environment file.\n",
      "\n"
     ]
    },
    {
     "name": "stdout",
     "output_type": "stream",
     "text": [
      " 44%|████▍     | 14/32 [00:25<00:31,  1.75s/trial, best loss: 0.8028503562945368]"
     ]
    },
    {
     "name": "stderr",
     "output_type": "stream",
     "text": [
      "2024/07/09 10:00:16 WARNING mlflow.utils.autologging_utils: MLflow autologging encountered a warning: \"/opt/anaconda3/envs/mlops_env/lib/python3.9/site-packages/xgboost/core.py:160: UserWarning: [10:00:16] WARNING: /Users/runner/work/xgboost/xgboost/src/c_api/c_api.cc:1240: Saving into deprecated binary model format, please consider using `json` or `ubj`. Model format will default to JSON in XGBoost 2.2 if not specified.\"\n",
      "\n",
      "2024/07/09 10:00:17 WARNING mlflow.utils.requirements_utils: Detected one or more mismatches between the model's dependencies and the current Python environment:\n",
      " - mlflow (current: 2.14.2, required: mlflow==2.13.0)\n",
      "To fix the mismatches, call `mlflow.pyfunc.get_model_dependencies(model_uri)` to fetch the model's environment and install dependencies using the resulting environment file.\n",
      "\n"
     ]
    },
    {
     "name": "stdout",
     "output_type": "stream",
     "text": [
      " 47%|████▋     | 15/32 [00:27<00:30,  1.77s/trial, best loss: 0.8028503562945368]"
     ]
    },
    {
     "name": "stderr",
     "output_type": "stream",
     "text": [
      "2024/07/09 10:00:17 WARNING mlflow.utils.autologging_utils: MLflow autologging encountered a warning: \"/opt/anaconda3/envs/mlops_env/lib/python3.9/site-packages/xgboost/core.py:160: UserWarning: [10:00:17] WARNING: /Users/runner/work/xgboost/xgboost/src/c_api/c_api.cc:1240: Saving into deprecated binary model format, please consider using `json` or `ubj`. Model format will default to JSON in XGBoost 2.2 if not specified.\"\n",
      "\n",
      "2024/07/09 10:00:19 WARNING mlflow.utils.requirements_utils: Detected one or more mismatches between the model's dependencies and the current Python environment:\n",
      " - mlflow (current: 2.14.2, required: mlflow==2.13.0)\n",
      "To fix the mismatches, call `mlflow.pyfunc.get_model_dependencies(model_uri)` to fetch the model's environment and install dependencies using the resulting environment file.\n",
      "\n"
     ]
    },
    {
     "name": "stdout",
     "output_type": "stream",
     "text": [
      " 50%|█████     | 16/32 [00:29<00:27,  1.74s/trial, best loss: 0.8028503562945368]"
     ]
    },
    {
     "name": "stderr",
     "output_type": "stream",
     "text": [
      "2024/07/09 10:00:19 WARNING mlflow.utils.autologging_utils: MLflow autologging encountered a warning: \"/opt/anaconda3/envs/mlops_env/lib/python3.9/site-packages/xgboost/core.py:160: UserWarning: [10:00:19] WARNING: /Users/runner/work/xgboost/xgboost/src/c_api/c_api.cc:1240: Saving into deprecated binary model format, please consider using `json` or `ubj`. Model format will default to JSON in XGBoost 2.2 if not specified.\"\n",
      "\n",
      "2024/07/09 10:00:21 WARNING mlflow.utils.requirements_utils: Detected one or more mismatches between the model's dependencies and the current Python environment:\n",
      " - mlflow (current: 2.14.2, required: mlflow==2.13.0)\n",
      "To fix the mismatches, call `mlflow.pyfunc.get_model_dependencies(model_uri)` to fetch the model's environment and install dependencies using the resulting environment file.\n",
      "\n"
     ]
    },
    {
     "name": "stdout",
     "output_type": "stream",
     "text": [
      " 53%|█████▎    | 17/32 [00:31<00:26,  1.78s/trial, best loss: 0.8028503562945368]"
     ]
    },
    {
     "name": "stderr",
     "output_type": "stream",
     "text": [
      "2024/07/09 10:00:21 WARNING mlflow.utils.autologging_utils: MLflow autologging encountered a warning: \"/opt/anaconda3/envs/mlops_env/lib/python3.9/site-packages/xgboost/core.py:160: UserWarning: [10:00:21] WARNING: /Users/runner/work/xgboost/xgboost/src/c_api/c_api.cc:1240: Saving into deprecated binary model format, please consider using `json` or `ubj`. Model format will default to JSON in XGBoost 2.2 if not specified.\"\n",
      "\n",
      "2024/07/09 10:00:22 WARNING mlflow.utils.requirements_utils: Detected one or more mismatches between the model's dependencies and the current Python environment:\n",
      " - mlflow (current: 2.14.2, required: mlflow==2.13.0)\n",
      "To fix the mismatches, call `mlflow.pyfunc.get_model_dependencies(model_uri)` to fetch the model's environment and install dependencies using the resulting environment file.\n",
      "\n"
     ]
    },
    {
     "name": "stdout",
     "output_type": "stream",
     "text": [
      " 56%|█████▋    | 18/32 [00:32<00:24,  1.74s/trial, best loss: 0.8028503562945368]"
     ]
    },
    {
     "name": "stderr",
     "output_type": "stream",
     "text": [
      "2024/07/09 10:00:23 WARNING mlflow.utils.autologging_utils: MLflow autologging encountered a warning: \"/opt/anaconda3/envs/mlops_env/lib/python3.9/site-packages/xgboost/core.py:160: UserWarning: [10:00:23] WARNING: /Users/runner/work/xgboost/xgboost/src/c_api/c_api.cc:1240: Saving into deprecated binary model format, please consider using `json` or `ubj`. Model format will default to JSON in XGBoost 2.2 if not specified.\"\n",
      "\n",
      "2024/07/09 10:00:24 WARNING mlflow.utils.requirements_utils: Detected one or more mismatches between the model's dependencies and the current Python environment:\n",
      " - mlflow (current: 2.14.2, required: mlflow==2.13.0)\n",
      "To fix the mismatches, call `mlflow.pyfunc.get_model_dependencies(model_uri)` to fetch the model's environment and install dependencies using the resulting environment file.\n",
      "\n"
     ]
    },
    {
     "name": "stdout",
     "output_type": "stream",
     "text": [
      " 59%|█████▉    | 19/32 [00:34<00:23,  1.79s/trial, best loss: 0.8028503562945368]"
     ]
    },
    {
     "name": "stderr",
     "output_type": "stream",
     "text": [
      "2024/07/09 10:00:24 WARNING mlflow.utils.autologging_utils: MLflow autologging encountered a warning: \"/opt/anaconda3/envs/mlops_env/lib/python3.9/site-packages/xgboost/core.py:160: UserWarning: [10:00:24] WARNING: /Users/runner/work/xgboost/xgboost/src/c_api/c_api.cc:1240: Saving into deprecated binary model format, please consider using `json` or `ubj`. Model format will default to JSON in XGBoost 2.2 if not specified.\"\n",
      "\n",
      "2024/07/09 10:00:26 WARNING mlflow.utils.requirements_utils: Detected one or more mismatches between the model's dependencies and the current Python environment:\n",
      " - mlflow (current: 2.14.2, required: mlflow==2.13.0)\n",
      "To fix the mismatches, call `mlflow.pyfunc.get_model_dependencies(model_uri)` to fetch the model's environment and install dependencies using the resulting environment file.\n",
      "\n"
     ]
    },
    {
     "name": "stdout",
     "output_type": "stream",
     "text": [
      " 62%|██████▎   | 20/32 [00:36<00:20,  1.74s/trial, best loss: 0.8028503562945368]"
     ]
    },
    {
     "name": "stderr",
     "output_type": "stream",
     "text": [
      "2024/07/09 10:00:26 WARNING mlflow.utils.autologging_utils: MLflow autologging encountered a warning: \"/opt/anaconda3/envs/mlops_env/lib/python3.9/site-packages/xgboost/core.py:160: UserWarning: [10:00:26] WARNING: /Users/runner/work/xgboost/xgboost/src/c_api/c_api.cc:1240: Saving into deprecated binary model format, please consider using `json` or `ubj`. Model format will default to JSON in XGBoost 2.2 if not specified.\"\n",
      "\n",
      "2024/07/09 10:00:28 WARNING mlflow.utils.requirements_utils: Detected one or more mismatches between the model's dependencies and the current Python environment:\n",
      " - mlflow (current: 2.14.2, required: mlflow==2.13.0)\n",
      "To fix the mismatches, call `mlflow.pyfunc.get_model_dependencies(model_uri)` to fetch the model's environment and install dependencies using the resulting environment file.\n",
      "\n"
     ]
    },
    {
     "name": "stdout",
     "output_type": "stream",
     "text": [
      " 66%|██████▌   | 21/32 [00:38<00:19,  1.73s/trial, best loss: 0.8028503562945368]"
     ]
    },
    {
     "name": "stderr",
     "output_type": "stream",
     "text": [
      "2024/07/09 10:00:28 WARNING mlflow.utils.autologging_utils: MLflow autologging encountered a warning: \"/opt/anaconda3/envs/mlops_env/lib/python3.9/site-packages/xgboost/core.py:160: UserWarning: [10:00:28] WARNING: /Users/runner/work/xgboost/xgboost/src/c_api/c_api.cc:1240: Saving into deprecated binary model format, please consider using `json` or `ubj`. Model format will default to JSON in XGBoost 2.2 if not specified.\"\n",
      "\n",
      "2024/07/09 10:00:29 WARNING mlflow.utils.requirements_utils: Detected one or more mismatches between the model's dependencies and the current Python environment:\n",
      " - mlflow (current: 2.14.2, required: mlflow==2.13.0)\n",
      "To fix the mismatches, call `mlflow.pyfunc.get_model_dependencies(model_uri)` to fetch the model's environment and install dependencies using the resulting environment file.\n",
      "\n"
     ]
    },
    {
     "name": "stdout",
     "output_type": "stream",
     "text": [
      " 69%|██████▉   | 22/32 [00:39<00:17,  1.78s/trial, best loss: 0.8028503562945368]"
     ]
    },
    {
     "name": "stderr",
     "output_type": "stream",
     "text": [
      "2024/07/09 10:00:30 WARNING mlflow.utils.autologging_utils: MLflow autologging encountered a warning: \"/opt/anaconda3/envs/mlops_env/lib/python3.9/site-packages/xgboost/core.py:160: UserWarning: [10:00:30] WARNING: /Users/runner/work/xgboost/xgboost/src/c_api/c_api.cc:1240: Saving into deprecated binary model format, please consider using `json` or `ubj`. Model format will default to JSON in XGBoost 2.2 if not specified.\"\n",
      "\n",
      "2024/07/09 10:00:31 WARNING mlflow.utils.requirements_utils: Detected one or more mismatches between the model's dependencies and the current Python environment:\n",
      " - mlflow (current: 2.14.2, required: mlflow==2.13.0)\n",
      "To fix the mismatches, call `mlflow.pyfunc.get_model_dependencies(model_uri)` to fetch the model's environment and install dependencies using the resulting environment file.\n",
      "\n"
     ]
    },
    {
     "name": "stdout",
     "output_type": "stream",
     "text": [
      " 72%|███████▏  | 23/32 [00:41<00:15,  1.77s/trial, best loss: 0.8028503562945368]"
     ]
    },
    {
     "name": "stderr",
     "output_type": "stream",
     "text": [
      "2024/07/09 10:00:32 WARNING mlflow.utils.autologging_utils: MLflow autologging encountered a warning: \"/opt/anaconda3/envs/mlops_env/lib/python3.9/site-packages/xgboost/core.py:160: UserWarning: [10:00:32] WARNING: /Users/runner/work/xgboost/xgboost/src/c_api/c_api.cc:1240: Saving into deprecated binary model format, please consider using `json` or `ubj`. Model format will default to JSON in XGBoost 2.2 if not specified.\"\n",
      "\n",
      "2024/07/09 10:00:33 WARNING mlflow.utils.requirements_utils: Detected one or more mismatches between the model's dependencies and the current Python environment:\n",
      " - mlflow (current: 2.14.2, required: mlflow==2.13.0)\n",
      "To fix the mismatches, call `mlflow.pyfunc.get_model_dependencies(model_uri)` to fetch the model's environment and install dependencies using the resulting environment file.\n",
      "\n"
     ]
    },
    {
     "name": "stdout",
     "output_type": "stream",
     "text": [
      " 75%|███████▌  | 24/32 [00:43<00:14,  1.82s/trial, best loss: 0.8028503562945368]"
     ]
    },
    {
     "name": "stderr",
     "output_type": "stream",
     "text": [
      "2024/07/09 10:00:34 WARNING mlflow.utils.autologging_utils: MLflow autologging encountered a warning: \"/opt/anaconda3/envs/mlops_env/lib/python3.9/site-packages/xgboost/core.py:160: UserWarning: [10:00:34] WARNING: /Users/runner/work/xgboost/xgboost/src/c_api/c_api.cc:1240: Saving into deprecated binary model format, please consider using `json` or `ubj`. Model format will default to JSON in XGBoost 2.2 if not specified.\"\n",
      "\n",
      "2024/07/09 10:00:35 WARNING mlflow.utils.requirements_utils: Detected one or more mismatches between the model's dependencies and the current Python environment:\n",
      " - mlflow (current: 2.14.2, required: mlflow==2.13.0)\n",
      "To fix the mismatches, call `mlflow.pyfunc.get_model_dependencies(model_uri)` to fetch the model's environment and install dependencies using the resulting environment file.\n",
      "\n"
     ]
    },
    {
     "name": "stdout",
     "output_type": "stream",
     "text": [
      " 78%|███████▊  | 25/32 [00:45<00:13,  1.86s/trial, best loss: 0.8028503562945368]"
     ]
    },
    {
     "name": "stderr",
     "output_type": "stream",
     "text": [
      "2024/07/09 10:00:35 WARNING mlflow.utils.autologging_utils: MLflow autologging encountered a warning: \"/opt/anaconda3/envs/mlops_env/lib/python3.9/site-packages/xgboost/core.py:160: UserWarning: [10:00:35] WARNING: /Users/runner/work/xgboost/xgboost/src/c_api/c_api.cc:1240: Saving into deprecated binary model format, please consider using `json` or `ubj`. Model format will default to JSON in XGBoost 2.2 if not specified.\"\n",
      "\n",
      "2024/07/09 10:00:37 WARNING mlflow.utils.requirements_utils: Detected one or more mismatches between the model's dependencies and the current Python environment:\n",
      " - mlflow (current: 2.14.2, required: mlflow==2.13.0)\n",
      "To fix the mismatches, call `mlflow.pyfunc.get_model_dependencies(model_uri)` to fetch the model's environment and install dependencies using the resulting environment file.\n",
      "\n"
     ]
    },
    {
     "name": "stdout",
     "output_type": "stream",
     "text": [
      " 81%|████████▏ | 26/32 [00:47<00:10,  1.79s/trial, best loss: 0.8028503562945368]"
     ]
    },
    {
     "name": "stderr",
     "output_type": "stream",
     "text": [
      "2024/07/09 10:00:37 WARNING mlflow.utils.autologging_utils: MLflow autologging encountered a warning: \"/opt/anaconda3/envs/mlops_env/lib/python3.9/site-packages/xgboost/core.py:160: UserWarning: [10:00:37] WARNING: /Users/runner/work/xgboost/xgboost/src/c_api/c_api.cc:1240: Saving into deprecated binary model format, please consider using `json` or `ubj`. Model format will default to JSON in XGBoost 2.2 if not specified.\"\n",
      "\n",
      "2024/07/09 10:00:38 WARNING mlflow.utils.requirements_utils: Detected one or more mismatches between the model's dependencies and the current Python environment:\n",
      " - mlflow (current: 2.14.2, required: mlflow==2.13.0)\n",
      "To fix the mismatches, call `mlflow.pyfunc.get_model_dependencies(model_uri)` to fetch the model's environment and install dependencies using the resulting environment file.\n",
      "\n"
     ]
    },
    {
     "name": "stdout",
     "output_type": "stream",
     "text": [
      " 84%|████████▍ | 27/32 [00:48<00:08,  1.78s/trial, best loss: 0.8028503562945368]"
     ]
    },
    {
     "name": "stderr",
     "output_type": "stream",
     "text": [
      "2024/07/09 10:00:39 WARNING mlflow.utils.autologging_utils: MLflow autologging encountered a warning: \"/opt/anaconda3/envs/mlops_env/lib/python3.9/site-packages/xgboost/core.py:160: UserWarning: [10:00:39] WARNING: /Users/runner/work/xgboost/xgboost/src/c_api/c_api.cc:1240: Saving into deprecated binary model format, please consider using `json` or `ubj`. Model format will default to JSON in XGBoost 2.2 if not specified.\"\n",
      "\n",
      "2024/07/09 10:00:40 WARNING mlflow.utils.requirements_utils: Detected one or more mismatches between the model's dependencies and the current Python environment:\n",
      " - mlflow (current: 2.14.2, required: mlflow==2.13.0)\n",
      "To fix the mismatches, call `mlflow.pyfunc.get_model_dependencies(model_uri)` to fetch the model's environment and install dependencies using the resulting environment file.\n",
      "\n"
     ]
    },
    {
     "name": "stdout",
     "output_type": "stream",
     "text": [
      " 88%|████████▊ | 28/32 [00:50<00:07,  1.85s/trial, best loss: 0.8028503562945368]"
     ]
    },
    {
     "name": "stderr",
     "output_type": "stream",
     "text": [
      "2024/07/09 10:00:41 WARNING mlflow.utils.autologging_utils: MLflow autologging encountered a warning: \"/opt/anaconda3/envs/mlops_env/lib/python3.9/site-packages/xgboost/core.py:160: UserWarning: [10:00:41] WARNING: /Users/runner/work/xgboost/xgboost/src/c_api/c_api.cc:1240: Saving into deprecated binary model format, please consider using `json` or `ubj`. Model format will default to JSON in XGBoost 2.2 if not specified.\"\n",
      "\n",
      "2024/07/09 10:00:42 WARNING mlflow.utils.requirements_utils: Detected one or more mismatches between the model's dependencies and the current Python environment:\n",
      " - mlflow (current: 2.14.2, required: mlflow==2.13.0)\n",
      "To fix the mismatches, call `mlflow.pyfunc.get_model_dependencies(model_uri)` to fetch the model's environment and install dependencies using the resulting environment file.\n",
      "\n"
     ]
    },
    {
     "name": "stdout",
     "output_type": "stream",
     "text": [
      " 91%|█████████ | 29/32 [00:52<00:05,  1.85s/trial, best loss: 0.8028503562945368]"
     ]
    },
    {
     "name": "stderr",
     "output_type": "stream",
     "text": [
      "2024/07/09 10:00:43 WARNING mlflow.utils.autologging_utils: MLflow autologging encountered a warning: \"/opt/anaconda3/envs/mlops_env/lib/python3.9/site-packages/xgboost/core.py:160: UserWarning: [10:00:43] WARNING: /Users/runner/work/xgboost/xgboost/src/c_api/c_api.cc:1240: Saving into deprecated binary model format, please consider using `json` or `ubj`. Model format will default to JSON in XGBoost 2.2 if not specified.\"\n",
      "\n",
      "2024/07/09 10:00:44 WARNING mlflow.utils.requirements_utils: Detected one or more mismatches between the model's dependencies and the current Python environment:\n",
      " - mlflow (current: 2.14.2, required: mlflow==2.13.0)\n",
      "To fix the mismatches, call `mlflow.pyfunc.get_model_dependencies(model_uri)` to fetch the model's environment and install dependencies using the resulting environment file.\n",
      "\n"
     ]
    },
    {
     "name": "stdout",
     "output_type": "stream",
     "text": [
      " 94%|█████████▍| 30/32 [00:54<00:03,  1.84s/trial, best loss: 0.8028503562945368]"
     ]
    },
    {
     "name": "stderr",
     "output_type": "stream",
     "text": [
      "2024/07/09 10:00:45 WARNING mlflow.utils.autologging_utils: MLflow autologging encountered a warning: \"/opt/anaconda3/envs/mlops_env/lib/python3.9/site-packages/xgboost/core.py:160: UserWarning: [10:00:45] WARNING: /Users/runner/work/xgboost/xgboost/src/c_api/c_api.cc:1240: Saving into deprecated binary model format, please consider using `json` or `ubj`. Model format will default to JSON in XGBoost 2.2 if not specified.\"\n",
      "\n",
      "2024/07/09 10:00:46 WARNING mlflow.utils.requirements_utils: Detected one or more mismatches between the model's dependencies and the current Python environment:\n",
      " - mlflow (current: 2.14.2, required: mlflow==2.13.0)\n",
      "To fix the mismatches, call `mlflow.pyfunc.get_model_dependencies(model_uri)` to fetch the model's environment and install dependencies using the resulting environment file.\n",
      "\n"
     ]
    },
    {
     "name": "stdout",
     "output_type": "stream",
     "text": [
      " 97%|█████████▋| 31/32 [00:56<00:01,  1.84s/trial, best loss: 0.8028503562945368]"
     ]
    },
    {
     "name": "stderr",
     "output_type": "stream",
     "text": [
      "2024/07/09 10:00:46 WARNING mlflow.utils.autologging_utils: MLflow autologging encountered a warning: \"/opt/anaconda3/envs/mlops_env/lib/python3.9/site-packages/xgboost/core.py:160: UserWarning: [10:00:46] WARNING: /Users/runner/work/xgboost/xgboost/src/c_api/c_api.cc:1240: Saving into deprecated binary model format, please consider using `json` or `ubj`. Model format will default to JSON in XGBoost 2.2 if not specified.\"\n",
      "\n",
      "2024/07/09 10:00:48 WARNING mlflow.utils.requirements_utils: Detected one or more mismatches between the model's dependencies and the current Python environment:\n",
      " - mlflow (current: 2.14.2, required: mlflow==2.13.0)\n",
      "To fix the mismatches, call `mlflow.pyfunc.get_model_dependencies(model_uri)` to fetch the model's environment and install dependencies using the resulting environment file.\n",
      "\n"
     ]
    },
    {
     "name": "stdout",
     "output_type": "stream",
     "text": [
      "100%|██████████| 32/32 [00:58<00:00,  1.82s/trial, best loss: 0.8028503562945368]\n"
     ]
    }
   ],
   "source": [
    "import xgboost as xgb\n",
    "\n",
    "from hyperopt import fmin, tpe, hp, STATUS_OK, Trials\n",
    "from hyperopt.pyll import scope\n",
    "\n",
    "def train_model_xgboost_search(X_train, X_val, y_train, y_val):\n",
    "\n",
    "    mlflow.xgboost.autolog()\n",
    "\n",
    "    # Standardize the data\n",
    "    scaler = StandardScaler()\n",
    "    X_train = scaler.fit_transform(X_train)\n",
    "    X_val = scaler.transform(X_val)\n",
    "    \n",
    "    # Define the hyperparameter space\n",
    "    search_space = {\n",
    "        'max_depth': scope.int(hp.uniform('max_depth', 1, 20)),\n",
    "        'learning_rate': hp.uniform('learning_rate', 0.01, 0.2),\n",
    "        'reg_alpha': hp.loguniform('reg_alpha', -5, -1),\n",
    "        'reg_lambda': hp.loguniform('reg_lambda', -6, -1),\n",
    "        'min_child_weight': hp.loguniform('min_child_weight', -1, 3),\n",
    "        'objective': 'reg:squarederror',\n",
    "        'seed': 42\n",
    "    }\n",
    "\n",
    "    def objective(params):\n",
    "        with mlflow.start_run():\n",
    "\n",
    "            mlflow.set_tag(\"model\", \"XGBoostClassifier\")\n",
    "            mlflow.log_params(params)\n",
    "\n",
    "            # Train and evaluate XGBoost\n",
    "            mlflow.set_tag(\"model\", \"XGBoostClassifier\")\n",
    "            xgb_model = xgb.XGBClassifier(**params)\n",
    "            xgb_model.fit(X_train, y_train)\n",
    "            y_pred_xgboost = xgb_model.predict(X_val)\n",
    "\n",
    "            metrics = get_metrics(y_val, y_pred_xgboost)\n",
    "            \n",
    "            mlflow.log_metric(\"accuracy\", metrics[\"accuracy\"])\n",
    "            mlflow.log_metric(\"precision\", metrics[\"precision\"])\n",
    "            mlflow.log_metric(\"recall\", metrics[\"recall\"])\n",
    "            mlflow.log_metric(\"f1\", metrics[\"f1\"])\n",
    "            mlflow.log_metric(\"rmse\", metrics[\"rmse\"])\n",
    "\n",
    "        return {'loss': accuracy, 'status': STATUS_OK}\n",
    "\n",
    "    fmin(\n",
    "        fn=objective,\n",
    "        space=search_space,\n",
    "        algo=tpe.suggest,\n",
    "        max_evals=32,\n",
    "        trials=Trials()\n",
    "    )\n",
    "\n",
    "    return\n",
    "\n",
    "train_model_xgboost_search(X_train, X_val, y_train, y_val)"
   ]
  },
  {
   "cell_type": "code",
   "execution_count": 139,
   "metadata": {},
   "outputs": [
    {
     "name": "stdout",
     "output_type": "stream",
     "text": [
      "  0%|          | 0/32 [00:00<?, ?trial/s, best loss=?]"
     ]
    },
    {
     "name": "stderr",
     "output_type": "stream",
     "text": [
      "2024/07/09 10:01:25 WARNING mlflow.utils.requirements_utils: Detected one or more mismatches between the model's dependencies and the current Python environment:\n",
      " - mlflow (current: 2.14.2, required: mlflow==2.13.0)\n",
      "To fix the mismatches, call `mlflow.pyfunc.get_model_dependencies(model_uri)` to fetch the model's environment and install dependencies using the resulting environment file.\n",
      "\n"
     ]
    },
    {
     "name": "stdout",
     "output_type": "stream",
     "text": [
      "  3%|▎         | 1/32 [00:03<01:33,  3.01s/trial, best loss: 0.8028503562945368]"
     ]
    },
    {
     "name": "stderr",
     "output_type": "stream",
     "text": [
      "2024/07/09 10:01:28 WARNING mlflow.utils.requirements_utils: Detected one or more mismatches between the model's dependencies and the current Python environment:\n",
      " - mlflow (current: 2.14.2, required: mlflow==2.13.0)\n",
      "To fix the mismatches, call `mlflow.pyfunc.get_model_dependencies(model_uri)` to fetch the model's environment and install dependencies using the resulting environment file.\n",
      "\n"
     ]
    },
    {
     "name": "stdout",
     "output_type": "stream",
     "text": [
      "  6%|▋         | 2/32 [00:05<01:18,  2.63s/trial, best loss: 0.8028503562945368]"
     ]
    },
    {
     "name": "stderr",
     "output_type": "stream",
     "text": [
      "2024/07/09 10:01:30 WARNING mlflow.utils.requirements_utils: Detected one or more mismatches between the model's dependencies and the current Python environment:\n",
      " - mlflow (current: 2.14.2, required: mlflow==2.13.0)\n",
      "To fix the mismatches, call `mlflow.pyfunc.get_model_dependencies(model_uri)` to fetch the model's environment and install dependencies using the resulting environment file.\n",
      "\n"
     ]
    },
    {
     "name": "stdout",
     "output_type": "stream",
     "text": [
      "  9%|▉         | 3/32 [00:07<01:12,  2.50s/trial, best loss: 0.8028503562945368]"
     ]
    },
    {
     "name": "stderr",
     "output_type": "stream",
     "text": [
      "2024/07/09 10:01:32 WARNING mlflow.utils.requirements_utils: Detected one or more mismatches between the model's dependencies and the current Python environment:\n",
      " - mlflow (current: 2.14.2, required: mlflow==2.13.0)\n",
      "To fix the mismatches, call `mlflow.pyfunc.get_model_dependencies(model_uri)` to fetch the model's environment and install dependencies using the resulting environment file.\n",
      "\n"
     ]
    },
    {
     "name": "stdout",
     "output_type": "stream",
     "text": [
      " 12%|█▎        | 4/32 [00:09<01:06,  2.36s/trial, best loss: 0.8028503562945368]"
     ]
    },
    {
     "name": "stderr",
     "output_type": "stream",
     "text": [
      "2024/07/09 10:01:34 WARNING mlflow.utils.requirements_utils: Detected one or more mismatches between the model's dependencies and the current Python environment:\n",
      " - mlflow (current: 2.14.2, required: mlflow==2.13.0)\n",
      "To fix the mismatches, call `mlflow.pyfunc.get_model_dependencies(model_uri)` to fetch the model's environment and install dependencies using the resulting environment file.\n",
      "\n"
     ]
    },
    {
     "name": "stdout",
     "output_type": "stream",
     "text": [
      " 16%|█▌        | 5/32 [00:12<01:01,  2.29s/trial, best loss: 0.8028503562945368]"
     ]
    },
    {
     "name": "stderr",
     "output_type": "stream",
     "text": [
      "2024/07/09 10:01:38 WARNING mlflow.utils.requirements_utils: Detected one or more mismatches between the model's dependencies and the current Python environment:\n",
      " - mlflow (current: 2.14.2, required: mlflow==2.13.0)\n",
      "To fix the mismatches, call `mlflow.pyfunc.get_model_dependencies(model_uri)` to fetch the model's environment and install dependencies using the resulting environment file.\n",
      "\n"
     ]
    },
    {
     "name": "stdout",
     "output_type": "stream",
     "text": [
      " 19%|█▉        | 6/32 [00:16<01:16,  2.93s/trial, best loss: 0.8028503562945368]"
     ]
    },
    {
     "name": "stderr",
     "output_type": "stream",
     "text": [
      "2024/07/09 10:01:41 WARNING mlflow.utils.requirements_utils: Detected one or more mismatches between the model's dependencies and the current Python environment:\n",
      " - mlflow (current: 2.14.2, required: mlflow==2.13.0)\n",
      "To fix the mismatches, call `mlflow.pyfunc.get_model_dependencies(model_uri)` to fetch the model's environment and install dependencies using the resulting environment file.\n",
      "\n"
     ]
    },
    {
     "name": "stdout",
     "output_type": "stream",
     "text": [
      " 22%|██▏       | 7/32 [00:18<01:10,  2.82s/trial, best loss: 0.8028503562945368]"
     ]
    },
    {
     "name": "stderr",
     "output_type": "stream",
     "text": [
      "2024/07/09 10:01:43 WARNING mlflow.utils.requirements_utils: Detected one or more mismatches between the model's dependencies and the current Python environment:\n",
      " - mlflow (current: 2.14.2, required: mlflow==2.13.0)\n",
      "To fix the mismatches, call `mlflow.pyfunc.get_model_dependencies(model_uri)` to fetch the model's environment and install dependencies using the resulting environment file.\n",
      "\n"
     ]
    },
    {
     "name": "stdout",
     "output_type": "stream",
     "text": [
      " 25%|██▌       | 8/32 [00:20<01:02,  2.61s/trial, best loss: 0.8028503562945368]"
     ]
    },
    {
     "name": "stderr",
     "output_type": "stream",
     "text": [
      "2024/07/09 10:01:46 WARNING mlflow.utils.requirements_utils: Detected one or more mismatches between the model's dependencies and the current Python environment:\n",
      " - mlflow (current: 2.14.2, required: mlflow==2.13.0)\n",
      "To fix the mismatches, call `mlflow.pyfunc.get_model_dependencies(model_uri)` to fetch the model's environment and install dependencies using the resulting environment file.\n",
      "\n"
     ]
    },
    {
     "name": "stdout",
     "output_type": "stream",
     "text": [
      " 28%|██▊       | 9/32 [00:23<00:58,  2.55s/trial, best loss: 0.8028503562945368]"
     ]
    },
    {
     "name": "stderr",
     "output_type": "stream",
     "text": [
      "2024/07/09 10:01:48 WARNING mlflow.utils.requirements_utils: Detected one or more mismatches between the model's dependencies and the current Python environment:\n",
      " - mlflow (current: 2.14.2, required: mlflow==2.13.0)\n",
      "To fix the mismatches, call `mlflow.pyfunc.get_model_dependencies(model_uri)` to fetch the model's environment and install dependencies using the resulting environment file.\n",
      "\n"
     ]
    },
    {
     "name": "stdout",
     "output_type": "stream",
     "text": [
      " 31%|███▏      | 10/32 [00:25<00:56,  2.55s/trial, best loss: 0.8028503562945368]"
     ]
    },
    {
     "name": "stderr",
     "output_type": "stream",
     "text": [
      "2024/07/09 10:01:52 WARNING mlflow.utils.requirements_utils: Detected one or more mismatches between the model's dependencies and the current Python environment:\n",
      " - mlflow (current: 2.14.2, required: mlflow==2.13.0)\n",
      "To fix the mismatches, call `mlflow.pyfunc.get_model_dependencies(model_uri)` to fetch the model's environment and install dependencies using the resulting environment file.\n",
      "\n"
     ]
    },
    {
     "name": "stdout",
     "output_type": "stream",
     "text": [
      " 34%|███▍      | 11/32 [00:30<01:05,  3.13s/trial, best loss: 0.8028503562945368]"
     ]
    },
    {
     "name": "stderr",
     "output_type": "stream",
     "text": [
      "2024/07/09 10:01:55 WARNING mlflow.utils.requirements_utils: Detected one or more mismatches between the model's dependencies and the current Python environment:\n",
      " - mlflow (current: 2.14.2, required: mlflow==2.13.0)\n",
      "To fix the mismatches, call `mlflow.pyfunc.get_model_dependencies(model_uri)` to fetch the model's environment and install dependencies using the resulting environment file.\n",
      "\n"
     ]
    },
    {
     "name": "stdout",
     "output_type": "stream",
     "text": [
      " 38%|███▊      | 12/32 [00:32<00:56,  2.84s/trial, best loss: 0.8028503562945368]"
     ]
    },
    {
     "name": "stderr",
     "output_type": "stream",
     "text": [
      "2024/07/09 10:01:57 WARNING mlflow.utils.requirements_utils: Detected one or more mismatches between the model's dependencies and the current Python environment:\n",
      " - mlflow (current: 2.14.2, required: mlflow==2.13.0)\n",
      "To fix the mismatches, call `mlflow.pyfunc.get_model_dependencies(model_uri)` to fetch the model's environment and install dependencies using the resulting environment file.\n",
      "\n"
     ]
    },
    {
     "name": "stdout",
     "output_type": "stream",
     "text": [
      " 41%|████      | 13/32 [00:34<00:50,  2.68s/trial, best loss: 0.8028503562945368]"
     ]
    },
    {
     "name": "stderr",
     "output_type": "stream",
     "text": [
      "2024/07/09 10:02:00 WARNING mlflow.utils.requirements_utils: Detected one or more mismatches between the model's dependencies and the current Python environment:\n",
      " - mlflow (current: 2.14.2, required: mlflow==2.13.0)\n",
      "To fix the mismatches, call `mlflow.pyfunc.get_model_dependencies(model_uri)` to fetch the model's environment and install dependencies using the resulting environment file.\n",
      "\n"
     ]
    },
    {
     "name": "stdout",
     "output_type": "stream",
     "text": [
      " 44%|████▍     | 14/32 [00:37<00:47,  2.66s/trial, best loss: 0.8028503562945368]"
     ]
    },
    {
     "name": "stderr",
     "output_type": "stream",
     "text": [
      "2024/07/09 10:02:02 WARNING mlflow.utils.requirements_utils: Detected one or more mismatches between the model's dependencies and the current Python environment:\n",
      " - mlflow (current: 2.14.2, required: mlflow==2.13.0)\n",
      "To fix the mismatches, call `mlflow.pyfunc.get_model_dependencies(model_uri)` to fetch the model's environment and install dependencies using the resulting environment file.\n",
      "\n"
     ]
    },
    {
     "name": "stdout",
     "output_type": "stream",
     "text": [
      " 47%|████▋     | 15/32 [00:39<00:42,  2.51s/trial, best loss: 0.8028503562945368]"
     ]
    },
    {
     "name": "stderr",
     "output_type": "stream",
     "text": [
      "2024/07/09 10:02:04 WARNING mlflow.utils.requirements_utils: Detected one or more mismatches between the model's dependencies and the current Python environment:\n",
      " - mlflow (current: 2.14.2, required: mlflow==2.13.0)\n",
      "To fix the mismatches, call `mlflow.pyfunc.get_model_dependencies(model_uri)` to fetch the model's environment and install dependencies using the resulting environment file.\n",
      "\n"
     ]
    },
    {
     "name": "stdout",
     "output_type": "stream",
     "text": [
      " 50%|█████     | 16/32 [00:41<00:39,  2.47s/trial, best loss: 0.8028503562945368]"
     ]
    },
    {
     "name": "stderr",
     "output_type": "stream",
     "text": [
      "2024/07/09 10:02:08 WARNING mlflow.utils.requirements_utils: Detected one or more mismatches between the model's dependencies and the current Python environment:\n",
      " - mlflow (current: 2.14.2, required: mlflow==2.13.0)\n",
      "To fix the mismatches, call `mlflow.pyfunc.get_model_dependencies(model_uri)` to fetch the model's environment and install dependencies using the resulting environment file.\n",
      "\n"
     ]
    },
    {
     "name": "stdout",
     "output_type": "stream",
     "text": [
      " 53%|█████▎    | 17/32 [00:46<00:44,  2.99s/trial, best loss: 0.8028503562945368]"
     ]
    },
    {
     "name": "stderr",
     "output_type": "stream",
     "text": [
      "2024/07/09 10:02:11 WARNING mlflow.utils.requirements_utils: Detected one or more mismatches between the model's dependencies and the current Python environment:\n",
      " - mlflow (current: 2.14.2, required: mlflow==2.13.0)\n",
      "To fix the mismatches, call `mlflow.pyfunc.get_model_dependencies(model_uri)` to fetch the model's environment and install dependencies using the resulting environment file.\n",
      "\n"
     ]
    },
    {
     "name": "stdout",
     "output_type": "stream",
     "text": [
      " 56%|█████▋    | 18/32 [00:48<00:39,  2.83s/trial, best loss: 0.8028503562945368]"
     ]
    },
    {
     "name": "stderr",
     "output_type": "stream",
     "text": [
      "2024/07/09 10:02:15 WARNING mlflow.utils.requirements_utils: Detected one or more mismatches between the model's dependencies and the current Python environment:\n",
      " - mlflow (current: 2.14.2, required: mlflow==2.13.0)\n",
      "To fix the mismatches, call `mlflow.pyfunc.get_model_dependencies(model_uri)` to fetch the model's environment and install dependencies using the resulting environment file.\n",
      "\n"
     ]
    },
    {
     "name": "stdout",
     "output_type": "stream",
     "text": [
      " 59%|█████▉    | 19/32 [00:53<00:43,  3.31s/trial, best loss: 0.8028503562945368]"
     ]
    },
    {
     "name": "stderr",
     "output_type": "stream",
     "text": [
      "2024/07/09 10:02:20 WARNING mlflow.utils.requirements_utils: Detected one or more mismatches between the model's dependencies and the current Python environment:\n",
      " - mlflow (current: 2.14.2, required: mlflow==2.13.0)\n",
      "To fix the mismatches, call `mlflow.pyfunc.get_model_dependencies(model_uri)` to fetch the model's environment and install dependencies using the resulting environment file.\n",
      "\n"
     ]
    },
    {
     "name": "stdout",
     "output_type": "stream",
     "text": [
      " 62%|██████▎   | 20/32 [00:57<00:43,  3.63s/trial, best loss: 0.8028503562945368]"
     ]
    },
    {
     "name": "stderr",
     "output_type": "stream",
     "text": [
      "2024/07/09 10:02:22 WARNING mlflow.utils.requirements_utils: Detected one or more mismatches between the model's dependencies and the current Python environment:\n",
      " - mlflow (current: 2.14.2, required: mlflow==2.13.0)\n",
      "To fix the mismatches, call `mlflow.pyfunc.get_model_dependencies(model_uri)` to fetch the model's environment and install dependencies using the resulting environment file.\n",
      "\n"
     ]
    },
    {
     "name": "stdout",
     "output_type": "stream",
     "text": [
      " 66%|██████▌   | 21/32 [01:00<00:36,  3.34s/trial, best loss: 0.8028503562945368]"
     ]
    },
    {
     "name": "stderr",
     "output_type": "stream",
     "text": [
      "2024/07/09 10:02:25 WARNING mlflow.utils.requirements_utils: Detected one or more mismatches between the model's dependencies and the current Python environment:\n",
      " - mlflow (current: 2.14.2, required: mlflow==2.13.0)\n",
      "To fix the mismatches, call `mlflow.pyfunc.get_model_dependencies(model_uri)` to fetch the model's environment and install dependencies using the resulting environment file.\n",
      "\n"
     ]
    },
    {
     "name": "stdout",
     "output_type": "stream",
     "text": [
      " 69%|██████▉   | 22/32 [01:02<00:31,  3.12s/trial, best loss: 0.8028503562945368]"
     ]
    },
    {
     "name": "stderr",
     "output_type": "stream",
     "text": [
      "/opt/anaconda3/envs/mlops_env/lib/python3.9/site-packages/sklearn/metrics/_classification.py:2981: UserWarning: The y_pred values do not sum to one. Starting from 1.5 thiswill result in an error.\n",
      "  warnings.warn(\n",
      "\n",
      "2024/07/09 10:02:29 WARNING mlflow.utils.requirements_utils: Detected one or more mismatches between the model's dependencies and the current Python environment:\n",
      " - mlflow (current: 2.14.2, required: mlflow==2.13.0)\n",
      "To fix the mismatches, call `mlflow.pyfunc.get_model_dependencies(model_uri)` to fetch the model's environment and install dependencies using the resulting environment file.\n",
      "\n"
     ]
    },
    {
     "name": "stdout",
     "output_type": "stream",
     "text": [
      " 72%|███████▏  | 23/32 [01:07<00:31,  3.48s/trial, best loss: 0.8028503562945368]"
     ]
    },
    {
     "name": "stderr",
     "output_type": "stream",
     "text": [
      "2024/07/09 10:02:32 WARNING mlflow.utils.requirements_utils: Detected one or more mismatches between the model's dependencies and the current Python environment:\n",
      " - mlflow (current: 2.14.2, required: mlflow==2.13.0)\n",
      "To fix the mismatches, call `mlflow.pyfunc.get_model_dependencies(model_uri)` to fetch the model's environment and install dependencies using the resulting environment file.\n",
      "\n"
     ]
    },
    {
     "name": "stdout",
     "output_type": "stream",
     "text": [
      " 75%|███████▌  | 24/32 [01:09<00:25,  3.25s/trial, best loss: 0.8028503562945368]"
     ]
    },
    {
     "name": "stderr",
     "output_type": "stream",
     "text": [
      "2024/07/09 10:02:35 WARNING mlflow.utils.requirements_utils: Detected one or more mismatches between the model's dependencies and the current Python environment:\n",
      " - mlflow (current: 2.14.2, required: mlflow==2.13.0)\n",
      "To fix the mismatches, call `mlflow.pyfunc.get_model_dependencies(model_uri)` to fetch the model's environment and install dependencies using the resulting environment file.\n",
      "\n"
     ]
    },
    {
     "name": "stdout",
     "output_type": "stream",
     "text": [
      " 78%|███████▊  | 25/32 [01:12<00:21,  3.09s/trial, best loss: 0.8028503562945368]"
     ]
    },
    {
     "name": "stderr",
     "output_type": "stream",
     "text": [
      "2024/07/09 10:02:39 WARNING mlflow.utils.requirements_utils: Detected one or more mismatches between the model's dependencies and the current Python environment:\n",
      " - mlflow (current: 2.14.2, required: mlflow==2.13.0)\n",
      "To fix the mismatches, call `mlflow.pyfunc.get_model_dependencies(model_uri)` to fetch the model's environment and install dependencies using the resulting environment file.\n",
      "\n"
     ]
    },
    {
     "name": "stdout",
     "output_type": "stream",
     "text": [
      " 81%|████████▏ | 26/32 [01:16<00:21,  3.51s/trial, best loss: 0.8028503562945368]"
     ]
    },
    {
     "name": "stderr",
     "output_type": "stream",
     "text": [
      "2024/07/09 10:02:42 WARNING mlflow.utils.requirements_utils: Detected one or more mismatches between the model's dependencies and the current Python environment:\n",
      " - mlflow (current: 2.14.2, required: mlflow==2.13.0)\n",
      "To fix the mismatches, call `mlflow.pyfunc.get_model_dependencies(model_uri)` to fetch the model's environment and install dependencies using the resulting environment file.\n",
      "\n"
     ]
    },
    {
     "name": "stdout",
     "output_type": "stream",
     "text": [
      " 84%|████████▍ | 27/32 [01:19<00:16,  3.22s/trial, best loss: 0.8028503562945368]"
     ]
    },
    {
     "name": "stderr",
     "output_type": "stream",
     "text": [
      "2024/07/09 10:02:44 WARNING mlflow.utils.requirements_utils: Detected one or more mismatches between the model's dependencies and the current Python environment:\n",
      " - mlflow (current: 2.14.2, required: mlflow==2.13.0)\n",
      "To fix the mismatches, call `mlflow.pyfunc.get_model_dependencies(model_uri)` to fetch the model's environment and install dependencies using the resulting environment file.\n",
      "\n"
     ]
    },
    {
     "name": "stdout",
     "output_type": "stream",
     "text": [
      " 88%|████████▊ | 28/32 [01:22<00:12,  3.04s/trial, best loss: 0.8028503562945368]"
     ]
    },
    {
     "name": "stderr",
     "output_type": "stream",
     "text": [
      "2024/07/09 10:02:49 WARNING mlflow.utils.requirements_utils: Detected one or more mismatches between the model's dependencies and the current Python environment:\n",
      " - mlflow (current: 2.14.2, required: mlflow==2.13.0)\n",
      "To fix the mismatches, call `mlflow.pyfunc.get_model_dependencies(model_uri)` to fetch the model's environment and install dependencies using the resulting environment file.\n",
      "\n"
     ]
    },
    {
     "name": "stdout",
     "output_type": "stream",
     "text": [
      " 91%|█████████ | 29/32 [01:26<00:10,  3.42s/trial, best loss: 0.8028503562945368]"
     ]
    },
    {
     "name": "stderr",
     "output_type": "stream",
     "text": [
      "2024/07/09 10:02:51 WARNING mlflow.utils.requirements_utils: Detected one or more mismatches between the model's dependencies and the current Python environment:\n",
      " - mlflow (current: 2.14.2, required: mlflow==2.13.0)\n",
      "To fix the mismatches, call `mlflow.pyfunc.get_model_dependencies(model_uri)` to fetch the model's environment and install dependencies using the resulting environment file.\n",
      "\n"
     ]
    },
    {
     "name": "stdout",
     "output_type": "stream",
     "text": [
      " 94%|█████████▍| 30/32 [01:29<00:06,  3.19s/trial, best loss: 0.8028503562945368]"
     ]
    },
    {
     "name": "stderr",
     "output_type": "stream",
     "text": [
      "2024/07/09 10:02:54 WARNING mlflow.utils.requirements_utils: Detected one or more mismatches between the model's dependencies and the current Python environment:\n",
      " - mlflow (current: 2.14.2, required: mlflow==2.13.0)\n",
      "To fix the mismatches, call `mlflow.pyfunc.get_model_dependencies(model_uri)` to fetch the model's environment and install dependencies using the resulting environment file.\n",
      "\n"
     ]
    },
    {
     "name": "stdout",
     "output_type": "stream",
     "text": [
      " 97%|█████████▋| 31/32 [01:31<00:03,  3.04s/trial, best loss: 0.8028503562945368]"
     ]
    },
    {
     "name": "stderr",
     "output_type": "stream",
     "text": [
      "2024/07/09 10:02:59 WARNING mlflow.utils.requirements_utils: Detected one or more mismatches between the model's dependencies and the current Python environment:\n",
      " - mlflow (current: 2.14.2, required: mlflow==2.13.0)\n",
      "To fix the mismatches, call `mlflow.pyfunc.get_model_dependencies(model_uri)` to fetch the model's environment and install dependencies using the resulting environment file.\n",
      "\n"
     ]
    },
    {
     "name": "stdout",
     "output_type": "stream",
     "text": [
      "100%|██████████| 32/32 [01:36<00:00,  3.01s/trial, best loss: 0.8028503562945368]\n"
     ]
    }
   ],
   "source": [
    "from sklearn.ensemble import RandomForestClassifier\n",
    "\n",
    "from hyperopt import fmin, tpe, hp, STATUS_OK, Trials\n",
    "from hyperopt.pyll import scope\n",
    "\n",
    "def train_model_rfc(X_train, X_val, y_train, y_val):\n",
    "\n",
    "    mlflow.sklearn.autolog()\n",
    "\n",
    "    # Standardize the data\n",
    "    scaler = StandardScaler()\n",
    "    X_train = scaler.fit_transform(X_train)\n",
    "    X_val = scaler.transform(X_val)\n",
    "    \n",
    "    # Define the hyperparameter space\n",
    "    search_space = {\n",
    "                    'max_depth': hp.choice('max_depth', [80, 90, 100, 110]),\n",
    "                    'max_features': hp.choice('max_features', [2, 3]),\n",
    "                    'min_samples_leaf': hp.choice('min_samples_leaf', [3, 4, 5]),\n",
    "                    'min_samples_split': hp.choice('min_samples_split', [8, 10, 12]),\n",
    "                    'n_estimators': hp.choice('n_estimators', [100, 200, 300, 1000])\n",
    "                }\n",
    "\n",
    "    def objective(params):\n",
    "        with mlflow.start_run():\n",
    "\n",
    "            mlflow.log_params(params)\n",
    "\n",
    "            # Train and evaluate XGBoost\n",
    "            mlflow.set_tag(\"model\", \"RandomForestClassifier\")\n",
    "            random_forest = RandomForestClassifier(**params)\n",
    "            random_forest.fit(X_train, y_train)\n",
    "            y_pred_random_forest = random_forest.predict(X_val)\n",
    "\n",
    "            metrics = get_metrics(y_val, y_pred_random_forest)\n",
    "            \n",
    "            mlflow.log_metric(\"accuracy\", metrics[\"accuracy\"])\n",
    "            mlflow.log_metric(\"precision\", metrics[\"precision\"])\n",
    "            mlflow.log_metric(\"recall\", metrics[\"recall\"])\n",
    "            mlflow.log_metric(\"f1\", metrics[\"f1\"])\n",
    "            mlflow.log_metric(\"rmse\", metrics[\"rmse\"])\n",
    "\n",
    "        return {'loss': accuracy, 'status': STATUS_OK}\n",
    "\n",
    "    fmin(\n",
    "        fn=objective,\n",
    "        space=search_space,\n",
    "        algo=tpe.suggest,\n",
    "        max_evals=32,\n",
    "        trials=Trials()\n",
    "    )\n",
    "\n",
    "    return\n",
    "\n",
    "train_model_rfc(X_train, X_val, y_train, y_val)"
   ]
  },
  {
   "cell_type": "code",
   "execution_count": 140,
   "metadata": {},
   "outputs": [
    {
     "name": "stdout",
     "output_type": "stream",
     "text": [
      "Requirement already satisfied: catboost in /opt/anaconda3/envs/mlops_env/lib/python3.9/site-packages (1.2.5)\n",
      "Requirement already satisfied: graphviz in /opt/anaconda3/envs/mlops_env/lib/python3.9/site-packages (from catboost) (0.20.3)\n",
      "Requirement already satisfied: matplotlib in /opt/anaconda3/envs/mlops_env/lib/python3.9/site-packages (from catboost) (3.8.4)\n",
      "Requirement already satisfied: numpy>=1.16.0 in /opt/anaconda3/envs/mlops_env/lib/python3.9/site-packages (from catboost) (1.26.4)\n",
      "Requirement already satisfied: pandas>=0.24 in /opt/anaconda3/envs/mlops_env/lib/python3.9/site-packages (from catboost) (2.2.2)\n",
      "Requirement already satisfied: scipy in /opt/anaconda3/envs/mlops_env/lib/python3.9/site-packages (from catboost) (1.13.0)\n",
      "Requirement already satisfied: plotly in /opt/anaconda3/envs/mlops_env/lib/python3.9/site-packages (from catboost) (5.22.0)\n",
      "Requirement already satisfied: six in /opt/anaconda3/envs/mlops_env/lib/python3.9/site-packages (from catboost) (1.16.0)\n",
      "Requirement already satisfied: python-dateutil>=2.8.2 in /opt/anaconda3/envs/mlops_env/lib/python3.9/site-packages (from pandas>=0.24->catboost) (2.9.0.post0)\n",
      "Requirement already satisfied: pytz>=2020.1 in /opt/anaconda3/envs/mlops_env/lib/python3.9/site-packages (from pandas>=0.24->catboost) (2024.1)\n",
      "Requirement already satisfied: tzdata>=2022.7 in /opt/anaconda3/envs/mlops_env/lib/python3.9/site-packages (from pandas>=0.24->catboost) (2024.1)\n",
      "Requirement already satisfied: contourpy>=1.0.1 in /opt/anaconda3/envs/mlops_env/lib/python3.9/site-packages (from matplotlib->catboost) (1.2.1)\n",
      "Requirement already satisfied: cycler>=0.10 in /opt/anaconda3/envs/mlops_env/lib/python3.9/site-packages (from matplotlib->catboost) (0.12.1)\n",
      "Requirement already satisfied: fonttools>=4.22.0 in /opt/anaconda3/envs/mlops_env/lib/python3.9/site-packages (from matplotlib->catboost) (4.51.0)\n",
      "Requirement already satisfied: kiwisolver>=1.3.1 in /opt/anaconda3/envs/mlops_env/lib/python3.9/site-packages (from matplotlib->catboost) (1.4.5)\n",
      "Requirement already satisfied: packaging>=20.0 in /opt/anaconda3/envs/mlops_env/lib/python3.9/site-packages (from matplotlib->catboost) (23.2)\n",
      "Requirement already satisfied: pillow>=8 in /opt/anaconda3/envs/mlops_env/lib/python3.9/site-packages (from matplotlib->catboost) (10.3.0)\n",
      "Requirement already satisfied: pyparsing>=2.3.1 in /opt/anaconda3/envs/mlops_env/lib/python3.9/site-packages (from matplotlib->catboost) (3.1.2)\n",
      "Requirement already satisfied: importlib-resources>=3.2.0 in /opt/anaconda3/envs/mlops_env/lib/python3.9/site-packages (from matplotlib->catboost) (6.1.3)\n",
      "Requirement already satisfied: tenacity>=6.2.0 in /opt/anaconda3/envs/mlops_env/lib/python3.9/site-packages (from plotly->catboost) (8.4.1)\n",
      "Requirement already satisfied: zipp>=3.1.0 in /opt/anaconda3/envs/mlops_env/lib/python3.9/site-packages (from importlib-resources>=3.2.0->matplotlib->catboost) (3.18.1)\n"
     ]
    }
   ],
   "source": [
    "!pip install catboost"
   ]
  },
  {
   "cell_type": "code",
   "execution_count": 141,
   "metadata": {},
   "outputs": [
    {
     "name": "stdout",
     "output_type": "stream",
     "text": [
      "  0%|          | 0/32 [00:00<?, ?trial/s, best loss=?]"
     ]
    },
    {
     "name": "stderr",
     "output_type": "stream",
     "text": [
      "2024/07/09 10:03:25 WARNING mlflow.utils.requirements_utils: Detected one or more mismatches between the model's dependencies and the current Python environment:\n",
      " - mlflow (current: 2.14.2, required: mlflow==2.13.0)\n",
      "To fix the mismatches, call `mlflow.pyfunc.get_model_dependencies(model_uri)` to fetch the model's environment and install dependencies using the resulting environment file.\n",
      "\n"
     ]
    },
    {
     "name": "stdout",
     "output_type": "stream",
     "text": [
      "  3%|▎         | 1/32 [00:05<03:05,  5.97s/trial, best loss: 0.8028503562945368]"
     ]
    },
    {
     "name": "stderr",
     "output_type": "stream",
     "text": [
      "2024/07/09 10:03:28 WARNING mlflow.utils.requirements_utils: Detected one or more mismatches between the model's dependencies and the current Python environment:\n",
      " - mlflow (current: 2.14.2, required: mlflow==2.13.0)\n",
      "To fix the mismatches, call `mlflow.pyfunc.get_model_dependencies(model_uri)` to fetch the model's environment and install dependencies using the resulting environment file.\n",
      "\n"
     ]
    },
    {
     "name": "stdout",
     "output_type": "stream",
     "text": [
      "  6%|▋         | 2/32 [00:08<02:04,  4.16s/trial, best loss: 0.8028503562945368]"
     ]
    },
    {
     "name": "stderr",
     "output_type": "stream",
     "text": [
      "2024/07/09 10:03:30 WARNING mlflow.utils.requirements_utils: Detected one or more mismatches between the model's dependencies and the current Python environment:\n",
      " - mlflow (current: 2.14.2, required: mlflow==2.13.0)\n",
      "To fix the mismatches, call `mlflow.pyfunc.get_model_dependencies(model_uri)` to fetch the model's environment and install dependencies using the resulting environment file.\n",
      "\n"
     ]
    },
    {
     "name": "stdout",
     "output_type": "stream",
     "text": [
      "  9%|▉         | 3/32 [00:11<01:34,  3.26s/trial, best loss: 0.8028503562945368]"
     ]
    },
    {
     "name": "stderr",
     "output_type": "stream",
     "text": [
      "2024/07/09 10:03:33 WARNING mlflow.utils.requirements_utils: Detected one or more mismatches between the model's dependencies and the current Python environment:\n",
      " - mlflow (current: 2.14.2, required: mlflow==2.13.0)\n",
      "To fix the mismatches, call `mlflow.pyfunc.get_model_dependencies(model_uri)` to fetch the model's environment and install dependencies using the resulting environment file.\n",
      "\n"
     ]
    },
    {
     "name": "stdout",
     "output_type": "stream",
     "text": [
      " 12%|█▎        | 4/32 [00:13<01:27,  3.11s/trial, best loss: 0.8028503562945368]"
     ]
    },
    {
     "name": "stderr",
     "output_type": "stream",
     "text": [
      "2024/07/09 10:03:36 WARNING mlflow.utils.requirements_utils: Detected one or more mismatches between the model's dependencies and the current Python environment:\n",
      " - mlflow (current: 2.14.2, required: mlflow==2.13.0)\n",
      "To fix the mismatches, call `mlflow.pyfunc.get_model_dependencies(model_uri)` to fetch the model's environment and install dependencies using the resulting environment file.\n",
      "\n"
     ]
    },
    {
     "name": "stdout",
     "output_type": "stream",
     "text": [
      " 16%|█▌        | 5/32 [00:16<01:19,  2.93s/trial, best loss: 0.8028503562945368]"
     ]
    },
    {
     "name": "stderr",
     "output_type": "stream",
     "text": [
      "2024/07/09 10:03:40 WARNING mlflow.utils.requirements_utils: Detected one or more mismatches between the model's dependencies and the current Python environment:\n",
      " - mlflow (current: 2.14.2, required: mlflow==2.13.0)\n",
      "To fix the mismatches, call `mlflow.pyfunc.get_model_dependencies(model_uri)` to fetch the model's environment and install dependencies using the resulting environment file.\n",
      "\n"
     ]
    },
    {
     "name": "stdout",
     "output_type": "stream",
     "text": [
      " 19%|█▉        | 6/32 [00:21<01:30,  3.47s/trial, best loss: 0.8028503562945368]"
     ]
    },
    {
     "name": "stderr",
     "output_type": "stream",
     "text": [
      "2024/07/09 10:03:45 WARNING mlflow.utils.requirements_utils: Detected one or more mismatches between the model's dependencies and the current Python environment:\n",
      " - mlflow (current: 2.14.2, required: mlflow==2.13.0)\n",
      "To fix the mismatches, call `mlflow.pyfunc.get_model_dependencies(model_uri)` to fetch the model's environment and install dependencies using the resulting environment file.\n",
      "\n"
     ]
    },
    {
     "name": "stdout",
     "output_type": "stream",
     "text": [
      " 22%|██▏       | 7/32 [00:25<01:35,  3.81s/trial, best loss: 0.8028503562945368]"
     ]
    },
    {
     "name": "stderr",
     "output_type": "stream",
     "text": [
      "2024/07/09 10:03:59 WARNING mlflow.utils.requirements_utils: Detected one or more mismatches between the model's dependencies and the current Python environment:\n",
      " - mlflow (current: 2.14.2, required: mlflow==2.13.0)\n",
      "To fix the mismatches, call `mlflow.pyfunc.get_model_dependencies(model_uri)` to fetch the model's environment and install dependencies using the resulting environment file.\n",
      "\n"
     ]
    },
    {
     "name": "stdout",
     "output_type": "stream",
     "text": [
      " 25%|██▌       | 8/32 [00:40<02:54,  7.25s/trial, best loss: 0.8028503562945368]"
     ]
    },
    {
     "name": "stderr",
     "output_type": "stream",
     "text": [
      "2024/07/09 10:04:02 WARNING mlflow.utils.requirements_utils: Detected one or more mismatches between the model's dependencies and the current Python environment:\n",
      " - mlflow (current: 2.14.2, required: mlflow==2.13.0)\n",
      "To fix the mismatches, call `mlflow.pyfunc.get_model_dependencies(model_uri)` to fetch the model's environment and install dependencies using the resulting environment file.\n",
      "\n"
     ]
    },
    {
     "name": "stdout",
     "output_type": "stream",
     "text": [
      " 28%|██▊       | 9/32 [00:42<02:10,  5.67s/trial, best loss: 0.8028503562945368]"
     ]
    },
    {
     "name": "stderr",
     "output_type": "stream",
     "text": [
      "2024/07/09 10:04:12 WARNING mlflow.utils.requirements_utils: Detected one or more mismatches between the model's dependencies and the current Python environment:\n",
      " - mlflow (current: 2.14.2, required: mlflow==2.13.0)\n",
      "To fix the mismatches, call `mlflow.pyfunc.get_model_dependencies(model_uri)` to fetch the model's environment and install dependencies using the resulting environment file.\n",
      "\n"
     ]
    },
    {
     "name": "stdout",
     "output_type": "stream",
     "text": [
      " 31%|███▏      | 10/32 [00:52<02:35,  7.06s/trial, best loss: 0.8028503562945368]"
     ]
    },
    {
     "name": "stderr",
     "output_type": "stream",
     "text": [
      "2024/07/09 10:04:22 WARNING mlflow.utils.requirements_utils: Detected one or more mismatches between the model's dependencies and the current Python environment:\n",
      " - mlflow (current: 2.14.2, required: mlflow==2.13.0)\n",
      "To fix the mismatches, call `mlflow.pyfunc.get_model_dependencies(model_uri)` to fetch the model's environment and install dependencies using the resulting environment file.\n",
      "\n"
     ]
    },
    {
     "name": "stdout",
     "output_type": "stream",
     "text": [
      " 34%|███▍      | 11/32 [01:02<02:47,  7.98s/trial, best loss: 0.8028503562945368]"
     ]
    },
    {
     "name": "stderr",
     "output_type": "stream",
     "text": [
      "2024/07/09 10:04:25 WARNING mlflow.utils.requirements_utils: Detected one or more mismatches between the model's dependencies and the current Python environment:\n",
      " - mlflow (current: 2.14.2, required: mlflow==2.13.0)\n",
      "To fix the mismatches, call `mlflow.pyfunc.get_model_dependencies(model_uri)` to fetch the model's environment and install dependencies using the resulting environment file.\n",
      "\n"
     ]
    },
    {
     "name": "stdout",
     "output_type": "stream",
     "text": [
      " 38%|███▊      | 12/32 [01:06<02:12,  6.62s/trial, best loss: 0.8028503562945368]"
     ]
    },
    {
     "name": "stderr",
     "output_type": "stream",
     "text": [
      "2024/07/09 10:04:38 WARNING mlflow.utils.requirements_utils: Detected one or more mismatches between the model's dependencies and the current Python environment:\n",
      " - mlflow (current: 2.14.2, required: mlflow==2.13.0)\n",
      "To fix the mismatches, call `mlflow.pyfunc.get_model_dependencies(model_uri)` to fetch the model's environment and install dependencies using the resulting environment file.\n",
      "\n"
     ]
    },
    {
     "name": "stdout",
     "output_type": "stream",
     "text": [
      " 41%|████      | 13/32 [01:19<02:42,  8.55s/trial, best loss: 0.8028503562945368]"
     ]
    },
    {
     "name": "stderr",
     "output_type": "stream",
     "text": [
      "2024/07/09 10:04:42 WARNING mlflow.utils.requirements_utils: Detected one or more mismatches between the model's dependencies and the current Python environment:\n",
      " - mlflow (current: 2.14.2, required: mlflow==2.13.0)\n",
      "To fix the mismatches, call `mlflow.pyfunc.get_model_dependencies(model_uri)` to fetch the model's environment and install dependencies using the resulting environment file.\n",
      "\n"
     ]
    },
    {
     "name": "stdout",
     "output_type": "stream",
     "text": [
      " 44%|████▍     | 14/32 [01:22<02:06,  7.04s/trial, best loss: 0.8028503562945368]"
     ]
    },
    {
     "name": "stderr",
     "output_type": "stream",
     "text": [
      "2024/07/09 10:04:45 WARNING mlflow.utils.requirements_utils: Detected one or more mismatches between the model's dependencies and the current Python environment:\n",
      " - mlflow (current: 2.14.2, required: mlflow==2.13.0)\n",
      "To fix the mismatches, call `mlflow.pyfunc.get_model_dependencies(model_uri)` to fetch the model's environment and install dependencies using the resulting environment file.\n",
      "\n"
     ]
    },
    {
     "name": "stdout",
     "output_type": "stream",
     "text": [
      " 47%|████▋     | 15/32 [01:25<01:38,  5.82s/trial, best loss: 0.8028503562945368]"
     ]
    },
    {
     "name": "stderr",
     "output_type": "stream",
     "text": [
      "2024/07/09 10:04:55 WARNING mlflow.utils.requirements_utils: Detected one or more mismatches between the model's dependencies and the current Python environment:\n",
      " - mlflow (current: 2.14.2, required: mlflow==2.13.0)\n",
      "To fix the mismatches, call `mlflow.pyfunc.get_model_dependencies(model_uri)` to fetch the model's environment and install dependencies using the resulting environment file.\n",
      "\n"
     ]
    },
    {
     "name": "stdout",
     "output_type": "stream",
     "text": [
      " 50%|█████     | 16/32 [01:35<01:53,  7.12s/trial, best loss: 0.8028503562945368]"
     ]
    },
    {
     "name": "stderr",
     "output_type": "stream",
     "text": [
      "2024/07/09 10:04:59 WARNING mlflow.utils.requirements_utils: Detected one or more mismatches between the model's dependencies and the current Python environment:\n",
      " - mlflow (current: 2.14.2, required: mlflow==2.13.0)\n",
      "To fix the mismatches, call `mlflow.pyfunc.get_model_dependencies(model_uri)` to fetch the model's environment and install dependencies using the resulting environment file.\n",
      "\n"
     ]
    },
    {
     "name": "stdout",
     "output_type": "stream",
     "text": [
      " 53%|█████▎    | 17/32 [01:39<01:30,  6.04s/trial, best loss: 0.8028503562945368]"
     ]
    },
    {
     "name": "stderr",
     "output_type": "stream",
     "text": [
      "2024/07/09 10:05:05 WARNING mlflow.utils.requirements_utils: Detected one or more mismatches between the model's dependencies and the current Python environment:\n",
      " - mlflow (current: 2.14.2, required: mlflow==2.13.0)\n",
      "To fix the mismatches, call `mlflow.pyfunc.get_model_dependencies(model_uri)` to fetch the model's environment and install dependencies using the resulting environment file.\n",
      "\n"
     ]
    },
    {
     "name": "stdout",
     "output_type": "stream",
     "text": [
      " 56%|█████▋    | 18/32 [01:45<01:24,  6.06s/trial, best loss: 0.8028503562945368]"
     ]
    },
    {
     "name": "stderr",
     "output_type": "stream",
     "text": [
      "2024/07/09 10:05:07 WARNING mlflow.utils.requirements_utils: Detected one or more mismatches between the model's dependencies and the current Python environment:\n",
      " - mlflow (current: 2.14.2, required: mlflow==2.13.0)\n",
      "To fix the mismatches, call `mlflow.pyfunc.get_model_dependencies(model_uri)` to fetch the model's environment and install dependencies using the resulting environment file.\n",
      "\n"
     ]
    },
    {
     "name": "stdout",
     "output_type": "stream",
     "text": [
      " 59%|█████▉    | 19/32 [01:47<01:05,  5.01s/trial, best loss: 0.8028503562945368]"
     ]
    },
    {
     "name": "stderr",
     "output_type": "stream",
     "text": [
      "2024/07/09 10:05:11 WARNING mlflow.utils.requirements_utils: Detected one or more mismatches between the model's dependencies and the current Python environment:\n",
      " - mlflow (current: 2.14.2, required: mlflow==2.13.0)\n",
      "To fix the mismatches, call `mlflow.pyfunc.get_model_dependencies(model_uri)` to fetch the model's environment and install dependencies using the resulting environment file.\n",
      "\n"
     ]
    },
    {
     "name": "stdout",
     "output_type": "stream",
     "text": [
      " 62%|██████▎   | 20/32 [01:51<00:55,  4.59s/trial, best loss: 0.8028503562945368]"
     ]
    },
    {
     "name": "stderr",
     "output_type": "stream",
     "text": [
      "2024/07/09 10:05:17 WARNING mlflow.utils.requirements_utils: Detected one or more mismatches between the model's dependencies and the current Python environment:\n",
      " - mlflow (current: 2.14.2, required: mlflow==2.13.0)\n",
      "To fix the mismatches, call `mlflow.pyfunc.get_model_dependencies(model_uri)` to fetch the model's environment and install dependencies using the resulting environment file.\n",
      "\n"
     ]
    },
    {
     "name": "stdout",
     "output_type": "stream",
     "text": [
      " 66%|██████▌   | 21/32 [01:57<00:55,  5.02s/trial, best loss: 0.8028503562945368]"
     ]
    },
    {
     "name": "stderr",
     "output_type": "stream",
     "text": [
      "2024/07/09 10:05:23 WARNING mlflow.utils.requirements_utils: Detected one or more mismatches between the model's dependencies and the current Python environment:\n",
      " - mlflow (current: 2.14.2, required: mlflow==2.13.0)\n",
      "To fix the mismatches, call `mlflow.pyfunc.get_model_dependencies(model_uri)` to fetch the model's environment and install dependencies using the resulting environment file.\n",
      "\n"
     ]
    },
    {
     "name": "stdout",
     "output_type": "stream",
     "text": [
      " 69%|██████▉   | 22/32 [02:03<00:52,  5.28s/trial, best loss: 0.8028503562945368]"
     ]
    },
    {
     "name": "stderr",
     "output_type": "stream",
     "text": [
      "2024/07/09 10:05:26 WARNING mlflow.utils.requirements_utils: Detected one or more mismatches between the model's dependencies and the current Python environment:\n",
      " - mlflow (current: 2.14.2, required: mlflow==2.13.0)\n",
      "To fix the mismatches, call `mlflow.pyfunc.get_model_dependencies(model_uri)` to fetch the model's environment and install dependencies using the resulting environment file.\n",
      "\n"
     ]
    },
    {
     "name": "stdout",
     "output_type": "stream",
     "text": [
      " 72%|███████▏  | 23/32 [02:07<00:43,  4.78s/trial, best loss: 0.8028503562945368]"
     ]
    },
    {
     "name": "stderr",
     "output_type": "stream",
     "text": [
      "2024/07/09 10:05:29 WARNING mlflow.utils.requirements_utils: Detected one or more mismatches between the model's dependencies and the current Python environment:\n",
      " - mlflow (current: 2.14.2, required: mlflow==2.13.0)\n",
      "To fix the mismatches, call `mlflow.pyfunc.get_model_dependencies(model_uri)` to fetch the model's environment and install dependencies using the resulting environment file.\n",
      "\n"
     ]
    },
    {
     "name": "stdout",
     "output_type": "stream",
     "text": [
      " 75%|███████▌  | 24/32 [02:09<00:32,  4.10s/trial, best loss: 0.8028503562945368]"
     ]
    },
    {
     "name": "stderr",
     "output_type": "stream",
     "text": [
      "2024/07/09 10:05:35 WARNING mlflow.utils.requirements_utils: Detected one or more mismatches between the model's dependencies and the current Python environment:\n",
      " - mlflow (current: 2.14.2, required: mlflow==2.13.0)\n",
      "To fix the mismatches, call `mlflow.pyfunc.get_model_dependencies(model_uri)` to fetch the model's environment and install dependencies using the resulting environment file.\n",
      "\n"
     ]
    },
    {
     "name": "stdout",
     "output_type": "stream",
     "text": [
      " 78%|███████▊  | 25/32 [02:15<00:32,  4.61s/trial, best loss: 0.8028503562945368]"
     ]
    },
    {
     "name": "stderr",
     "output_type": "stream",
     "text": [
      "2024/07/09 10:05:38 WARNING mlflow.utils.requirements_utils: Detected one or more mismatches between the model's dependencies and the current Python environment:\n",
      " - mlflow (current: 2.14.2, required: mlflow==2.13.0)\n",
      "To fix the mismatches, call `mlflow.pyfunc.get_model_dependencies(model_uri)` to fetch the model's environment and install dependencies using the resulting environment file.\n",
      "\n"
     ]
    },
    {
     "name": "stdout",
     "output_type": "stream",
     "text": [
      " 81%|████████▏ | 26/32 [02:19<00:26,  4.34s/trial, best loss: 0.8028503562945368]"
     ]
    },
    {
     "name": "stderr",
     "output_type": "stream",
     "text": [
      "2024/07/09 10:05:41 WARNING mlflow.utils.requirements_utils: Detected one or more mismatches between the model's dependencies and the current Python environment:\n",
      " - mlflow (current: 2.14.2, required: mlflow==2.13.0)\n",
      "To fix the mismatches, call `mlflow.pyfunc.get_model_dependencies(model_uri)` to fetch the model's environment and install dependencies using the resulting environment file.\n",
      "\n"
     ]
    },
    {
     "name": "stdout",
     "output_type": "stream",
     "text": [
      " 84%|████████▍ | 27/32 [02:21<00:19,  3.84s/trial, best loss: 0.8028503562945368]"
     ]
    },
    {
     "name": "stderr",
     "output_type": "stream",
     "text": [
      "2024/07/09 10:05:47 WARNING mlflow.utils.requirements_utils: Detected one or more mismatches between the model's dependencies and the current Python environment:\n",
      " - mlflow (current: 2.14.2, required: mlflow==2.13.0)\n",
      "To fix the mismatches, call `mlflow.pyfunc.get_model_dependencies(model_uri)` to fetch the model's environment and install dependencies using the resulting environment file.\n",
      "\n"
     ]
    },
    {
     "name": "stdout",
     "output_type": "stream",
     "text": [
      " 88%|████████▊ | 28/32 [02:27<00:17,  4.41s/trial, best loss: 0.8028503562945368]"
     ]
    },
    {
     "name": "stderr",
     "output_type": "stream",
     "text": [
      "2024/07/09 10:05:51 WARNING mlflow.utils.requirements_utils: Detected one or more mismatches between the model's dependencies and the current Python environment:\n",
      " - mlflow (current: 2.14.2, required: mlflow==2.13.0)\n",
      "To fix the mismatches, call `mlflow.pyfunc.get_model_dependencies(model_uri)` to fetch the model's environment and install dependencies using the resulting environment file.\n",
      "\n"
     ]
    },
    {
     "name": "stdout",
     "output_type": "stream",
     "text": [
      " 91%|█████████ | 29/32 [02:31<00:12,  4.18s/trial, best loss: 0.8028503562945368]"
     ]
    },
    {
     "name": "stderr",
     "output_type": "stream",
     "text": [
      "2024/07/09 10:05:53 WARNING mlflow.utils.requirements_utils: Detected one or more mismatches between the model's dependencies and the current Python environment:\n",
      " - mlflow (current: 2.14.2, required: mlflow==2.13.0)\n",
      "To fix the mismatches, call `mlflow.pyfunc.get_model_dependencies(model_uri)` to fetch the model's environment and install dependencies using the resulting environment file.\n",
      "\n"
     ]
    },
    {
     "name": "stdout",
     "output_type": "stream",
     "text": [
      " 94%|█████████▍| 30/32 [02:34<00:07,  3.83s/trial, best loss: 0.8028503562945368]"
     ]
    },
    {
     "name": "stderr",
     "output_type": "stream",
     "text": [
      "2024/07/09 10:06:00 WARNING mlflow.utils.requirements_utils: Detected one or more mismatches between the model's dependencies and the current Python environment:\n",
      " - mlflow (current: 2.14.2, required: mlflow==2.13.0)\n",
      "To fix the mismatches, call `mlflow.pyfunc.get_model_dependencies(model_uri)` to fetch the model's environment and install dependencies using the resulting environment file.\n",
      "\n"
     ]
    },
    {
     "name": "stdout",
     "output_type": "stream",
     "text": [
      " 97%|█████████▋| 31/32 [02:40<00:04,  4.70s/trial, best loss: 0.8028503562945368]"
     ]
    },
    {
     "name": "stderr",
     "output_type": "stream",
     "text": [
      "2024/07/09 10:06:04 WARNING mlflow.utils.requirements_utils: Detected one or more mismatches between the model's dependencies and the current Python environment:\n",
      " - mlflow (current: 2.14.2, required: mlflow==2.13.0)\n",
      "To fix the mismatches, call `mlflow.pyfunc.get_model_dependencies(model_uri)` to fetch the model's environment and install dependencies using the resulting environment file.\n",
      "\n"
     ]
    },
    {
     "name": "stdout",
     "output_type": "stream",
     "text": [
      "100%|██████████| 32/32 [02:44<00:00,  5.15s/trial, best loss: 0.8028503562945368]\n"
     ]
    }
   ],
   "source": [
    "from catboost import CatBoostClassifier\n",
    "\n",
    "from hyperopt import fmin, tpe, hp, STATUS_OK, Trials\n",
    "from hyperopt.pyll import scope\n",
    "\n",
    "def train_model_catboost(X_train, X_val, y_train, y_val):\n",
    "\n",
    "    # Standardize the data\n",
    "    scaler = StandardScaler()\n",
    "    X_train = scaler.fit_transform(X_train)\n",
    "    X_val = scaler.transform(X_val)\n",
    "    \n",
    "    # Define the hyperparameter space\n",
    "    search_space = {\n",
    "                    'iterations': hp.choice('max_depth', [500, 1000, 1500]),\n",
    "                    'learning_rate': hp.choice('learning_rate', [0.01, 0.05, 0.1]),\n",
    "                    'depth': hp.choice('depth', [4, 6, 8, 10]),\n",
    "                    'l2_leaf_reg': hp.choice('l2_leaf_reg', [1, 3, 5, 7, 9]),\n",
    "                    'border_count': hp.choice('border_count', [32, 50, 100]),\n",
    "                    'bagging_temperature': hp.choice('bagging_temperature', [0.5, 1, 2, 5]),\n",
    "                    'random_strength': hp.choice('random_strength', [0.5, 1, 2]),\n",
    "                    'scale_pos_weight': hp.choice('scale_pos_weight', [1, 2, 3, 5]),\n",
    "                }\n",
    "\n",
    "    def objective(params):\n",
    "        with mlflow.start_run():\n",
    "\n",
    "            mlflow.log_params(params)\n",
    "\n",
    "            # Train and evaluate XGBoost\n",
    "            mlflow.set_tag(\"model\", \"CatBoostClassifier\")\n",
    "            catboost = CatBoostClassifier(verbose=0, **params)\n",
    "            catboost.fit(X_train, y_train)\n",
    "            y_pred_catboost = catboost.predict(X_val)\n",
    "\n",
    "            metrics = get_metrics(y_val, y_pred_catboost)\n",
    "            \n",
    "            mlflow.log_metric(\"accuracy\", metrics[\"accuracy\"])\n",
    "            mlflow.log_metric(\"precision\", metrics[\"precision\"])\n",
    "            mlflow.log_metric(\"recall\", metrics[\"recall\"])\n",
    "            mlflow.log_metric(\"f1\", metrics[\"f1\"])\n",
    "            mlflow.log_metric(\"rmse\", metrics[\"rmse\"])\n",
    "\n",
    "            # Log the model manually\n",
    "            mlflow.catboost.log_model(  catboost, \n",
    "                                        artifact_path=\"models\", \n",
    "                                )\n",
    "\n",
    "        return {'loss': accuracy, 'status': STATUS_OK}\n",
    "\n",
    "    fmin(\n",
    "        fn=objective,\n",
    "        space=search_space,\n",
    "        algo=tpe.suggest,\n",
    "        max_evals=32,\n",
    "        trials=Trials()\n",
    "    )\n",
    "\n",
    "    return\n",
    "\n",
    "train_model_catboost(X_train, X_val, y_train, y_val)"
   ]
  },
  {
   "cell_type": "markdown",
   "metadata": {},
   "source": [
    "### Model Registry - Register the best model"
   ]
  },
  {
   "cell_type": "code",
   "execution_count": 3,
   "metadata": {},
   "outputs": [],
   "source": [
    "from mlflow.tracking import MlflowClient\n",
    "from mlflow.entities import ViewType\n",
    "\n",
    "def register_best_model():\n",
    "    client = MlflowClient()\n",
    "    experiment = client.get_experiment_by_name(EXPERIMENT_NAME)\n",
    "    best_run = client.search_runs(\n",
    "        experiment_ids=experiment.experiment_id,\n",
    "        run_view_type=ViewType.ACTIVE_ONLY,\n",
    "        max_results=1,\n",
    "        order_by=[\"metrics.rmse asc\"]\n",
    "    )[0]\n",
    "    \n",
    "    # register the best model\n",
    "    run_id = best_run.info.run_id\n",
    "    model_uri = f\"runs:/{run_id}/model\"\n",
    "    model_accuracy = round(best_run.data.metrics['accuracy']*100)\n",
    "    model_details = mlflow.register_model(model_uri=model_uri, name=EXPERIMENT_NAME)\n",
    "    client.update_registered_model(\n",
    "      name=model_details.name,\n",
    "      description=f\"Current accuracy: {model_accuracy}%\"\n",
    "    )"
   ]
  },
  {
   "cell_type": "code",
   "execution_count": 143,
   "metadata": {},
   "outputs": [
    {
     "name": "stderr",
     "output_type": "stream",
     "text": [
      "Successfully registered model 'parkinson-disease-prediction'.\n",
      "2024/07/09 10:06:38 INFO mlflow.store.model_registry.abstract_store: Waiting up to 300 seconds for model version to finish creation. Model name: parkinson-disease-prediction, version 1\n",
      "Created version '1' of model 'parkinson-disease-prediction'.\n"
     ]
    }
   ],
   "source": [
    "register_best_model()"
   ]
  },
  {
   "cell_type": "markdown",
   "metadata": {},
   "source": [
    "# Inference"
   ]
  },
  {
   "cell_type": "markdown",
   "metadata": {},
   "source": [
    "### Getting the RUN_ID of the registered model"
   ]
  },
  {
   "cell_type": "code",
   "execution_count": 144,
   "metadata": {},
   "outputs": [
    {
     "name": "stdout",
     "output_type": "stream",
     "text": [
      "Model Name: parkinson-disease-prediction\n",
      "Version: 1\n",
      "Run ID: ed955bc25fa74d95bedbd1b5a72a8e73\n"
     ]
    },
    {
     "name": "stderr",
     "output_type": "stream",
     "text": [
      "/var/folders/b4/lg6cghr91lg7q_c13xh443mw0000gn/T/ipykernel_263/1043616151.py:8: FutureWarning: ``mlflow.tracking.client.MlflowClient.get_latest_versions`` is deprecated since 2.9.0. Model registry stages will be removed in a future major release. To learn more about the deprecation of model registry stages, see our migration guide here: https://mlflow.org/docs/2.13.0/model-registry.html#migrating-from-stages\n",
      "  latest_versions = client.get_latest_versions(model_name, stages=[\"None\", \"Staging\", \"Production\"])\n"
     ]
    }
   ],
   "source": [
    "# Initialize MLflow client\n",
    "client = MlflowClient()\n",
    "\n",
    "# Specify the model name\n",
    "model_name = \"parkinson-disease-prediction\"\n",
    "\n",
    "# Get the latest versions of the registered model\n",
    "latest_versions = client.get_latest_versions(model_name, stages=[\"None\", \"Staging\", \"Production\"])\n",
    "\n",
    "# Print run_ids of all the latest versions\n",
    "for version in latest_versions:\n",
    "\n",
    "    RUN_ID = version.run_id\n",
    "\n",
    "    print(f\"Model Name: {model_name}\")\n",
    "    print(f\"Version: {version.version}\")\n",
    "    print(f\"Run ID: {version.run_id}\")"
   ]
  },
  {
   "cell_type": "markdown",
   "metadata": {},
   "source": [
    "### Load the registered model using RUN_ID"
   ]
  },
  {
   "cell_type": "code",
   "execution_count": 145,
   "metadata": {},
   "outputs": [
    {
     "data": {
      "application/vnd.jupyter.widget-view+json": {
       "model_id": "e222f1877d4f47698f1d2a2f821ae3a5",
       "version_major": 2,
       "version_minor": 0
      },
      "text/plain": [
       "Downloading artifacts:   0%|          | 0/9 [00:00<?, ?it/s]"
      ]
     },
     "metadata": {},
     "output_type": "display_data"
    },
    {
     "name": "stderr",
     "output_type": "stream",
     "text": [
      "2024/07/09 10:07:38 WARNING mlflow.utils.requirements_utils: Detected one or more mismatches between the model's dependencies and the current Python environment:\n",
      " - mlflow (current: 2.14.2, required: mlflow==2.13.0)\n",
      "To fix the mismatches, call `mlflow.pyfunc.get_model_dependencies(model_uri)` to fetch the model's environment and install dependencies using the resulting environment file.\n"
     ]
    },
    {
     "data": {
      "text/plain": [
       "mlflow.pyfunc.loaded_model:\n",
       "  artifact_path: models\n",
       "  flavor: mlflow.catboost\n",
       "  run_id: ed955bc25fa74d95bedbd1b5a72a8e73"
      ]
     },
     "execution_count": 145,
     "metadata": {},
     "output_type": "execute_result"
    }
   ],
   "source": [
    "logged_model = f'runs:/{RUN_ID}/models'\n",
    "\n",
    "# Load model as a PyFuncModel.\n",
    "loaded_model = mlflow.pyfunc.load_model(logged_model)\n",
    "loaded_model"
   ]
  },
  {
   "cell_type": "code",
   "execution_count": 146,
   "metadata": {},
   "outputs": [
    {
     "data": {
      "text/plain": [
       "{'Age': 67,\n",
       " 'BMI': 24.77259403457728,\n",
       " 'AlcoholConsumption': 13.941385740391004,\n",
       " 'PhysicalActivity': 2.472534322357399,\n",
       " 'DietQuality': 9.593309739128369,\n",
       " 'SleepQuality': 6.060992120577725,\n",
       " 'SystolicBP': 92,\n",
       " 'DiastolicBP': 60,\n",
       " 'CholesterolTotal': 193.1381868106296,\n",
       " 'CholesterolLDL': 137.5175503762128,\n",
       " 'CholesterolHDL': 25.482467035806813,\n",
       " 'CholesterolTriglycerides': 313.66674876926953,\n",
       " 'UPDRS': 58.99092096333794,\n",
       " 'MoCA': 19.902233615718146,\n",
       " 'FunctionalAssessment': 5.104914484020905,\n",
       " 'Gender': '1',\n",
       " 'Ethnicity': '2',\n",
       " 'EducationLevel': '1',\n",
       " 'Smoking': '0',\n",
       " 'FamilyHistoryParkinsons': '0',\n",
       " 'TraumaticBrainInjury': '0',\n",
       " 'Hypertension': '1',\n",
       " 'Diabetes': '0',\n",
       " 'Depression': '0',\n",
       " 'Stroke': '0',\n",
       " 'Tremor': '0',\n",
       " 'Rigidity': '1',\n",
       " 'Bradykinesia': '1',\n",
       " 'PosturalInstability': '0',\n",
       " 'SpeechProblems': '0',\n",
       " 'SleepDisorders': '1',\n",
       " 'Constipation': '0'}"
      ]
     },
     "execution_count": 146,
     "metadata": {},
     "output_type": "execute_result"
    }
   ],
   "source": [
    "# Prepare the test data\n",
    "test_data = X_val.iloc[10].to_dict()\n",
    "test_data"
   ]
  },
  {
   "cell_type": "code",
   "execution_count": 147,
   "metadata": {},
   "outputs": [
    {
     "data": {
      "text/plain": [
       "array([1])"
      ]
     },
     "execution_count": 147,
     "metadata": {},
     "output_type": "execute_result"
    }
   ],
   "source": [
    "# Predict\n",
    "y_pred = loaded_model.predict(pd.DataFrame(test_data, index=[0]))\n",
    "y_pred"
   ]
  },
  {
   "cell_type": "code",
   "execution_count": 148,
   "metadata": {},
   "outputs": [
    {
     "data": {
      "text/plain": [
       "1"
      ]
     },
     "execution_count": 148,
     "metadata": {},
     "output_type": "execute_result"
    }
   ],
   "source": [
    "# Ground Truth\n",
    "y_val[10]"
   ]
  },
  {
   "cell_type": "markdown",
   "metadata": {},
   "source": [
    "### Transit the registered model to the Stage"
   ]
  },
  {
   "cell_type": "code",
   "execution_count": 149,
   "metadata": {},
   "outputs": [
    {
     "name": "stdout",
     "output_type": "stream",
     "text": [
      "version: 1, stage: None\n"
     ]
    },
    {
     "name": "stderr",
     "output_type": "stream",
     "text": [
      "/var/folders/b4/lg6cghr91lg7q_c13xh443mw0000gn/T/ipykernel_263/385191317.py:1: FutureWarning: ``mlflow.tracking.client.MlflowClient.get_latest_versions`` is deprecated since 2.9.0. Model registry stages will be removed in a future major release. To learn more about the deprecation of model registry stages, see our migration guide here: https://mlflow.org/docs/2.13.0/model-registry.html#migrating-from-stages\n",
      "  latest_versions = client.get_latest_versions(model_name, stages=[\"None\"])\n"
     ]
    }
   ],
   "source": [
    "latest_versions = client.get_latest_versions(model_name, stages=[\"None\"])\n",
    "\n",
    "for version in latest_versions:\n",
    "    print(f\"version: {version.version}, stage: {version.current_stage}\")"
   ]
  },
  {
   "cell_type": "code",
   "execution_count": 150,
   "metadata": {},
   "outputs": [
    {
     "name": "stderr",
     "output_type": "stream",
     "text": [
      "/var/folders/b4/lg6cghr91lg7q_c13xh443mw0000gn/T/ipykernel_263/2303499851.py:4: FutureWarning: ``mlflow.tracking.client.MlflowClient.transition_model_version_stage`` is deprecated since 2.9.0. Model registry stages will be removed in a future major release. To learn more about the deprecation of model registry stages, see our migration guide here: https://mlflow.org/docs/2.13.0/model-registry.html#migrating-from-stages\n",
      "  client.transition_model_version_stage(\n"
     ]
    },
    {
     "data": {
      "text/plain": [
       "<ModelVersion: aliases=[], creation_timestamp=1720512398078, current_stage='Staging', description='', last_updated_timestamp=1720512476299, name='parkinson-disease-prediction', run_id='ed955bc25fa74d95bedbd1b5a72a8e73', run_link='', source='mlflow-artifacts:/1/ed955bc25fa74d95bedbd1b5a72a8e73/artifacts/model', status='READY', status_message='', tags={}, user_id='', version='1'>"
      ]
     },
     "execution_count": 150,
     "metadata": {},
     "output_type": "execute_result"
    }
   ],
   "source": [
    "# Move the registered model to stage\n",
    "model_version = 1\n",
    "new_stage = \"staging\"\n",
    "client.transition_model_version_stage(\n",
    "    name=model_name,\n",
    "    version=model_version,\n",
    "    stage=new_stage,\n",
    "    archive_existing_versions=False\n",
    ")"
   ]
  },
  {
   "cell_type": "code",
   "execution_count": 151,
   "metadata": {},
   "outputs": [
    {
     "name": "stdout",
     "output_type": "stream",
     "text": [
      "version: 1, stage: Staging\n"
     ]
    },
    {
     "name": "stderr",
     "output_type": "stream",
     "text": [
      "/var/folders/b4/lg6cghr91lg7q_c13xh443mw0000gn/T/ipykernel_263/1143236027.py:1: FutureWarning: ``mlflow.tracking.client.MlflowClient.get_latest_versions`` is deprecated since 2.9.0. Model registry stages will be removed in a future major release. To learn more about the deprecation of model registry stages, see our migration guide here: https://mlflow.org/docs/2.13.0/model-registry.html#migrating-from-stages\n",
      "  latest_versions = client.get_latest_versions(model_name, stages=[\"Staging\"])\n"
     ]
    }
   ],
   "source": [
    "latest_versions = client.get_latest_versions(model_name, stages=[\"Staging\"])\n",
    "\n",
    "for version in latest_versions:\n",
    "    print(f\"version: {version.version}, stage: {version.current_stage}\")"
   ]
  },
  {
   "cell_type": "code",
   "execution_count": 152,
   "metadata": {},
   "outputs": [
    {
     "data": {
      "text/plain": [
       "<ModelVersion: aliases=[], creation_timestamp=1720512398078, current_stage='Staging', description='The model version 1 was transitioned to staging on 2024-07-09', last_updated_timestamp=1720512483181, name='parkinson-disease-prediction', run_id='ed955bc25fa74d95bedbd1b5a72a8e73', run_link='', source='mlflow-artifacts:/1/ed955bc25fa74d95bedbd1b5a72a8e73/artifacts/model', status='READY', status_message='', tags={}, user_id='', version='1'>"
      ]
     },
     "execution_count": 152,
     "metadata": {},
     "output_type": "execute_result"
    }
   ],
   "source": [
    "from datetime import datetime\n",
    "\n",
    "date = datetime.today().date()\n",
    "client.update_model_version(\n",
    "    name=model_name,\n",
    "    version=model_version,\n",
    "    description=f\"The model version {model_version} was transitioned to {new_stage} on {date}\"\n",
    ")"
   ]
  },
  {
   "cell_type": "markdown",
   "metadata": {},
   "source": [
    "###  Save the Artifacts of the best model from the MLFlow registry to S3 bucket on AWS"
   ]
  },
  {
   "cell_type": "code",
   "execution_count": 3,
   "metadata": {},
   "outputs": [
    {
     "name": "stderr",
     "output_type": "stream",
     "text": [
      "/var/folders/b4/lg6cghr91lg7q_c13xh443mw0000gn/T/ipykernel_23440/755300388.py:18: FutureWarning: ``mlflow.tracking.client.MlflowClient.get_latest_versions`` is deprecated since 2.9.0. Model registry stages will be removed in a future major release. To learn more about the deprecation of model registry stages, see our migration guide here: https://mlflow.org/docs/latest/model-registry.html#migrating-from-stages\n",
      "  latest_versions = client.get_latest_versions(model_name, stages=[\"Production\"])\n"
     ]
    },
    {
     "data": {
      "text/plain": [
       "'6f4c13e86ae94d7a958349c35af3fbb1'"
      ]
     },
     "execution_count": 3,
     "metadata": {},
     "output_type": "execute_result"
    }
   ],
   "source": [
    "from mlflow.tracking import MlflowClient\n",
    "from mlflow.entities import ViewType\n",
    "import mlflow\n",
    "import os\n",
    "\n",
    "EXPERIMENT_NAME = os.getenv(\"EXPERIMENT_NAME\", \"parkinson-disease-prediction-experiment\")\n",
    "\n",
    "mlflow.set_tracking_uri(\"http://localhost:5000\")\n",
    "mlflow.set_experiment(EXPERIMENT_NAME)\n",
    "\n",
    "# Initialize MLflow client\n",
    "client = MlflowClient()\n",
    "\n",
    "# Specify the model name\n",
    "model_name = \"parkinson-disease-prediction-experiment\"\n",
    "\n",
    "# Get the latest versions of the registered model\n",
    "latest_versions = client.get_latest_versions(model_name, stages=[\"Production\"])\n",
    "\n",
    "# Print run_ids of all the latest versions\n",
    "for version in latest_versions:\n",
    "\n",
    "    RUN_ID = version.run_id\n",
    "\n",
    "RUN_ID"
   ]
  },
  {
   "cell_type": "code",
   "execution_count": 4,
   "metadata": {},
   "outputs": [
    {
     "data": {
      "application/vnd.jupyter.widget-view+json": {
       "model_id": "1dbd14fe39b44212aac06d3ce4abf521",
       "version_major": 2,
       "version_minor": 0
      },
      "text/plain": [
       "Downloading artifacts:   0%|          | 0/9 [00:00<?, ?it/s]"
      ]
     },
     "metadata": {},
     "output_type": "display_data"
    },
    {
     "name": "stdout",
     "output_type": "stream",
     "text": [
      "Uploaded /var/folders/b4/lg6cghr91lg7q_c13xh443mw0000gn/T/tmpuo7a0414/models/python_env.yaml to s3://s3-parkinson-disease-prediction/6f4c13e86ae94d7a958349c35af3fbb1/artifacts/python_env.yaml\n",
      "Uploaded /var/folders/b4/lg6cghr91lg7q_c13xh443mw0000gn/T/tmpuo7a0414/models/requirements.txt to s3://s3-parkinson-disease-prediction/6f4c13e86ae94d7a958349c35af3fbb1/artifacts/requirements.txt\n",
      "Uploaded /var/folders/b4/lg6cghr91lg7q_c13xh443mw0000gn/T/tmpuo7a0414/models/MLmodel to s3://s3-parkinson-disease-prediction/6f4c13e86ae94d7a958349c35af3fbb1/artifacts/MLmodel\n",
      "Uploaded /var/folders/b4/lg6cghr91lg7q_c13xh443mw0000gn/T/tmpuo7a0414/models/model.cb to s3://s3-parkinson-disease-prediction/6f4c13e86ae94d7a958349c35af3fbb1/artifacts/model.cb\n",
      "Uploaded /var/folders/b4/lg6cghr91lg7q_c13xh443mw0000gn/T/tmpuo7a0414/models/conda.yaml to s3://s3-parkinson-disease-prediction/6f4c13e86ae94d7a958349c35af3fbb1/artifacts/conda.yaml\n",
      "Uploaded /var/folders/b4/lg6cghr91lg7q_c13xh443mw0000gn/T/tmpuo7a0414/models/metadata/python_env.yaml to s3://s3-parkinson-disease-prediction/6f4c13e86ae94d7a958349c35af3fbb1/artifacts/metadata/python_env.yaml\n",
      "Uploaded /var/folders/b4/lg6cghr91lg7q_c13xh443mw0000gn/T/tmpuo7a0414/models/metadata/requirements.txt to s3://s3-parkinson-disease-prediction/6f4c13e86ae94d7a958349c35af3fbb1/artifacts/metadata/requirements.txt\n",
      "Uploaded /var/folders/b4/lg6cghr91lg7q_c13xh443mw0000gn/T/tmpuo7a0414/models/metadata/MLmodel to s3://s3-parkinson-disease-prediction/6f4c13e86ae94d7a958349c35af3fbb1/artifacts/metadata/MLmodel\n",
      "Uploaded /var/folders/b4/lg6cghr91lg7q_c13xh443mw0000gn/T/tmpuo7a0414/models/metadata/conda.yaml to s3://s3-parkinson-disease-prediction/6f4c13e86ae94d7a958349c35af3fbb1/artifacts/metadata/conda.yaml\n",
      "Model artifacts uploaded to S3 successfully.\n"
     ]
    }
   ],
   "source": [
    "import boto3\n",
    "import os\n",
    "\n",
    "# Define S3 parameters\n",
    "bucket_name = \"s3-parkinson-disease-prediction\"\n",
    "s3_key_prefix = f\"{RUN_ID}/artifacts\"\n",
    "\n",
    "# Create an S3 client\n",
    "s3_client = boto3.client('s3')\n",
    "\n",
    "# Load the model from the MLflow model registry\n",
    "model_uri = f'runs:/{RUN_ID}/models'\n",
    "local_path = mlflow.artifacts.download_artifacts(model_uri)\n",
    "\n",
    "# Walk through the local directory and upload to S3\n",
    "for root, dirs, files in os.walk(local_path):\n",
    "    for file in files:\n",
    "        local_file_path = os.path.join(root, file)\n",
    "        s3_key = os.path.join(s3_key_prefix, os.path.relpath(local_file_path, local_path))\n",
    "        s3_client.upload_file(local_file_path, bucket_name, s3_key)\n",
    "        print(f\"Uploaded {local_file_path} to s3://{bucket_name}/{s3_key}\")\n",
    "\n",
    "print(\"Model artifacts uploaded to S3 successfully.\")"
   ]
  },
  {
   "cell_type": "markdown",
   "metadata": {},
   "source": [
    "### Load model from the S3 and predict"
   ]
  },
  {
   "cell_type": "code",
   "execution_count": 5,
   "metadata": {},
   "outputs": [
    {
     "data": {
      "application/vnd.jupyter.widget-view+json": {
       "model_id": "c4e7c1b10fe440c38c3777caf1fe0fab",
       "version_major": 2,
       "version_minor": 0
      },
      "text/plain": [
       "Downloading artifacts:   0%|          | 0/9 [00:00<?, ?it/s]"
      ]
     },
     "metadata": {},
     "output_type": "display_data"
    },
    {
     "name": "stderr",
     "output_type": "stream",
     "text": [
      "2024/07/12 15:29:46 WARNING mlflow.utils.requirements_utils: Detected one or more mismatches between the model's dependencies and the current Python environment:\n",
      " - mlflow (current: 2.14.2, required: mlflow==2.12.1)\n",
      " - ipywidgets (current: 8.1.2, required: ipywidgets==8.1.3)\n",
      " - lz4 (current: uninstalled, required: lz4==4.3.3)\n",
      " - pandas (current: 2.2.2, required: pandas==1.5.3)\n",
      " - scikit-learn (current: 1.4.2, required: scikit-learn==1.5.0)\n",
      " - scipy (current: 1.13.0, required: scipy==1.13.1)\n",
      " - xgboost (current: 2.0.3, required: xgboost==2.1.0)\n",
      "To fix the mismatches, call `mlflow.pyfunc.get_model_dependencies(model_uri)` to fetch the model's environment and install dependencies using the resulting environment file.\n",
      "2024/07/12 15:29:46 WARNING mlflow.pyfunc: The version of Python that the model was saved in, `Python 3.10.14`, differs from the version of Python that is currently running, `Python 3.9.19`, and may be incompatible\n"
     ]
    }
   ],
   "source": [
    "logged_model = f's3://s3-parkinson-disease-prediction/{RUN_ID}/artifacts'\n",
    "\n",
    "# Load model as a PyFuncModel.\n",
    "loaded_model = mlflow.pyfunc.load_model(logged_model)"
   ]
  },
  {
   "cell_type": "code",
   "execution_count": 6,
   "metadata": {},
   "outputs": [
    {
     "data": {
      "text/plain": [
       "array([0])"
      ]
     },
     "execution_count": 6,
     "metadata": {},
     "output_type": "execute_result"
    }
   ],
   "source": [
    "import pandas as pd\n",
    "\n",
    "test_data = {\n",
    "            'Age': 67,\n",
    "            'BMI': 24.77259403457728,\n",
    "            'AlcoholConsumption': 13.941385740391004,\n",
    "            'PhysicalActivity': 2.472534322357399,\n",
    "            'DietQuality': 9.593309739128369,\n",
    "            'SleepQuality': 6.060992120577725,\n",
    "            'SystolicBP': 92,\n",
    "            'DiastolicBP': 60,\n",
    "            'CholesterolTotal': 193.1381868106296,\n",
    "            'CholesterolLDL': 137.5175503762128,\n",
    "            'CholesterolHDL': 25.482467035806813,\n",
    "            'CholesterolTriglycerides': 313.66674876926953,\n",
    "            'UPDRS': 58.99092096333794,\n",
    "            'MoCA': 19.902233615718146,\n",
    "            'FunctionalAssessment': 5.104914484020905,\n",
    "            'Gender': '1',\n",
    "            'Ethnicity': '2',\n",
    "            'EducationLevel': '1',\n",
    "            'Smoking': '0',\n",
    "            'FamilyHistoryParkinsons': '0',\n",
    "            'TraumaticBrainInjury': '0',\n",
    "            'Hypertension': '1',\n",
    "            'Diabetes': '0',\n",
    "            'Depression': '0',\n",
    "            'Stroke': '0',\n",
    "            'Tremor': '0',\n",
    "            'Rigidity': '1',\n",
    "            'Bradykinesia': '1',\n",
    "            'PosturalInstability': '0',\n",
    "            'SpeechProblems': '0',\n",
    "            'SleepDisorders': '1',\n",
    "            'Constipation': '0'\n",
    "        }\n",
    "\n",
    "# Predict\n",
    "y_pred = loaded_model.predict(pd.DataFrame(test_data, index=[0]))\n",
    "y_pred"
   ]
  },
  {
   "cell_type": "markdown",
   "metadata": {},
   "source": [
    "END OF NOTEBOOK!"
   ]
  }
 ],
 "metadata": {
  "kernelspec": {
   "display_name": "mlops_env",
   "language": "python",
   "name": "python3"
  },
  "language_info": {
   "codemirror_mode": {
    "name": "ipython",
    "version": 3
   },
   "file_extension": ".py",
   "mimetype": "text/x-python",
   "name": "python",
   "nbconvert_exporter": "python",
   "pygments_lexer": "ipython3",
   "version": "3.9.19"
  }
 },
 "nbformat": 4,
 "nbformat_minor": 2
}
